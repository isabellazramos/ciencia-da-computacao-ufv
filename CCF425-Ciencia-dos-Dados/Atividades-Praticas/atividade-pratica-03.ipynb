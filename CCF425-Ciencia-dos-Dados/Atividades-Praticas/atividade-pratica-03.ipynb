{
 "cells": [
  {
   "cell_type": "markdown",
   "source": [
    "# Atividade Prática 03"
   ],
   "metadata": {}
  },
  {
   "cell_type": "markdown",
   "source": [
    "## Teorema Central do Limite\r\n",
    "Isabella Menezes Ramos - 3474"
   ],
   "metadata": {}
  },
  {
   "cell_type": "code",
   "execution_count": 12,
   "source": [
    "import pandas as pd\r\n",
    "import numpy as np"
   ],
   "outputs": [],
   "metadata": {}
  },
  {
   "cell_type": "code",
   "execution_count": 5,
   "source": [
    " pd.options.display.float_format = \"{:.2f}\".format"
   ],
   "outputs": [],
   "metadata": {}
  },
  {
   "cell_type": "code",
   "execution_count": 6,
   "source": [
    "# Ler dados de uma população de rendas (renda_populacao.csv)\r\n",
    "renda = pd.read_csv('P03-dados/renda_populacao.csv', index_col=False,header=None,squeeze=True)\r\n",
    "display(renda)"
   ],
   "outputs": [
    {
     "output_type": "display_data",
     "data": {
      "text/plain": [
       "0        9536.34\n",
       "1      267273.60\n",
       "2       39596.61\n",
       "3       24992.04\n",
       "4        9286.11\n",
       "          ...   \n",
       "9995    31717.13\n",
       "9996    30511.21\n",
       "9997     9335.55\n",
       "9998     9905.62\n",
       "9999   122687.20\n",
       "Name: 0, Length: 10000, dtype: float64"
      ]
     },
     "metadata": {}
    }
   ],
   "metadata": {}
  },
  {
   "cell_type": "code",
   "execution_count": 7,
   "source": [
    "# Calcular estatísticas descritivas dessa população (média, mediana, quartis, erro padrão, min, max)\r\n",
    "renda.describe()"
   ],
   "outputs": [
    {
     "output_type": "execute_result",
     "data": {
      "text/plain": [
       "count     10000.00\n",
       "mean      36210.55\n",
       "std       46539.07\n",
       "min         391.72\n",
       "25%       11205.69\n",
       "50%       22006.79\n",
       "75%       43049.55\n",
       "max     1119768.63\n",
       "Name: 0, dtype: float64"
      ]
     },
     "metadata": {},
     "execution_count": 7
    }
   ],
   "metadata": {}
  },
  {
   "cell_type": "code",
   "execution_count": 8,
   "source": [
    "# Plotar a distribuição dessa população (Observação: Por enquanto vamos aceitar esse código usando as bibliotecas matplotlib e seaborn. Depois vamos entender melhor como gerar gráficos)\r\n",
    "import matplotlib.pyplot as plt\r\n",
    "import seaborn as sns\r\n",
    "\r\n",
    "ax = sns.displot(renda)\r\n",
    "ax.set(xlabel='Renda', ylabel='Frequência')\r\n",
    "plt.show()"
   ],
   "outputs": [
    {
     "output_type": "display_data",
     "data": {
      "text/plain": [
       "<Figure size 360x360 with 1 Axes>"
      ],
      "image/png": "[encoded data removed]"
     },
     "metadata": {
      "needs_background": "light"
     }
    }
   ],
   "metadata": {}
  },
  {
   "cell_type": "code",
   "execution_count": 9,
   "source": [
    "# Gerar uma amostra dessa população de tamanho 100\r\n",
    "amostra = renda.sample(100)"
   ],
   "outputs": [],
   "metadata": {}
  },
  {
   "cell_type": "code",
   "execution_count": 10,
   "source": [
    "# Plotar a amostra (observação: os resultados de cada execução serão diferentes, pois estamos pegando amostras aleatórias)\r\n",
    "ax=sns.displot(amostra)\r\n",
    "ax.set(xlabel='Renda', ylabel='Frequência')\r\n",
    "plt.show()"
   ],
   "outputs": [
    {
     "output_type": "display_data",
     "data": {
      "text/plain": [
       "<Figure size 360x360 with 1 Axes>"
      ],
      "image/png": "[encoded data removed]"
     },
     "metadata": {
      "needs_background": "light"
     }
    }
   ],
   "metadata": {}
  },
  {
   "cell_type": "code",
   "execution_count": 11,
   "source": [
    "# Calcular a média da amostra. Esse valor está dentro do esperado para a população? Repita os últimos 3 passos (gerar amostra, plotar amostra, calcular média da amostra) algumas vezes para verificar o que acontece com a média. (observação: os resultados de cada execução serão diferentes, pois estamos pegando amostras aleatórias)\r\n",
    "amostra.describe()"
   ],
   "outputs": [
    {
     "output_type": "execute_result",
     "data": {
      "text/plain": [
       "count      100.00\n",
       "mean     27849.02\n",
       "std      27168.91\n",
       "min       1485.96\n",
       "25%       9235.53\n",
       "50%      21738.22\n",
       "75%      35222.14\n",
       "max     177774.28\n",
       "Name: 0, dtype: float64"
      ]
     },
     "metadata": {},
     "execution_count": 11
    }
   ],
   "metadata": {}
  },
  {
   "cell_type": "code",
   "execution_count": 13,
   "source": [
    "# Gerar 50 amostras aleatórias da população, calcular a média de cada amostra, plotar a distribuição das médias, e calcular a média das médias das amostras e o erro padrão\r\n",
    "\r\n",
    "# Gerar 50 amostras do tamanho 100 e plotar as médias das amostras\r\n",
    "medias = []\r\n",
    "for i in range(0,50):\r\n",
    "    amostra=renda.sample(100)\r\n",
    "    media = amostra.mean()\r\n",
    "    medias.append(media)\r\n",
    "\r\n",
    "# Mostra o histograma das médias\r\n",
    "ax=sns.displot(medias)\r\n",
    "ax.set(xlabel='Média da Renda', ylabel='Frequência')\r\n",
    "plt.show()\r\n",
    "\r\n",
    "media_das_medias = np.mean(medias)\r\n",
    "erro_padrao = renda.std()/np.sqrt(len(medias))\r\n",
    "\r\n",
    "print(f\"Média: {media_das_medias}\")\r\n",
    "print(f\"Erro Padrão: {erro_padrao}\")"
   ],
   "outputs": [
    {
     "output_type": "display_data",
     "data": {
      "text/plain": [
       "<Figure size 360x360 with 1 Axes>"
      ],
      "image/png": "[encoded data removed]"
     },
     "metadata": {
      "needs_background": "light"
     }
    },
    {
     "output_type": "stream",
     "name": "stdout",
     "text": [
      "Média: 35546.32207\n",
      "Erro Padrão: 6581.617721860771\n"
     ]
    }
   ],
   "metadata": {}
  },
  {
   "cell_type": "code",
   "execution_count": 14,
   "source": [
    "# Repetir o passo anterior (gerar amostras), mas agora gerar um número maior de amostras (100,250,500). Podemos observar que a distribuição das médias se aproxima mais da distribuição Normal? E o que acontece com o erro padrão?\r\n",
    "\r\n",
    "# Gerar N amostras de tamanho T e plotar as médias das amostras\r\n",
    "def analisa_amostras(N=50,T=100):\r\n",
    "\r\n",
    "    medias = []\r\n",
    "    for i in range(0,N):\r\n",
    "        amostra = renda.sample(T)\r\n",
    "        media = amostra.mean()\r\n",
    "        medias.append(media)\r\n",
    "    \r\n",
    "    # Mostra o histograma das médias\r\n",
    "    ax = sns.displot(medias)\r\n",
    "    ax.set(xlabel = 'Média da Renda', ylabel='Frequência')\r\n",
    "    plt.show()\r\n",
    "\r\n",
    "    media_das_medias = np.mean(medias)\r\n",
    "    erro_padrao = renda.std()/np.sqrt(len(medias))\r\n",
    "\r\n",
    "    print(f\"Média: {media_das_medias}\")\r\n",
    "    print(f\"Erro Padrão: {erro_padrao}\")"
   ],
   "outputs": [],
   "metadata": {}
  },
  {
   "cell_type": "code",
   "execution_count": 15,
   "source": [
    "analisa_amostras(N=250,T=100)"
   ],
   "outputs": [
    {
     "output_type": "display_data",
     "data": {
      "text/plain": [
       "<Figure size 360x360 with 1 Axes>"
      ],
      "image/png": "[encoded data removed]"
     },
     "metadata": {
      "needs_background": "light"
     }
    },
    {
     "output_type": "stream",
     "name": "stdout",
     "text": [
      "Média: 36416.281439599996\n",
      "Erro Padrão: 2943.3889255995978\n"
     ]
    }
   ],
   "metadata": {}
  },
  {
   "cell_type": "code",
   "execution_count": 16,
   "source": [
    "# Ler o arquivo de amostra de rendas (renda_amostra1.csv)\r\n",
    "amostra1 = pd.read_csv('P03-dados/renda_amostra1.csv', index_col=False,header=None,squeeze=True)"
   ],
   "outputs": [],
   "metadata": {}
  },
  {
   "cell_type": "code",
   "execution_count": 17,
   "source": [
    "# Verificar se essa amostra faz parte da população de renda (renda.csv) ou não: calcular a média e o erro padrão, verificar a quantos erros da média da população a média da amostra está\r\n",
    "\r\n",
    "media_populacao = renda.mean()\r\n",
    "media_amostra = amostra1.mean()\r\n",
    "erro_padrao = renda.std()/np.sqrt(len(amostra1))\r\n",
    "\r\n",
    "print(f'Média População: {media_populacao}')\r\n",
    "print(f'Média Amostra: {media_amostra}')\r\n",
    "print(f'Erro Padrão: {erro_padrao}')"
   ],
   "outputs": [
    {
     "output_type": "stream",
     "name": "stdout",
     "text": [
      "Média População: 36210.551772\n",
      "Média Amostra: 35515.00230000001\n",
      "Erro Padrão: 4653.906522305308\n"
     ]
    }
   ],
   "metadata": {}
  },
  {
   "cell_type": "code",
   "execution_count": 18,
   "source": [
    "# Calcula a diferença entre a média da população e da amostra, em termos do erro padrão\r\n",
    "\r\n",
    "distancia = abs(media_populacao-media_amostra)/erro_padrao\r\n",
    "print(f'A diferença entre a média da população e da amostra é de {distancia} erros padrão.')"
   ],
   "outputs": [
    {
     "output_type": "stream",
     "name": "stdout",
     "text": [
      "A diferença entre a média da população e da amostra é de 0.14945497264853783 erros padrão.\n"
     ]
    }
   ],
   "metadata": {}
  },
  {
   "cell_type": "markdown",
   "source": [
    "## Atividades"
   ],
   "metadata": {}
  },
  {
   "cell_type": "markdown",
   "source": [
    "### Ler dados de uma população de pesos (pesos_populacao.csv) e em seguida, fazer as seguintes verificações:\r\n",
    "\r\n",
    "### a) Ler dados da amostra de pesos 1 (amostra_pesos1.csv) e verificar se essa amostra foi retirada ou não da população de pesos. Justifique.\r\n"
   ],
   "metadata": {}
  },
  {
   "cell_type": "code",
   "execution_count": 22,
   "source": [
    "pesos = pd.read_csv('P03-dados/pesos_populacao.csv', index_col=False,header=None,squeeze=True)"
   ],
   "outputs": [],
   "metadata": {}
  },
  {
   "cell_type": "code",
   "execution_count": 38,
   "source": [
    "def getDistancia(populacao, amostra):\r\n",
    "    media_populacao = populacao.mean()\r\n",
    "    media_amostra = amostra.mean()\r\n",
    "    erro_padrao = populacao.std()/np.sqrt(len(amostra))\r\n",
    "\r\n",
    "    distancia = abs(media_populacao-media_amostra)/erro_padrao\r\n",
    "\r\n",
    "    return distancia\r\n"
   ],
   "outputs": [],
   "metadata": {}
  },
  {
   "cell_type": "code",
   "execution_count": 20,
   "source": [
    "amostra_peso1 = pd.read_csv('P03-dados/pesos_amostra1.csv', index_col=False,header=None,squeeze=True)"
   ],
   "outputs": [],
   "metadata": {}
  },
  {
   "cell_type": "code",
   "execution_count": 26,
   "source": [
    "print(f'A diferença entre a média da população e da amostra é de {getDistancia(pesos,amostra_peso1)} erros padrão.')\r\n",
    "print('Logo, essa amostra foi retirada da população.')"
   ],
   "outputs": [
    {
     "output_type": "stream",
     "name": "stdout",
     "text": [
      "A diferença entre a média da população e da amostra é de 0.06787193856048412 erros padrão.\n",
      "Logo, essa amostra foi retirada da população.\n"
     ]
    }
   ],
   "metadata": {}
  },
  {
   "cell_type": "markdown",
   "source": [
    "### b) Ler dados da amostra de pesos 2 (amostra_pesos2.csv) e verificar se essa amostra foi retirada ou não da população de pesos. Justifique."
   ],
   "metadata": {}
  },
  {
   "cell_type": "code",
   "execution_count": 27,
   "source": [
    "amostra_peso2 = pd.read_csv('P03-dados/pesos_amostra2.csv', index_col=False,header=None,squeeze=True)"
   ],
   "outputs": [],
   "metadata": {}
  },
  {
   "cell_type": "code",
   "execution_count": 29,
   "source": [
    "print(f'A diferença entre a média da população e da amostra é de {getDistancia(pesos,amostra_peso2)} erros padrão.')\r\n",
    "print('Logo, essa amostra NÂO foi retirada da população.')"
   ],
   "outputs": [
    {
     "output_type": "stream",
     "name": "stdout",
     "text": [
      "A diferença entre a média da população e da amostra é de 59.24766210534879 erros padrão.\n",
      "Logo, essa amostra NÂO foi retirada da população.\n"
     ]
    }
   ],
   "metadata": {}
  },
  {
   "cell_type": "markdown",
   "source": [
    "### c) Ler dados da amostra de pesos 3 (amostra_pesos3.csv) e verificar se essa amostra foi retirada ou não da população de pesos. Justifique."
   ],
   "metadata": {}
  },
  {
   "cell_type": "code",
   "execution_count": 30,
   "source": [
    "amostra_peso3 = pd.read_csv('P03-dados/pesos_amostra3.csv', index_col=False,header=None,squeeze=True)"
   ],
   "outputs": [],
   "metadata": {}
  },
  {
   "cell_type": "code",
   "execution_count": 31,
   "source": [
    "print(f'A diferença entre a média da população e da amostra é de {getDistancia(pesos,amostra_peso3)} erros padrão.')\r\n",
    "print('Logo, essa amostra NÂO foi retirada da população.')"
   ],
   "outputs": [
    {
     "output_type": "stream",
     "name": "stdout",
     "text": [
      "A diferença entre a média da população e da amostra é de 32.04554795410499 erros padrão.\n",
      "Logo, essa amostra NÂO foi retirada da população.\n"
     ]
    }
   ],
   "metadata": {}
  },
  {
   "cell_type": "markdown",
   "source": [
    "### d) Ler dados da amostra de pesos 4 (amostra_pesos4.csv) e verificar se essa amostra foi retirada ou não da população de pesos. Justifique."
   ],
   "metadata": {}
  },
  {
   "cell_type": "code",
   "execution_count": 32,
   "source": [
    "amostra_peso4 = pd.read_csv('P03-dados/pesos_amostra4.csv', index_col=False,header=None,squeeze=True)"
   ],
   "outputs": [],
   "metadata": {}
  },
  {
   "cell_type": "code",
   "execution_count": 39,
   "source": [
    "print(f'A diferença entre a média da população e da amostra é de {getDistancia(pesos,amostra_peso4)} erros padrão.')\r\n",
    "print('Logo, essa amostra foi retirada da população.')"
   ],
   "outputs": [
    {
     "output_type": "stream",
     "name": "stdout",
     "text": [
      "A diferença entre a média da população e da amostra é de 5.098573438622101 erros padrão.\n",
      "Logo, essa amostra foi retirada da população.\n"
     ]
    }
   ],
   "metadata": {}
  },
  {
   "cell_type": "markdown",
   "source": [
    "### e) É provável que as amostras 2 e 3 tenham vindo de uma mesma população? Justifique"
   ],
   "metadata": {}
  },
  {
   "cell_type": "code",
   "execution_count": 41,
   "source": [
    "print(f'A diferença entre a média da população e da amostra é de {getDistancia(amostra_peso2,amostra_peso3)} erros padrão.')\r\n",
    "print(\"Como o erro padrão entre as duas amostras são bem altos, provavelmente as amostras 2 e 3 NÃO tenham vindo da mesma população.\")"
   ],
   "outputs": [
    {
     "output_type": "stream",
     "name": "stdout",
     "text": [
      "A diferença entre a média da população e da amostra é de 69.02689606928726 erros padrão.\n",
      "Como o erro padrão entre as duas amostras são bem altos, provavelmente as amostras 2 e 3 NÃO tenham vindo da mesma população.\n"
     ]
    }
   ],
   "metadata": {}
  }
 ],
 "metadata": {
  "orig_nbformat": 4,
  "language_info": {
   "name": "python",
   "version": "3.9.5",
   "mimetype": "text/x-python",
   "codemirror_mode": {
    "name": "ipython",
    "version": 3
   },
   "pygments_lexer": "ipython3",
   "nbconvert_exporter": "python",
   "file_extension": ".py"
  },
  "kernelspec": {
   "name": "python3",
   "display_name": "Python 3.9.5 64-bit (windows store)"
  },
  "interpreter": {
   "hash": "154ac361cf7e5807a61d6a19a9fffc90296dda21412df37921eaada914291133"
  }
 },
 "nbformat": 4,
 "nbformat_minor": 2
}