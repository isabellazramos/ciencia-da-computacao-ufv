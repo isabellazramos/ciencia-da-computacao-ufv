{
 "cells": [
  {
   "cell_type": "markdown",
   "source": [
    "# Atividade Prática 02\r\n",
    "## Estatística Descritiva\r\n",
    "\r\n",
    "Isabella Menezes Ramos - 3474"
   ],
   "metadata": {}
  },
  {
   "cell_type": "code",
   "execution_count": 1,
   "source": [
    "import pandas as pd"
   ],
   "outputs": [],
   "metadata": {}
  },
  {
   "cell_type": "code",
   "execution_count": 2,
   "source": [
    "data = pd.read_csv(\"series.csv\", index_col = False, header= None, squeeze = True)\r\n",
    "display(data)"
   ],
   "outputs": [
    {
     "output_type": "display_data",
     "data": {
      "text/plain": [
       "0      13\n",
       "1       3\n",
       "2       5\n",
       "3       6\n",
       "4       7\n",
       "5       9\n",
       "6       5\n",
       "7      33\n",
       "8      67\n",
       "9     432\n",
       "10      5\n",
       "11      7\n",
       "12     35\n",
       "13     67\n",
       "14     83\n",
       "15     57\n",
       "16     88\n",
       "Name: 0, dtype: int64"
      ]
     },
     "metadata": {}
    }
   ],
   "metadata": {}
  },
  {
   "cell_type": "code",
   "execution_count": 3,
   "source": [
    "# Explorar os dados com base em estatísticas descritivas\r\n",
    "\r\n",
    "# Minimo\r\n",
    "print(\"O mínimo é: \", data.min())\r\n",
    "\r\n",
    "# Maximo\r\n",
    "print(\"O máximo é: \",data.max())\r\n",
    "\r\n",
    "# Médio\r\n",
    "print(\"A médio é: \", format(data.mean(), \".2f\"))\r\n",
    "\r\n",
    "#Desvio Padrão\r\n",
    "print(\"O desvio padrão é: \", format(data.std(), \".2f\"))\r\n",
    "\r\n",
    "#Moda \r\n",
    "print(\"A moda é: \", data.mode())"
   ],
   "outputs": [
    {
     "output_type": "stream",
     "name": "stdout",
     "text": [
      "O mínimo é:  3\n",
      "O máximo é:  432\n",
      "A médio é:  54.24\n",
      "O desvio padrão é:  101.94\n",
      "A moda é:  0    5\n",
      "dtype: int64\n"
     ]
    }
   ],
   "metadata": {}
  },
  {
   "cell_type": "code",
   "execution_count": 4,
   "source": [
    "# Calcular os Percentis\r\n",
    "\r\n",
    "# Percentil 25 (1o quartil)\r\n",
    "print(\"Percentil 25: \",format(data.quantile(.25),\".2f\"))\r\n",
    "\r\n",
    "# Percentil 50 (2o quartil)\r\n",
    "print(\"Percentil 50: \",format(data.quantile(.50),\".2f\"))\r\n",
    "\r\n",
    "# Percentil 75 (3o quartil)\r\n",
    "print(\"Percentil 75: \",format(data.quantile(.75),\".2f\"))\r\n",
    "\r\n",
    "# Percentil 95 \r\n",
    "print(\"Percentil 95: \",format(data.quantile(.95),\".2f\"))"
   ],
   "outputs": [
    {
     "output_type": "stream",
     "name": "stdout",
     "text": [
      "Percentil 25:  6.00\n",
      "Percentil 50:  13.00\n",
      "Percentil 75:  67.00\n",
      "Percentil 95:  156.80\n"
     ]
    }
   ],
   "metadata": {}
  },
  {
   "cell_type": "code",
   "execution_count": 5,
   "source": [
    "# Calcular a tabela de frequências\r\n",
    "data.value_counts()"
   ],
   "outputs": [
    {
     "output_type": "execute_result",
     "data": {
      "text/plain": [
       "5      3\n",
       "7      2\n",
       "67     2\n",
       "33     1\n",
       "3      1\n",
       "6      1\n",
       "9      1\n",
       "13     1\n",
       "432    1\n",
       "83     1\n",
       "88     1\n",
       "57     1\n",
       "35     1\n",
       "Name: 0, dtype: int64"
      ]
     },
     "metadata": {},
     "execution_count": 5
    }
   ],
   "metadata": {}
  },
  {
   "cell_type": "markdown",
   "source": [
    "## Atividade"
   ],
   "metadata": {}
  },
  {
   "cell_type": "markdown",
   "source": [
    "### 1- Faça um código para ler os arquivos altura_homens.csv e altura_mulheres.csv. Esses arquivos contém as alturas (em cm) de 1000 homens e 1000 mulheres, respectivamente. Em seguida, responda às seguintes perguntas:"
   ],
   "metadata": {}
  },
  {
   "cell_type": "code",
   "execution_count": 6,
   "source": [
    "altura_homens = pd.read_csv(\"altura_homens.csv\",index_col = False, header= None, squeeze = True)\r\n",
    "altura_mulheres = pd.read_csv(\"altura_mulheres.csv\",index_col = False, header= None, squeeze = True)"
   ],
   "outputs": [],
   "metadata": {}
  },
  {
   "cell_type": "markdown",
   "source": [
    "#### a) Qual a altura mínima e máxima dos homens e das mulheres dessas amostras?"
   ],
   "metadata": {}
  },
  {
   "cell_type": "code",
   "execution_count": 7,
   "source": [
    "print(f'Altura mulheres\\nMínima {min(altura_mulheres)}\\nMáxima {max(altura_mulheres)}')\r\n",
    "print(f'Altura homens\\nMínima {min(altura_mulheres)}\\nMáxima {max(altura_homens)}')"
   ],
   "outputs": [
    {
     "output_type": "stream",
     "name": "stdout",
     "text": [
      "Altura mulheres\n",
      "Mínima 132.82\n",
      "Máxima 190.3\n",
      "Altura homens\n",
      "Mínima 132.82\n",
      "Máxima 221.0\n"
     ]
    }
   ],
   "metadata": {}
  },
  {
   "cell_type": "markdown",
   "source": [
    "#### b) Qual a média de altura dos homens e das mulheres? E qual a mediana dessas alturas?"
   ],
   "metadata": {}
  },
  {
   "cell_type": "code",
   "execution_count": 8,
   "source": [
    "print(f'Altura homens\\nMédia: {altura_homens.mean()}\\nMediana:{altura_homens.median()}')\r\n",
    "print(f'Altura mulheres\\nMédia: {altura_mulheres.mean()}\\nMediana:{altura_mulheres.median()}')"
   ],
   "outputs": [
    {
     "output_type": "stream",
     "name": "stdout",
     "text": [
      "Altura homens\n",
      "Média: 175.05890000000002\n",
      "Mediana:174.575\n",
      "Altura mulheres\n",
      "Média: 160.11670999999998\n",
      "Mediana:160.055\n"
     ]
    }
   ],
   "metadata": {}
  },
  {
   "cell_type": "markdown",
   "source": [
    "#### c) Qual o desvio padrão da altura dos homens e das mulheres?"
   ],
   "metadata": {}
  },
  {
   "cell_type": "code",
   "execution_count": 9,
   "source": [
    "print(f'Altura homens\\nDesvio Padrão: {altura_homens.std()}')\r\n",
    "print(f'Altura mulheres\\nDesvio Padrão: {altura_mulheres.std()}')"
   ],
   "outputs": [
    {
     "output_type": "stream",
     "name": "stdout",
     "text": [
      "Altura homens\n",
      "Desvio Padrão: 15.325255039705931\n",
      "Altura mulheres\n",
      "Desvio Padrão: 9.702241068828256\n"
     ]
    }
   ],
   "metadata": {}
  },
  {
   "cell_type": "markdown",
   "source": [
    "#### d) Qual o percentual de homens com altura menor que 160cm?"
   ],
   "metadata": {}
  },
  {
   "cell_type": "code",
   "execution_count": 10,
   "source": [
    "print(f'{(len(altura_homens[altura_homens < 160])/len(altura_homens))*100}%')"
   ],
   "outputs": [
    {
     "output_type": "stream",
     "name": "stdout",
     "text": [
      "15.6%\n"
     ]
    }
   ],
   "metadata": {}
  },
  {
   "cell_type": "markdown",
   "source": [
    "#### e) Qual o percentual de mulheres com altura maior que 180cm?"
   ],
   "metadata": {}
  },
  {
   "cell_type": "code",
   "execution_count": 11,
   "source": [
    "print(f'{(len(altura_mulheres[altura_mulheres > 180])/len(altura_mulheres))*100}%')"
   ],
   "outputs": [
    {
     "output_type": "stream",
     "name": "stdout",
     "text": [
      "2.4%\n"
     ]
    }
   ],
   "metadata": {}
  },
  {
   "cell_type": "markdown",
   "source": [
    "#### f) Um homem com altura 185cm está em qual percentil? (pesquise sobre a função percentileofscore do pacote scipy)"
   ],
   "metadata": {}
  },
  {
   "cell_type": "code",
   "execution_count": 12,
   "source": [
    "from scipy import stats\r\n",
    "\r\n",
    "print(f'Está no {stats.percentileofscore(altura_homens,185)} percentil.')"
   ],
   "outputs": [
    {
     "output_type": "stream",
     "name": "stdout",
     "text": [
      "Está no 73.9 percentil.\n"
     ]
    }
   ],
   "metadata": {}
  },
  {
   "cell_type": "markdown",
   "source": [
    "#### g) Uma mulher com altura 150cm está em qual percentil?"
   ],
   "metadata": {}
  },
  {
   "cell_type": "code",
   "execution_count": 13,
   "source": [
    "print(f'Está no {stats.percentileofscore(altura_mulheres,150)} percentil.')"
   ],
   "outputs": [
    {
     "output_type": "stream",
     "name": "stdout",
     "text": [
      "Está no 14.6 percentil.\n"
     ]
    }
   ],
   "metadata": {}
  },
  {
   "cell_type": "markdown",
   "source": [
    "#### h) Quais as três alturas de homens que são as mais frequentes? Quantos homens possuem essas alturas?"
   ],
   "metadata": {}
  },
  {
   "cell_type": "code",
   "execution_count": 14,
   "source": [
    "import collections\r\n",
    "\r\n",
    "print(f'Altura e quantidade de homens respectivamente:\\n{collections.Counter(altura_homens).most_common(3)}')"
   ],
   "outputs": [
    {
     "output_type": "stream",
     "name": "stdout",
     "text": [
      "Altura e quantidade de homens respectivamente:\n",
      "[(180.7, 3), (165.43, 3), (169.17, 3)]\n"
     ]
    }
   ],
   "metadata": {}
  },
  {
   "cell_type": "markdown",
   "source": [
    "#### i) Quais as três alturas de mulheres que são as mais frequentes? Quantas mulheres possuem essas alturas?"
   ],
   "metadata": {}
  },
  {
   "cell_type": "code",
   "execution_count": 15,
   "source": [
    "import collections\r\n",
    "\r\n",
    "print(f'Altura e quantidade de homens respectivamente:\\n{collections.Counter(altura_mulheres).most_common(3)}')"
   ],
   "outputs": [
    {
     "output_type": "stream",
     "name": "stdout",
     "text": [
      "Altura e quantidade de homens respectivamente:\n",
      "[(163.27, 3), (149.26, 3), (152.57, 3)]\n"
     ]
    }
   ],
   "metadata": {}
  },
  {
   "cell_type": "markdown",
   "source": [
    "#### j) Um homem com altura 185cm está distante quantos desvios padrões da média dos homens?"
   ],
   "metadata": {}
  },
  {
   "cell_type": "code",
   "execution_count": 16,
   "source": [
    "print((175 - altura_homens.std())/altura_homens.mean())"
   ],
   "outputs": [
    {
     "output_type": "stream",
     "name": "stdout",
     "text": [
      "0.9121201204868422\n"
     ]
    }
   ],
   "metadata": {}
  },
  {
   "cell_type": "markdown",
   "source": [
    "#### k) Um homem com altura 145cm está distante quantos desvios padrões da média dos homens?"
   ],
   "metadata": {}
  },
  {
   "cell_type": "code",
   "execution_count": 17,
   "source": [
    "print((145 - altura_homens.std())/altura_homens.mean())"
   ],
   "outputs": [
    {
     "output_type": "stream",
     "name": "stdout",
     "text": [
      "0.7407492276045038\n"
     ]
    }
   ],
   "metadata": {}
  },
  {
   "cell_type": "markdown",
   "source": [
    "#### l) Uma mulher com altura 185cm está distante quantos desvios padrões da média das mulheres?"
   ],
   "metadata": {}
  },
  {
   "cell_type": "code",
   "execution_count": 18,
   "source": [
    "print((185 - altura_mulheres.std())/altura_mulheres.mean())"
   ],
   "outputs": [
    {
     "output_type": "stream",
     "name": "stdout",
     "text": [
      "1.0948123961026415\n"
     ]
    }
   ],
   "metadata": {}
  },
  {
   "cell_type": "markdown",
   "source": [
    "#### m) Uma mulher com altura 145cm está distante quantos desvios padrões da média das mulheres?"
   ],
   "metadata": {}
  },
  {
   "cell_type": "code",
   "execution_count": 19,
   "source": [
    "print((145 - altura_mulheres.std())/altura_mulheres.mean())"
   ],
   "outputs": [
    {
     "output_type": "stream",
     "name": "stdout",
     "text": [
      "0.8449946225548337\n"
     ]
    }
   ],
   "metadata": {}
  },
  {
   "cell_type": "markdown",
   "source": [
    "#### n) É possível afirmar com determinado grau de confiança que uma pessoa com altura 150cm é um homem ou uma mulher"
   ],
   "metadata": {}
  },
  {
   "cell_type": "code",
   "execution_count": 20,
   "source": [
    "mean_m = altura_mulheres.mean()\r\n",
    "std_m = altura_mulheres.std()\r\n",
    "print(mean_m,std_m)\r\n",
    "\r\n",
    "count = len(altura_mulheres[altura_mulheres<155])\r\n",
    "percentual_m = count * 100 / len(altura_mulheres)\r\n",
    "print(percentual_m)\r\n",
    "\r\n",
    "print(\"----------------------------------\")\r\n",
    "\r\n",
    "mean_h = altura_homens.mean()\r\n",
    "std_h = altura_homens.std()\r\n",
    "print(mean_h,std_h)\r\n",
    "\r\n",
    "count = len(altura_homens[altura_homens<155])\r\n",
    "percentual_h = count * 100 / len(altura_homens)\r\n",
    "print(percentual_h)\r\n",
    "\r\n",
    "print(\"----------------------------------\")\r\n",
    "\r\n",
    "print(\"É provável que essa pessoa seja uma mulher.\")"
   ],
   "outputs": [
    {
     "output_type": "stream",
     "name": "stdout",
     "text": [
      "160.11670999999998 9.702241068828256\n",
      "31.0\n",
      "----------------------------------\n",
      "175.05890000000002 15.325255039705931\n",
      "9.4\n",
      "----------------------------------\n",
      "É provável que essa pessoa seja uma mulher.\n"
     ]
    }
   ],
   "metadata": {}
  },
  {
   "cell_type": "markdown",
   "source": [
    "#### o) E uma pessoa com altura 190cm?"
   ],
   "metadata": {}
  },
  {
   "cell_type": "code",
   "execution_count": 21,
   "source": [
    "count = len(altura_mulheres[altura_mulheres>185])\r\n",
    "percentual_m = count * 100 / len(altura_mulheres)\r\n",
    "print(percentual_m)\r\n",
    "\r\n",
    "print(\"----------------------------------\")\r\n",
    "\r\n",
    "count = len(altura_homens[altura_homens>185])\r\n",
    "percentual_h = count * 100 / len(altura_homens)\r\n",
    "print(percentual_h)\r\n",
    "print(\"----------------------------------\")\r\n",
    "\r\n",
    "print(\"É provável que essa pessoa seja um homem.\")"
   ],
   "outputs": [
    {
     "output_type": "stream",
     "name": "stdout",
     "text": [
      "0.5\n",
      "----------------------------------\n",
      "26.1\n",
      "----------------------------------\n",
      "É provável que essa pessoa seja um homem.\n"
     ]
    }
   ],
   "metadata": {}
  },
  {
   "cell_type": "markdown",
   "source": [
    "#### p) E uma pessoa com altura 165cm?"
   ],
   "metadata": {}
  },
  {
   "cell_type": "code",
   "execution_count": 22,
   "source": [
    "count = len(altura_mulheres[altura_mulheres<170])\r\n",
    "percentual_m = count * 100 / len(altura_mulheres)\r\n",
    "print(percentual_m)\r\n",
    "\r\n",
    "print(\"----------------------------------\")\r\n",
    "\r\n",
    "count = len(altura_homens[altura_homens<170])\r\n",
    "percentual_h = count * 100 / len(altura_homens)\r\n",
    "print(percentual_h)\r\n",
    "\r\n",
    "print(\"----------------------------------\")\r\n",
    "\r\n",
    "print(\"É provável que essa pessoa seja uma mulher.\")"
   ],
   "outputs": [
    {
     "output_type": "stream",
     "name": "stdout",
     "text": [
      "84.4\n",
      "----------------------------------\n",
      "35.6\n",
      "----------------------------------\n",
      "É provável que essa pessoa seja uma mulher.\n"
     ]
    }
   ],
   "metadata": {}
  },
  {
   "cell_type": "markdown",
   "source": [
    "#### q) As alturas dos homens e mulheres seguem uma distribuição Normal?"
   ],
   "metadata": {}
  },
  {
   "cell_type": "code",
   "execution_count": 23,
   "source": [
    "print(f'Mulheres:\\n Média: {altura_mulheres.mean()}\\n Mediana: {altura_mulheres.median()}\\n Moda: {altura_mulheres.mode()}\\n')\r\n",
    "print(\"-----------\")\r\n",
    "print(f'Homens:\\n Média: {altura_homens.mean()}\\n Mediana: {altura_homens.median()}\\n Moda: {altura_homens.mode()}\\n')\r\n",
    "print(\"-----------\")\r\n",
    "print(\"Baseado nas informações acima, podemos afirmar que as alturas seguem uma distribuição normal.\")"
   ],
   "outputs": [
    {
     "output_type": "stream",
     "name": "stdout",
     "text": [
      "Mulheres:\n",
      " Média: 160.11670999999998\n",
      " Mediana: 160.055\n",
      " Moda: 0    149.26\n",
      "1    152.57\n",
      "2    155.64\n",
      "3    156.37\n",
      "4    157.62\n",
      "5    163.27\n",
      "6    163.36\n",
      "7    164.17\n",
      "8    165.12\n",
      "dtype: float64\n",
      "\n",
      "-----------\n",
      "Homens:\n",
      " Média: 175.05890000000002\n",
      " Mediana: 174.575\n",
      " Moda: 0    165.43\n",
      "1    169.17\n",
      "2    169.97\n",
      "3    174.38\n",
      "4    180.70\n",
      "5    183.22\n",
      "6    185.74\n",
      "dtype: float64\n",
      "\n",
      "-----------\n",
      "Baseado nas informações acima, podemos afirmar que as alturas seguem uma distribuição normal.\n"
     ]
    }
   ],
   "metadata": {}
  },
  {
   "cell_type": "markdown",
   "source": [
    "### 2- Para que serve a função “describe()” de uma Series?"
   ],
   "metadata": {}
  },
  {
   "cell_type": "code",
   "execution_count": 24,
   "source": [
    "# R: fornece os principais dados estatísticos de uma Serie\r\n",
    "altura_homens.describe()"
   ],
   "outputs": [
    {
     "output_type": "execute_result",
     "data": {
      "text/plain": [
       "count    1000.000000\n",
       "mean      175.058900\n",
       "std        15.325255\n",
       "min       120.050000\n",
       "25%       164.800000\n",
       "50%       174.575000\n",
       "75%       185.590000\n",
       "max       221.000000\n",
       "Name: 0, dtype: float64"
      ]
     },
     "metadata": {},
     "execution_count": 24
    }
   ],
   "metadata": {}
  },
  {
   "cell_type": "markdown",
   "source": [
    "### 3- Para que serve a função “unique()” de uma Series?"
   ],
   "metadata": {}
  },
  {
   "cell_type": "code",
   "execution_count": 25,
   "source": [
    "# R: exibe os valores únicos de uma determinada Serie.\r\n",
    "\r\n",
    "altura_homens.unique()"
   ],
   "outputs": [
    {
     "output_type": "execute_result",
     "data": {
      "text/plain": [
       "array([185.24, 172.64, 161.96, 163.68, 156.02, 191.98, 189.86, 199.45,\n",
       "       187.44, 167.37, 176.55, 167.59, 179.1 , 185.89, 169.33, 168.87,\n",
       "       164.33, 170.82, 159.55, 172.67, 180.7 , 198.36, 177.06, 183.35,\n",
       "       170.87, 159.79, 175.42, 181.83, 159.43, 183.77, 161.69, 178.27,\n",
       "       202.19, 184.51, 185.49, 175.84, 145.36, 164.84, 199.64, 170.22,\n",
       "       161.64, 164.21, 152.95, 163.62, 195.44, 177.25, 185.19, 168.11,\n",
       "       175.19, 177.4 , 151.27, 182.41, 173.64, 170.78, 170.23, 218.04,\n",
       "       207.77, 160.48, 187.69, 138.37, 173.34, 146.57, 204.05, 164.88,\n",
       "       150.17, 162.98, 193.3 , 176.73, 187.12, 174.25, 174.32, 188.89,\n",
       "       181.91, 175.11, 164.74, 165.2 , 172.48, 177.58, 186.12, 144.12,\n",
       "       185.79, 195.56, 158.8 , 204.1 , 158.68, 165.43, 189.61, 199.22,\n",
       "       164.13, 179.05, 203.05, 194.39, 166.78, 170.66, 185.44, 178.62,\n",
       "       164.96, 170.41, 166.94, 196.69, 184.85, 201.62, 165.87, 162.82,\n",
       "       174.08, 159.2 , 167.55, 170.11, 199.6 , 156.9 , 196.27, 175.08,\n",
       "       191.08, 188.66, 170.9 , 174.85, 174.54, 155.07, 188.69, 199.35,\n",
       "       162.23, 188.92, 146.12, 175.44, 171.48, 165.56, 188.31, 179.67,\n",
       "       162.36, 180.23, 171.62, 163.28, 151.24, 167.75, 169.17, 177.82,\n",
       "       169.97, 180.49, 150.72, 177.61, 164.  , 173.38, 190.1 , 212.21,\n",
       "       181.37, 168.81, 190.82, 187.27, 166.1 , 196.48, 182.33, 190.76,\n",
       "       167.23, 167.22, 174.58, 189.96, 193.45, 163.26, 180.45, 198.76,\n",
       "       141.35, 166.9 , 181.54, 188.1 , 182.03, 182.91, 152.54, 189.64,\n",
       "       147.06, 183.53, 196.54, 167.79, 184.57, 172.05, 189.52, 199.  ,\n",
       "       194.19, 164.05, 177.44, 146.22, 175.22, 190.41, 176.77, 195.13,\n",
       "       171.67, 158.11, 153.62, 210.52, 192.62, 165.54, 151.57, 167.96,\n",
       "       184.34, 163.35, 160.34, 169.93, 204.35, 161.43, 140.85, 203.31,\n",
       "       189.38, 192.57, 211.07, 197.51, 192.26, 170.85, 166.71, 158.27,\n",
       "       172.99, 181.71, 185.13, 162.34, 186.2 , 179.58, 188.53, 156.51,\n",
       "       171.56, 173.96, 163.46, 189.31, 188.79, 158.66, 183.4 , 217.06,\n",
       "       164.54, 175.47, 172.96, 172.7 , 174.59, 170.59, 164.8 , 213.96,\n",
       "       174.07, 163.67, 165.25, 192.55, 171.61, 161.47, 155.08, 139.26,\n",
       "       169.85, 165.09, 207.43, 186.34, 155.84, 156.05, 184.23, 185.16,\n",
       "       155.8 , 150.98, 193.28, 169.43, 176.14, 174.02, 211.35, 171.06,\n",
       "       139.21, 163.42, 166.22, 187.61, 180.57, 189.51, 182.43, 152.17,\n",
       "       184.61, 179.87, 138.61, 196.49, 189.97, 169.16, 188.08, 167.95,\n",
       "       150.32, 161.32, 202.12, 159.01, 206.33, 176.37, 172.72, 188.57,\n",
       "       153.26, 188.26, 217.74, 178.15, 169.12, 177.01, 200.23, 181.11,\n",
       "       183.22, 172.3 , 171.9 , 162.5 , 177.07, 189.75, 165.02, 183.78,\n",
       "       179.28, 157.39, 133.85, 174.68, 165.04, 143.67, 176.79, 175.6 ,\n",
       "       174.06, 144.5 , 177.56, 170.04, 164.47, 176.57, 198.56, 180.75,\n",
       "       160.96, 181.31, 173.76, 183.99, 196.13, 199.63, 186.  , 216.63,\n",
       "       160.56, 144.27, 170.84, 146.61, 195.3 , 184.64, 163.2 , 176.86,\n",
       "       181.84, 185.59, 154.75, 161.38, 178.69, 172.62, 168.04, 183.62,\n",
       "       181.07, 166.09, 165.77, 173.8 , 174.38, 181.12, 161.6 , 171.07,\n",
       "       174.78, 166.53, 183.98, 174.97, 167.36, 173.91, 184.46, 194.24,\n",
       "       194.89, 173.98, 194.72, 167.45, 201.35, 189.78, 176.33, 208.68,\n",
       "       156.34, 182.55, 167.48, 183.73, 161.76, 190.78, 187.71, 153.3 ,\n",
       "       161.11, 184.19, 188.22, 179.92, 142.94, 173.72, 155.04, 190.16,\n",
       "       182.83, 183.9 , 204.79, 171.29, 162.99, 178.  , 198.32, 189.11,\n",
       "       179.47, 168.98, 193.7 , 178.6 , 202.5 , 172.08, 188.84, 148.95,\n",
       "       173.83, 193.1 , 203.54, 155.27, 162.06, 181.88, 165.51, 159.29,\n",
       "       162.01, 188.62, 156.84, 183.48, 199.86, 153.21, 167.94, 172.94,\n",
       "       176.75, 186.29, 179.53, 152.97, 183.76, 173.69, 160.84, 177.75,\n",
       "       201.27, 186.36, 174.44, 173.21, 182.26, 174.57, 187.72, 177.13,\n",
       "       162.79, 164.09, 188.63, 171.31, 153.51, 180.83, 196.21, 161.56,\n",
       "       189.88, 166.72, 165.55, 163.49, 170.58, 171.57, 180.26, 205.67,\n",
       "       183.01, 182.14, 190.13, 183.86, 170.92, 198.04, 174.98, 165.37,\n",
       "       166.86, 167.43, 184.86, 170.98, 178.54, 182.53, 187.82, 174.72,\n",
       "       195.6 , 200.07, 183.71, 162.85, 171.3 , 201.03, 173.27, 154.16,\n",
       "       174.41, 195.62, 207.6 , 171.41, 184.8 , 154.94, 120.05, 175.48,\n",
       "       175.93, 179.22, 172.18, 156.86, 185.57, 149.55, 154.52, 196.57,\n",
       "       181.97, 154.26, 179.57, 174.77, 168.92, 158.35, 170.93, 189.15,\n",
       "       193.93, 178.25, 185.72, 166.15, 172.8 , 174.14, 174.17, 193.66,\n",
       "       198.62, 164.34, 177.74, 161.23, 169.21, 149.09, 171.27, 183.46,\n",
       "       192.51, 163.04, 188.35, 164.79, 183.15, 157.62, 175.54, 152.4 ,\n",
       "       149.96, 190.45, 180.47, 189.39, 164.4 , 179.91, 191.  , 205.43,\n",
       "       169.09, 186.99, 172.16, 177.63, 181.68, 210.64, 169.44, 205.54,\n",
       "       174.86, 200.66, 175.37, 142.62, 172.86, 173.4 , 147.31, 162.64,\n",
       "       161.82, 174.43, 193.36, 174.6 , 200.25, 194.3 , 176.85, 181.29,\n",
       "       173.89, 159.56, 168.97, 191.22, 188.64, 186.76, 163.34, 172.76,\n",
       "       201.38, 191.56, 192.33, 170.28, 183.27, 185.86, 170.24, 180.86,\n",
       "       180.32, 176.13, 143.9 , 176.44, 140.12, 140.33, 198.12, 168.08,\n",
       "       170.75, 191.12, 187.39, 168.63, 202.05, 155.44, 163.52, 144.66,\n",
       "       184.03, 180.34, 201.65, 179.72, 151.75, 177.15, 151.49, 152.07,\n",
       "       167.15, 171.28, 154.82, 177.21, 182.52, 167.88, 199.88, 163.41,\n",
       "       166.2 , 157.36, 187.13, 168.89, 178.96, 171.86, 154.64, 151.45,\n",
       "       189.2 , 160.74, 187.67, 200.55, 174.45, 160.37, 175.26, 176.11,\n",
       "       177.54, 175.36, 172.23, 178.8 , 188.97, 155.05, 159.75, 179.34,\n",
       "       193.38, 173.53, 185.74, 144.78, 196.41, 157.98, 163.43, 172.9 ,\n",
       "       177.91, 177.11, 152.5 , 150.6 , 167.04, 170.94, 165.1 , 183.63,\n",
       "       180.4 , 164.95, 147.99, 198.45, 186.07, 204.28, 175.73, 189.44,\n",
       "       187.45, 176.69, 164.58, 164.06, 138.62, 184.67, 178.43, 170.29,\n",
       "       195.11, 202.26, 146.84, 196.73, 151.92, 198.11, 159.15, 159.95,\n",
       "       170.71, 177.1 , 209.19, 176.41, 189.71, 153.34, 139.88, 180.14,\n",
       "       183.89, 161.29, 159.18, 192.59, 158.98, 156.64, 184.82, 160.66,\n",
       "       169.99, 163.17, 161.45, 147.5 , 173.55, 168.18, 156.71, 194.17,\n",
       "       175.31, 183.56, 185.03, 182.48, 180.01, 135.76, 187.4 , 173.95,\n",
       "       158.9 , 206.3 , 179.89, 167.49, 174.92, 171.78, 174.13, 185.64,\n",
       "       178.09, 160.42, 169.32, 166.21, 166.69, 191.67, 181.28, 171.72,\n",
       "       211.05, 185.97, 169.68, 174.95, 186.93, 168.12, 162.37, 188.88,\n",
       "       191.01, 175.68, 167.66, 159.82, 181.3 , 158.39, 160.44, 183.17,\n",
       "       174.88, 165.69, 187.22, 179.96, 184.72, 192.27, 172.12, 175.14,\n",
       "       183.37, 173.16, 172.47, 148.86, 135.45, 161.74, 188.61, 155.63,\n",
       "       184.52, 131.99, 139.01, 183.02, 165.53, 221.  , 173.56, 174.29,\n",
       "       154.22, 187.94, 162.54, 180.46, 146.69, 156.11, 177.39, 172.79,\n",
       "       191.7 , 178.86, 192.61, 175.58, 189.22, 153.66, 147.51, 163.19,\n",
       "       171.53, 193.08, 190.39, 181.73, 158.06, 172.28, 185.82, 197.45,\n",
       "       173.99, 176.26, 155.92, 170.08, 170.8 , 152.73, 174.34, 171.01,\n",
       "       178.12, 182.22, 180.87, 196.37, 156.45, 169.06, 169.83, 188.5 ,\n",
       "       166.25, 194.94, 142.58, 173.74, 166.16, 153.16, 180.19, 170.76,\n",
       "       155.68, 178.24, 171.99, 174.73, 189.32, 179.32, 175.78, 159.93,\n",
       "       169.73, 211.16, 209.13, 171.2 , 171.35, 180.73, 180.56, 196.98,\n",
       "       203.48, 143.6 , 192.83, 172.09, 177.71, 190.93, 153.37, 151.13,\n",
       "       161.02, 193.59, 169.07, 191.64, 170.95, 175.71, 163.14, 145.13,\n",
       "       145.94, 153.93, 188.06, 203.78, 161.99, 159.63, 175.65, 186.82,\n",
       "       180.98, 167.7 , 187.74, 195.63, 191.75, 178.38, 195.77, 198.75,\n",
       "       152.15, 179.66, 149.86, 140.36, 173.58, 180.43, 181.16, 121.84,\n",
       "       168.64, 173.22, 156.6 , 188.56, 183.45, 194.51, 159.77, 154.25,\n",
       "       157.09, 169.55, 156.44, 175.06, 197.91, 152.25, 192.14, 184.55,\n",
       "       162.07, 187.31, 177.52, 161.75, 165.17, 184.49, 177.62, 167.03,\n",
       "       182.64, 156.79, 170.97, 176.74, 170.35, 182.88, 155.94, 190.74,\n",
       "       190.31, 176.98, 181.95, 188.59, 188.72, 159.36, 185.27, 181.49,\n",
       "       147.23, 173.1 , 164.75, 173.36, 154.06, 164.48, 190.22, 190.19,\n",
       "       203.4 , 170.51, 171.65, 164.83, 181.92, 163.39, 155.32, 162.47,\n",
       "       177.79, 186.31, 178.75, 171.91, 181.22, 162.8 ])"
      ]
     },
     "metadata": {},
     "execution_count": 25
    }
   ],
   "metadata": {}
  }
 ],
 "metadata": {
  "orig_nbformat": 4,
  "language_info": {
   "name": "python",
   "version": "3.9.5",
   "mimetype": "text/x-python",
   "codemirror_mode": {
    "name": "ipython",
    "version": 3
   },
   "pygments_lexer": "ipython3",
   "nbconvert_exporter": "python",
   "file_extension": ".py"
  },
  "kernelspec": {
   "name": "python3",
   "display_name": "Python 3.9.5 64-bit (windows store)"
  },
  "interpreter": {
   "hash": "154ac361cf7e5807a61d6a19a9fffc90296dda21412df37921eaada914291133"
  }
 },
 "nbformat": 4,
 "nbformat_minor": 2
}