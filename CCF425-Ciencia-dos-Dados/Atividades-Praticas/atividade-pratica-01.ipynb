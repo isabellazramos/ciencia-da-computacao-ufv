{
 "cells": [
  {
   "cell_type": "markdown",
   "source": [
    "# Atividade Prática 01\r\n",
    "\r\n",
    "## Isabella Menezes Ramos \r\n",
    "## 3474"
   ],
   "metadata": {}
  },
  {
   "cell_type": "markdown",
   "source": [
    "## Conhecendo o Ambiente e Manipulando Estruturas de Uma Dimensão"
   ],
   "metadata": {}
  },
  {
   "cell_type": "code",
   "execution_count": 2,
   "source": [
    "# Importar as bibliotecas Pandas e NumPy\r\n",
    "import pandas as pd\r\n",
    "import numpy as np"
   ],
   "outputs": [],
   "metadata": {}
  },
  {
   "cell_type": "markdown",
   "source": [
    "### Criar e manipular objetos do tipo Series"
   ],
   "metadata": {}
  },
  {
   "cell_type": "code",
   "execution_count": 3,
   "source": [
    "# Serie vazia de float\r\n",
    "valores = pd.Series(dtype=float)\r\n",
    "print(valores)"
   ],
   "outputs": [
    {
     "output_type": "stream",
     "name": "stdout",
     "text": [
      "Series([], dtype: float64)\n"
     ]
    }
   ],
   "metadata": {}
  },
  {
   "cell_type": "code",
   "execution_count": 4,
   "source": [
    "# Serie com valores especificados pelo usuário\r\n",
    "valores = pd.Series([1,3,5,7,9])\r\n",
    "print(valores)"
   ],
   "outputs": [
    {
     "output_type": "stream",
     "name": "stdout",
     "text": [
      "0    1\n",
      "1    3\n",
      "2    5\n",
      "3    7\n",
      "4    9\n",
      "dtype: int64\n"
     ]
    }
   ],
   "metadata": {}
  },
  {
   "cell_type": "code",
   "execution_count": 5,
   "source": [
    "# Serie com base em um dicionario\r\n",
    "preco_frutas = pd.Series([4.99,2.99,11.99,14.00], index = ['maça','laranja','morango','uva'])\r\n",
    "print(preco_frutas)"
   ],
   "outputs": [
    {
     "output_type": "stream",
     "name": "stdout",
     "text": [
      "maça        4.99\n",
      "laranja     2.99\n",
      "morango    11.99\n",
      "uva        14.00\n",
      "dtype: float64\n"
     ]
    }
   ],
   "metadata": {}
  },
  {
   "cell_type": "code",
   "execution_count": 6,
   "source": [
    "# Serie com valores aleatorios\r\n",
    "import random\r\n",
    "rand = random.sample(range(100),10)\r\n",
    "valores = pd.Series(rand)\r\n",
    "print(valores)"
   ],
   "outputs": [
    {
     "output_type": "stream",
     "name": "stdout",
     "text": [
      "0    86\n",
      "1    71\n",
      "2    32\n",
      "3    91\n",
      "4    30\n",
      "5    79\n",
      "6    64\n",
      "7     2\n",
      "8    12\n",
      "9    99\n",
      "dtype: int64\n"
     ]
    }
   ],
   "metadata": {}
  },
  {
   "cell_type": "code",
   "execution_count": 7,
   "source": [
    "# Recuperar o tamanho de uma Serie\r\n",
    "valores.size"
   ],
   "outputs": [
    {
     "output_type": "execute_result",
     "data": {
      "text/plain": [
       "10"
      ]
     },
     "metadata": {},
     "execution_count": 7
    }
   ],
   "metadata": {}
  },
  {
   "cell_type": "code",
   "execution_count": 8,
   "source": [
    "# Acessar um elemento específico de uma Serie\r\n",
    "valores[3]"
   ],
   "outputs": [
    {
     "output_type": "execute_result",
     "data": {
      "text/plain": [
       "91"
      ]
     },
     "metadata": {},
     "execution_count": 8
    }
   ],
   "metadata": {}
  },
  {
   "cell_type": "code",
   "execution_count": 9,
   "source": [
    "preco_frutas['laranja']"
   ],
   "outputs": [
    {
     "output_type": "execute_result",
     "data": {
      "text/plain": [
       "2.99"
      ]
     },
     "metadata": {},
     "execution_count": 9
    }
   ],
   "metadata": {}
  },
  {
   "cell_type": "code",
   "execution_count": 10,
   "source": [
    "# Acessar pedaços de uma Serie\r\n",
    "valores[3:]"
   ],
   "outputs": [
    {
     "output_type": "execute_result",
     "data": {
      "text/plain": [
       "3    91\n",
       "4    30\n",
       "5    79\n",
       "6    64\n",
       "7     2\n",
       "8    12\n",
       "9    99\n",
       "dtype: int64"
      ]
     },
     "metadata": {},
     "execution_count": 10
    }
   ],
   "metadata": {}
  },
  {
   "cell_type": "code",
   "execution_count": 11,
   "source": [
    "# Até o indice 3\r\n",
    "valores[:3]"
   ],
   "outputs": [
    {
     "output_type": "execute_result",
     "data": {
      "text/plain": [
       "0    86\n",
       "1    71\n",
       "2    32\n",
       "dtype: int64"
      ]
     },
     "metadata": {},
     "execution_count": 11
    }
   ],
   "metadata": {}
  },
  {
   "cell_type": "code",
   "execution_count": 12,
   "source": [
    "# Do índice 3 até o índice 8\r\n",
    "valores[3:8]"
   ],
   "outputs": [
    {
     "output_type": "execute_result",
     "data": {
      "text/plain": [
       "3    91\n",
       "4    30\n",
       "5    79\n",
       "6    64\n",
       "7     2\n",
       "dtype: int64"
      ]
     },
     "metadata": {},
     "execution_count": 12
    }
   ],
   "metadata": {}
  },
  {
   "cell_type": "code",
   "execution_count": 13,
   "source": [
    "# Acessar valores com filtros específicos  (>, >=, <, <=, ==, !=), inclusive com operadores lógicos (&, |, ~)\r\n",
    "valores[valores > 50]"
   ],
   "outputs": [
    {
     "output_type": "execute_result",
     "data": {
      "text/plain": [
       "0    86\n",
       "1    71\n",
       "3    91\n",
       "5    79\n",
       "6    64\n",
       "9    99\n",
       "dtype: int64"
      ]
     },
     "metadata": {},
     "execution_count": 13
    }
   ],
   "metadata": {}
  },
  {
   "cell_type": "code",
   "execution_count": 16,
   "source": [
    "# Valores maiores que 50 e menores que 80\r\n",
    "valores[(valores > 50) & (valores <80)]"
   ],
   "outputs": [
    {
     "output_type": "execute_result",
     "data": {
      "text/plain": [
       "1    71\n",
       "5    79\n",
       "6    64\n",
       "dtype: int64"
      ]
     },
     "metadata": {},
     "execution_count": 16
    }
   ],
   "metadata": {}
  },
  {
   "cell_type": "code",
   "execution_count": 17,
   "source": [
    "# Aplicar uma função a uma Serie\r\n",
    "pow(valores,2)"
   ],
   "outputs": [
    {
     "output_type": "execute_result",
     "data": {
      "text/plain": [
       "0    7396\n",
       "1    5041\n",
       "2    1024\n",
       "3    8281\n",
       "4     900\n",
       "5    6241\n",
       "6    4096\n",
       "7       4\n",
       "8     144\n",
       "9    9801\n",
       "dtype: int64"
      ]
     },
     "metadata": {},
     "execution_count": 17
    }
   ],
   "metadata": {}
  },
  {
   "cell_type": "code",
   "execution_count": 18,
   "source": [
    "# Define uma função específica para ser aplicada\r\n",
    "def diminuiu(x):\r\n",
    "    return x-5\r\n",
    "\r\n",
    "diminuiu(valores)"
   ],
   "outputs": [
    {
     "output_type": "execute_result",
     "data": {
      "text/plain": [
       "0    81\n",
       "1    66\n",
       "2    27\n",
       "3    86\n",
       "4    25\n",
       "5    74\n",
       "6    59\n",
       "7    -3\n",
       "8     7\n",
       "9    94\n",
       "dtype: int64"
      ]
     },
     "metadata": {},
     "execution_count": 18
    }
   ],
   "metadata": {}
  },
  {
   "cell_type": "markdown",
   "source": [
    "## Atividade\r\n",
    "### 1. Gerar uma Serie com 500 valores aleatórios entre -1000 e 1000, e imprimir o seguinte:\r\n",
    "### a) O maior e o menor valor\r\n",
    "### b) Somente os valores positivos\r\n",
    "### c) Somente os valores ímpares\r\n",
    "### d) Os valores das posições/índices de 50 a 100, inclusive\r\n",
    "### e) A quantidade de valores pares\r\n",
    "### f) A quantidade de valores maiores que 500\r\n",
    "### e) Os valores maiores que 500 e menores que 700\r\n",
    "### f) A raiz quadrada de todos os valores"
   ],
   "metadata": {}
  },
  {
   "cell_type": "code",
   "execution_count": 48,
   "source": [
    "rand = random.sample(range(-999,1000),500)\r\n",
    "valores = pd.Series(rand)"
   ],
   "outputs": [],
   "metadata": {}
  },
  {
   "cell_type": "code",
   "execution_count": 25,
   "source": [
    "# a) O maior e o menor valor\r\n",
    "print(f\"O maior valor eh {max(valores)} e o menor valor eh {min(valores)}.\")"
   ],
   "outputs": [
    {
     "output_type": "stream",
     "name": "stdout",
     "text": [
      "O maior valor eh 998 e o menor valor eh -995.\n"
     ]
    }
   ],
   "metadata": {}
  },
  {
   "cell_type": "code",
   "execution_count": 26,
   "source": [
    "# b) Somente os valores positivos\r\n",
    "valores[valores > 0]"
   ],
   "outputs": [
    {
     "output_type": "execute_result",
     "data": {
      "text/plain": [
       "0      851\n",
       "2      658\n",
       "3      760\n",
       "4      843\n",
       "5      912\n",
       "      ... \n",
       "487    522\n",
       "489    602\n",
       "492    884\n",
       "497    363\n",
       "499    311\n",
       "Length: 254, dtype: int64"
      ]
     },
     "metadata": {},
     "execution_count": 26
    }
   ],
   "metadata": {}
  },
  {
   "cell_type": "code",
   "execution_count": 27,
   "source": [
    "# c) Somente os valores ímpares\r\n",
    "valores[valores % 2 != 0]"
   ],
   "outputs": [
    {
     "output_type": "execute_result",
     "data": {
      "text/plain": [
       "0      851\n",
       "1     -215\n",
       "4      843\n",
       "8      401\n",
       "11     -65\n",
       "      ... \n",
       "486    105\n",
       "495   -561\n",
       "496   -273\n",
       "497    363\n",
       "499    311\n",
       "Length: 228, dtype: int64"
      ]
     },
     "metadata": {},
     "execution_count": 27
    }
   ],
   "metadata": {}
  },
  {
   "cell_type": "code",
   "execution_count": 30,
   "source": [
    "# d) Os valores das posições/índices de 50 a 100, inclusive\r\n",
    "valores[50:100]"
   ],
   "outputs": [
    {
     "output_type": "execute_result",
     "data": {
      "text/plain": [
       "50   -314\n",
       "51   -989\n",
       "52    259\n",
       "53   -500\n",
       "54   -489\n",
       "55    900\n",
       "56    479\n",
       "57    201\n",
       "58    475\n",
       "59    770\n",
       "60    630\n",
       "61   -209\n",
       "62    240\n",
       "63   -286\n",
       "64   -677\n",
       "65    215\n",
       "66   -455\n",
       "67   -871\n",
       "68   -163\n",
       "69    625\n",
       "70   -192\n",
       "71    122\n",
       "72   -338\n",
       "73   -170\n",
       "74    300\n",
       "75    383\n",
       "76   -922\n",
       "77   -672\n",
       "78   -391\n",
       "79   -221\n",
       "80   -306\n",
       "81    739\n",
       "82   -778\n",
       "83    791\n",
       "84   -518\n",
       "85    353\n",
       "86   -970\n",
       "87    314\n",
       "88    511\n",
       "89    -40\n",
       "90   -127\n",
       "91   -109\n",
       "92   -853\n",
       "93    176\n",
       "94   -193\n",
       "95    211\n",
       "96     70\n",
       "97    747\n",
       "98    937\n",
       "99    690\n",
       "dtype: int64"
      ]
     },
     "metadata": {},
     "execution_count": 30
    }
   ],
   "metadata": {}
  },
  {
   "cell_type": "code",
   "execution_count": 40,
   "source": [
    "# e) A quantidade de valores pares\r\n",
    "len(valores[valores % 2 == 0])"
   ],
   "outputs": [
    {
     "output_type": "execute_result",
     "data": {
      "text/plain": [
       "272"
      ]
     },
     "metadata": {},
     "execution_count": 40
    }
   ],
   "metadata": {}
  },
  {
   "cell_type": "code",
   "execution_count": 43,
   "source": [
    "# f) A quantidade de valores maiores que 500\r\n",
    "len(valores[valores > 500])"
   ],
   "outputs": [
    {
     "output_type": "execute_result",
     "data": {
      "text/plain": [
       "130"
      ]
     },
     "metadata": {},
     "execution_count": 43
    }
   ],
   "metadata": {}
  },
  {
   "cell_type": "code",
   "execution_count": 44,
   "source": [
    "# g) Os valores maiores que 500 e menores que 700\r\n",
    "valores[(valores > 500) & (valores < 700)]"
   ],
   "outputs": [
    {
     "output_type": "execute_result",
     "data": {
      "text/plain": [
       "2      658\n",
       "22     578\n",
       "36     530\n",
       "38     654\n",
       "48     693\n",
       "60     630\n",
       "69     625\n",
       "88     511\n",
       "99     690\n",
       "100    589\n",
       "106    682\n",
       "120    579\n",
       "123    581\n",
       "140    648\n",
       "168    672\n",
       "174    508\n",
       "180    552\n",
       "182    610\n",
       "183    676\n",
       "188    532\n",
       "212    554\n",
       "214    582\n",
       "215    585\n",
       "218    640\n",
       "223    642\n",
       "231    513\n",
       "235    652\n",
       "244    660\n",
       "250    665\n",
       "254    622\n",
       "264    536\n",
       "285    677\n",
       "289    544\n",
       "303    512\n",
       "304    573\n",
       "314    561\n",
       "320    637\n",
       "321    606\n",
       "341    667\n",
       "343    586\n",
       "357    687\n",
       "395    501\n",
       "406    629\n",
       "411    605\n",
       "421    596\n",
       "424    636\n",
       "428    565\n",
       "453    545\n",
       "457    604\n",
       "459    564\n",
       "473    607\n",
       "487    522\n",
       "489    602\n",
       "dtype: int64"
      ]
     },
     "metadata": {},
     "execution_count": 44
    }
   ],
   "metadata": {}
  },
  {
   "cell_type": "code",
   "execution_count": 60,
   "source": [
    "# h) A raiz quadrada de todos os valores\r\n",
    "np.sqrt(valores)"
   ],
   "outputs": [
    {
     "output_type": "execute_result",
     "data": {
      "text/plain": [
       "0      20.445048\n",
       "1      13.784049\n",
       "2            NaN\n",
       "3       4.123106\n",
       "4            NaN\n",
       "         ...    \n",
       "495    29.732137\n",
       "496          NaN\n",
       "497     3.464102\n",
       "498    14.696938\n",
       "499    28.000000\n",
       "Length: 500, dtype: float64"
      ]
     },
     "metadata": {},
     "execution_count": 60
    }
   ],
   "metadata": {}
  }
 ],
 "metadata": {
  "orig_nbformat": 4,
  "language_info": {
   "name": "python",
   "version": "3.9.5",
   "mimetype": "text/x-python",
   "codemirror_mode": {
    "name": "ipython",
    "version": 3
   },
   "pygments_lexer": "ipython3",
   "nbconvert_exporter": "python",
   "file_extension": ".py"
  },
  "kernelspec": {
   "name": "python3",
   "display_name": "Python 3.9.5 64-bit (windows store)"
  },
  "interpreter": {
   "hash": "154ac361cf7e5807a61d6a19a9fffc90296dda21412df37921eaada914291133"
  }
 },
 "nbformat": 4,
 "nbformat_minor": 2
}