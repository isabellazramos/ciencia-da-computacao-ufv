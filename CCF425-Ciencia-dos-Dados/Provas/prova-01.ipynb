{
 "cells": [
  {
   "cell_type": "markdown",
   "source": [
    "# Prova \r\n",
    "\r\n",
    "Isabella Menezes Ramos 3474"
   ],
   "metadata": {}
  },
  {
   "cell_type": "code",
   "execution_count": 61,
   "source": [
    "import pandas as pd\r\n",
    "import numpy as np\r\n",
    "import matplotlib.pyplot as plt\r\n",
    "import seaborn as sns\r\n",
    "import scipy.stats as st\r\n",
    "from mlxtend.preprocessing import TransactionEncoder\r\n",
    "from mlxtend.frequent_patterns import apriori\r\n",
    "from mlxtend.frequent_patterns import association_rules"
   ],
   "outputs": [],
   "metadata": {}
  },
  {
   "cell_type": "code",
   "execution_count": 6,
   "source": [
    "df = pd.read_csv('seguro-saude.csv')\r\n",
    "df"
   ],
   "outputs": [
    {
     "output_type": "execute_result",
     "data": {
      "text/html": [
       "<div>\n",
       "<style scoped>\n",
       "    .dataframe tbody tr th:only-of-type {\n",
       "        vertical-align: middle;\n",
       "    }\n",
       "\n",
       "    .dataframe tbody tr th {\n",
       "        vertical-align: top;\n",
       "    }\n",
       "\n",
       "    .dataframe thead th {\n",
       "        text-align: right;\n",
       "    }\n",
       "</style>\n",
       "<table border=\"1\" class=\"dataframe\">\n",
       "  <thead>\n",
       "    <tr style=\"text-align: right;\">\n",
       "      <th></th>\n",
       "      <th>idade</th>\n",
       "      <th>sexo</th>\n",
       "      <th>indice_massa_corporal</th>\n",
       "      <th>n_dependentes</th>\n",
       "      <th>fumante</th>\n",
       "      <th>regiao</th>\n",
       "      <th>valor_seguro</th>\n",
       "    </tr>\n",
       "  </thead>\n",
       "  <tbody>\n",
       "    <tr>\n",
       "      <th>0</th>\n",
       "      <td>19</td>\n",
       "      <td>female</td>\n",
       "      <td>27.900</td>\n",
       "      <td>0</td>\n",
       "      <td>yes</td>\n",
       "      <td>southwest</td>\n",
       "      <td>16884.92400</td>\n",
       "    </tr>\n",
       "    <tr>\n",
       "      <th>1</th>\n",
       "      <td>18</td>\n",
       "      <td>male</td>\n",
       "      <td>33.770</td>\n",
       "      <td>1</td>\n",
       "      <td>no</td>\n",
       "      <td>southeast</td>\n",
       "      <td>1725.55230</td>\n",
       "    </tr>\n",
       "    <tr>\n",
       "      <th>2</th>\n",
       "      <td>28</td>\n",
       "      <td>male</td>\n",
       "      <td>33.000</td>\n",
       "      <td>3</td>\n",
       "      <td>no</td>\n",
       "      <td>southeast</td>\n",
       "      <td>4449.46200</td>\n",
       "    </tr>\n",
       "    <tr>\n",
       "      <th>3</th>\n",
       "      <td>33</td>\n",
       "      <td>male</td>\n",
       "      <td>22.705</td>\n",
       "      <td>0</td>\n",
       "      <td>no</td>\n",
       "      <td>northwest</td>\n",
       "      <td>21984.47061</td>\n",
       "    </tr>\n",
       "    <tr>\n",
       "      <th>4</th>\n",
       "      <td>32</td>\n",
       "      <td>male</td>\n",
       "      <td>28.880</td>\n",
       "      <td>0</td>\n",
       "      <td>no</td>\n",
       "      <td>northwest</td>\n",
       "      <td>3866.85520</td>\n",
       "    </tr>\n",
       "    <tr>\n",
       "      <th>...</th>\n",
       "      <td>...</td>\n",
       "      <td>...</td>\n",
       "      <td>...</td>\n",
       "      <td>...</td>\n",
       "      <td>...</td>\n",
       "      <td>...</td>\n",
       "      <td>...</td>\n",
       "    </tr>\n",
       "    <tr>\n",
       "      <th>1333</th>\n",
       "      <td>50</td>\n",
       "      <td>male</td>\n",
       "      <td>30.970</td>\n",
       "      <td>3</td>\n",
       "      <td>no</td>\n",
       "      <td>northwest</td>\n",
       "      <td>10600.54830</td>\n",
       "    </tr>\n",
       "    <tr>\n",
       "      <th>1334</th>\n",
       "      <td>18</td>\n",
       "      <td>female</td>\n",
       "      <td>31.920</td>\n",
       "      <td>0</td>\n",
       "      <td>no</td>\n",
       "      <td>northeast</td>\n",
       "      <td>2205.98080</td>\n",
       "    </tr>\n",
       "    <tr>\n",
       "      <th>1335</th>\n",
       "      <td>18</td>\n",
       "      <td>female</td>\n",
       "      <td>36.850</td>\n",
       "      <td>0</td>\n",
       "      <td>no</td>\n",
       "      <td>southeast</td>\n",
       "      <td>1629.83350</td>\n",
       "    </tr>\n",
       "    <tr>\n",
       "      <th>1336</th>\n",
       "      <td>21</td>\n",
       "      <td>female</td>\n",
       "      <td>25.800</td>\n",
       "      <td>0</td>\n",
       "      <td>no</td>\n",
       "      <td>southwest</td>\n",
       "      <td>2007.94500</td>\n",
       "    </tr>\n",
       "    <tr>\n",
       "      <th>1337</th>\n",
       "      <td>61</td>\n",
       "      <td>female</td>\n",
       "      <td>29.070</td>\n",
       "      <td>0</td>\n",
       "      <td>yes</td>\n",
       "      <td>northwest</td>\n",
       "      <td>29141.36030</td>\n",
       "    </tr>\n",
       "  </tbody>\n",
       "</table>\n",
       "<p>1338 rows × 7 columns</p>\n",
       "</div>"
      ],
      "text/plain": [
       "      idade    sexo  indice_massa_corporal  n_dependentes fumante     regiao  \\\n",
       "0        19  female                 27.900              0     yes  southwest   \n",
       "1        18    male                 33.770              1      no  southeast   \n",
       "2        28    male                 33.000              3      no  southeast   \n",
       "3        33    male                 22.705              0      no  northwest   \n",
       "4        32    male                 28.880              0      no  northwest   \n",
       "...     ...     ...                    ...            ...     ...        ...   \n",
       "1333     50    male                 30.970              3      no  northwest   \n",
       "1334     18  female                 31.920              0      no  northeast   \n",
       "1335     18  female                 36.850              0      no  southeast   \n",
       "1336     21  female                 25.800              0      no  southwest   \n",
       "1337     61  female                 29.070              0     yes  northwest   \n",
       "\n",
       "      valor_seguro  \n",
       "0      16884.92400  \n",
       "1       1725.55230  \n",
       "2       4449.46200  \n",
       "3      21984.47061  \n",
       "4       3866.85520  \n",
       "...            ...  \n",
       "1333   10600.54830  \n",
       "1334    2205.98080  \n",
       "1335    1629.83350  \n",
       "1336    2007.94500  \n",
       "1337   29141.36030  \n",
       "\n",
       "[1338 rows x 7 columns]"
      ]
     },
     "metadata": {},
     "execution_count": 6
    }
   ],
   "metadata": {}
  },
  {
   "cell_type": "code",
   "execution_count": 15,
   "source": [
    "# 1. (2 pontos) Quantas pessoas de cada região existem? Faça um gráfico de barras para ilustrar a \r\n",
    "# quantidade de pessoas por região\r\n",
    "\r\n",
    "a = df['regiao'].value_counts()\r\n",
    "a.plot.bar()\r\n"
   ],
   "outputs": [
    {
     "output_type": "execute_result",
     "data": {
      "text/plain": [
       "<AxesSubplot:>"
      ]
     },
     "metadata": {},
     "execution_count": 15
    },
    {
     "output_type": "display_data",
     "data": {
      "image/png": "[encoded data removed]",
      "text/plain": [
       "<Figure size 432x288 with 1 Axes>"
      ]
     },
     "metadata": {
      "needs_background": "light"
     }
    }
   ],
   "metadata": {}
  },
  {
   "cell_type": "code",
   "execution_count": 18,
   "source": [
    "# 2. (2 pontos) Uma mulher que paga 30000 de seguro, está a quantos desvios padrões da média das \r\n",
    "# outras mulheres?"
   ],
   "outputs": [],
   "metadata": {}
  },
  {
   "cell_type": "code",
   "execution_count": 17,
   "source": [
    "mulheres = df[df['sexo'] == 'female']\r\n",
    "mulheres"
   ],
   "outputs": [
    {
     "output_type": "execute_result",
     "data": {
      "text/html": [
       "<div>\n",
       "<style scoped>\n",
       "    .dataframe tbody tr th:only-of-type {\n",
       "        vertical-align: middle;\n",
       "    }\n",
       "\n",
       "    .dataframe tbody tr th {\n",
       "        vertical-align: top;\n",
       "    }\n",
       "\n",
       "    .dataframe thead th {\n",
       "        text-align: right;\n",
       "    }\n",
       "</style>\n",
       "<table border=\"1\" class=\"dataframe\">\n",
       "  <thead>\n",
       "    <tr style=\"text-align: right;\">\n",
       "      <th></th>\n",
       "      <th>idade</th>\n",
       "      <th>sexo</th>\n",
       "      <th>indice_massa_corporal</th>\n",
       "      <th>n_dependentes</th>\n",
       "      <th>fumante</th>\n",
       "      <th>regiao</th>\n",
       "      <th>valor_seguro</th>\n",
       "    </tr>\n",
       "  </thead>\n",
       "  <tbody>\n",
       "    <tr>\n",
       "      <th>0</th>\n",
       "      <td>19</td>\n",
       "      <td>female</td>\n",
       "      <td>27.90</td>\n",
       "      <td>0</td>\n",
       "      <td>yes</td>\n",
       "      <td>southwest</td>\n",
       "      <td>16884.92400</td>\n",
       "    </tr>\n",
       "    <tr>\n",
       "      <th>5</th>\n",
       "      <td>31</td>\n",
       "      <td>female</td>\n",
       "      <td>25.74</td>\n",
       "      <td>0</td>\n",
       "      <td>no</td>\n",
       "      <td>southeast</td>\n",
       "      <td>3756.62160</td>\n",
       "    </tr>\n",
       "    <tr>\n",
       "      <th>6</th>\n",
       "      <td>46</td>\n",
       "      <td>female</td>\n",
       "      <td>33.44</td>\n",
       "      <td>1</td>\n",
       "      <td>no</td>\n",
       "      <td>southeast</td>\n",
       "      <td>8240.58960</td>\n",
       "    </tr>\n",
       "    <tr>\n",
       "      <th>7</th>\n",
       "      <td>37</td>\n",
       "      <td>female</td>\n",
       "      <td>27.74</td>\n",
       "      <td>3</td>\n",
       "      <td>no</td>\n",
       "      <td>northwest</td>\n",
       "      <td>7281.50560</td>\n",
       "    </tr>\n",
       "    <tr>\n",
       "      <th>9</th>\n",
       "      <td>60</td>\n",
       "      <td>female</td>\n",
       "      <td>25.84</td>\n",
       "      <td>0</td>\n",
       "      <td>no</td>\n",
       "      <td>northwest</td>\n",
       "      <td>28923.13692</td>\n",
       "    </tr>\n",
       "    <tr>\n",
       "      <th>...</th>\n",
       "      <td>...</td>\n",
       "      <td>...</td>\n",
       "      <td>...</td>\n",
       "      <td>...</td>\n",
       "      <td>...</td>\n",
       "      <td>...</td>\n",
       "      <td>...</td>\n",
       "    </tr>\n",
       "    <tr>\n",
       "      <th>1332</th>\n",
       "      <td>52</td>\n",
       "      <td>female</td>\n",
       "      <td>44.70</td>\n",
       "      <td>3</td>\n",
       "      <td>no</td>\n",
       "      <td>southwest</td>\n",
       "      <td>11411.68500</td>\n",
       "    </tr>\n",
       "    <tr>\n",
       "      <th>1334</th>\n",
       "      <td>18</td>\n",
       "      <td>female</td>\n",
       "      <td>31.92</td>\n",
       "      <td>0</td>\n",
       "      <td>no</td>\n",
       "      <td>northeast</td>\n",
       "      <td>2205.98080</td>\n",
       "    </tr>\n",
       "    <tr>\n",
       "      <th>1335</th>\n",
       "      <td>18</td>\n",
       "      <td>female</td>\n",
       "      <td>36.85</td>\n",
       "      <td>0</td>\n",
       "      <td>no</td>\n",
       "      <td>southeast</td>\n",
       "      <td>1629.83350</td>\n",
       "    </tr>\n",
       "    <tr>\n",
       "      <th>1336</th>\n",
       "      <td>21</td>\n",
       "      <td>female</td>\n",
       "      <td>25.80</td>\n",
       "      <td>0</td>\n",
       "      <td>no</td>\n",
       "      <td>southwest</td>\n",
       "      <td>2007.94500</td>\n",
       "    </tr>\n",
       "    <tr>\n",
       "      <th>1337</th>\n",
       "      <td>61</td>\n",
       "      <td>female</td>\n",
       "      <td>29.07</td>\n",
       "      <td>0</td>\n",
       "      <td>yes</td>\n",
       "      <td>northwest</td>\n",
       "      <td>29141.36030</td>\n",
       "    </tr>\n",
       "  </tbody>\n",
       "</table>\n",
       "<p>662 rows × 7 columns</p>\n",
       "</div>"
      ],
      "text/plain": [
       "      idade    sexo  indice_massa_corporal  n_dependentes fumante     regiao  \\\n",
       "0        19  female                  27.90              0     yes  southwest   \n",
       "5        31  female                  25.74              0      no  southeast   \n",
       "6        46  female                  33.44              1      no  southeast   \n",
       "7        37  female                  27.74              3      no  northwest   \n",
       "9        60  female                  25.84              0      no  northwest   \n",
       "...     ...     ...                    ...            ...     ...        ...   \n",
       "1332     52  female                  44.70              3      no  southwest   \n",
       "1334     18  female                  31.92              0      no  northeast   \n",
       "1335     18  female                  36.85              0      no  southeast   \n",
       "1336     21  female                  25.80              0      no  southwest   \n",
       "1337     61  female                  29.07              0     yes  northwest   \n",
       "\n",
       "      valor_seguro  \n",
       "0      16884.92400  \n",
       "5       3756.62160  \n",
       "6       8240.58960  \n",
       "7       7281.50560  \n",
       "9      28923.13692  \n",
       "...            ...  \n",
       "1332   11411.68500  \n",
       "1334    2205.98080  \n",
       "1335    1629.83350  \n",
       "1336    2007.94500  \n",
       "1337   29141.36030  \n",
       "\n",
       "[662 rows x 7 columns]"
      ]
     },
     "metadata": {},
     "execution_count": 17
    }
   ],
   "metadata": {}
  },
  {
   "cell_type": "code",
   "execution_count": 20,
   "source": [
    "def get_zscore(array, value):\r\n",
    "    media = array.mean()\r\n",
    "    desvio_padrao = array.std()\r\n",
    "    return (value-media)/desvio_padrao\r\n",
    "    \r\n",
    "distancia = get_zscore(mulheres['valor_seguro'], 30000)\r\n",
    "print('Uma mulher está', round(distancia, 4), 'desvios padrões da média de outras mulheres!')"
   ],
   "outputs": [
    {
     "output_type": "stream",
     "name": "stdout",
     "text": [
      "Uma mulher está 1.5663 desvios padrões da média de outras mulheres!\n"
     ]
    }
   ],
   "metadata": {}
  },
  {
   "cell_type": "code",
   "execution_count": 21,
   "source": [
    "# 3. (3 ponto) Faça um gráfico com o histograma do valor do seguro, contendo separadamente as \r\n",
    "# distribuições para homens e mulheres.\r\n",
    "\r\n",
    "mulheres = df[df['sexo'] == 'female']\r\n",
    "homens = df[df['sexo'] == 'male']"
   ],
   "outputs": [],
   "metadata": {}
  },
  {
   "cell_type": "code",
   "execution_count": 25,
   "source": [
    "mulheres['valor_seguro'].hist()\r\n"
   ],
   "outputs": [
    {
     "output_type": "execute_result",
     "data": {
      "text/plain": [
       "<AxesSubplot:>"
      ]
     },
     "metadata": {},
     "execution_count": 25
    },
    {
     "output_type": "display_data",
     "data": {
      "image/png": "[encoded data removed]",
      "text/plain": [
       "<Figure size 432x288 with 1 Axes>"
      ]
     },
     "metadata": {
      "needs_background": "light"
     }
    }
   ],
   "metadata": {}
  },
  {
   "cell_type": "code",
   "execution_count": 23,
   "source": [
    "homens['valor_seguro'].hist()"
   ],
   "outputs": [
    {
     "output_type": "execute_result",
     "data": {
      "text/plain": [
       "<AxesSubplot:>"
      ]
     },
     "metadata": {},
     "execution_count": 23
    },
    {
     "output_type": "display_data",
     "data": {
      "image/png": "[encoded data removed]",
      "text/plain": [
       "<Figure size 432x288 with 1 Axes>"
      ]
     },
     "metadata": {
      "needs_background": "light"
     }
    }
   ],
   "metadata": {}
  },
  {
   "cell_type": "code",
   "execution_count": 32,
   "source": [
    "plt.hist(homens['valor_seguro'])\r\n",
    "plt.hist(mulheres['valor_seguro'])"
   ],
   "outputs": [
    {
     "output_type": "execute_result",
     "data": {
      "text/plain": [
       "(array([280., 203.,  67.,  39.,  16.,  22.,  20.,  12.,   1.,   2.]),\n",
       " array([ 1607.5101  ,  7823.801891, 14040.093682, 20256.385473,\n",
       "        26472.677264, 32688.969055, 38905.260846, 45121.552637,\n",
       "        51337.844428, 57554.136219, 63770.42801 ]),\n",
       " <BarContainer object of 10 artists>)"
      ]
     },
     "metadata": {},
     "execution_count": 32
    },
    {
     "output_type": "display_data",
     "data": {
      "image/png": "[encoded data removed]",
      "text/plain": [
       "<Figure size 432x288 with 1 Axes>"
      ]
     },
     "metadata": {
      "needs_background": "light"
     }
    }
   ],
   "metadata": {}
  },
  {
   "cell_type": "code",
   "execution_count": 26,
   "source": [
    "# 4. (3 ponto) Calcule o intervalo de confiança dos valores pagos de seguro para homens e para \r\n",
    "# mulheres. Faça um gráfico mostrando esses intervalos.\r\n",
    "\r\n",
    "def confidence_interval(data):\r\n",
    "    # 95% intervalo confiança\r\n",
    "    mean=data.mean()\r\n",
    "    sd=data.std()\r\n",
    "    n=len(data)\r\n",
    "    std_error=sd/np.sqrt(n)\r\n",
    "    print(\"Erro padrao %.3f \" % std_error)\r\n",
    "    print(\"Intervalo de confiança: [%.3f - %.3f] \" % ((mean-(1.96*std_error)),(mean+(1.96*std_error))))\r\n",
    "    return mean,1.96*std_error"
   ],
   "outputs": [],
   "metadata": {}
  },
  {
   "cell_type": "code",
   "execution_count": 30,
   "source": [
    "seguro_homens_a, seguro_homens_b = confidence_interval(homens['valor_seguro'])"
   ],
   "outputs": [
    {
     "output_type": "stream",
     "name": "stdout",
     "text": [
      "Erro padrao 498.886 \n",
      "Intervalo de confiança: [12978.935 - 14934.567] \n"
     ]
    }
   ],
   "metadata": {}
  },
  {
   "cell_type": "code",
   "execution_count": 29,
   "source": [
    "seguro_mulheres_a, seguro_mulheres_b = confidence_interval(mulheres['valor_seguro'])"
   ],
   "outputs": [
    {
     "output_type": "stream",
     "name": "stdout",
     "text": [
      "Erro padrao 432.529 \n",
      "Intervalo de confiança: [11721.821 - 13417.336] \n"
     ]
    }
   ],
   "metadata": {}
  },
  {
   "cell_type": "code",
   "execution_count": 31,
   "source": [
    "x = [seguro_homens_a, seguro_mulheres_a]\r\n",
    "y = [1, 3]\r\n",
    "errors = [seguro_homens_b, seguro_mulheres_b]\r\n",
    "\r\n",
    "plt.figure()\r\n",
    "plt.errorbar(x, y, xerr=errors, fmt = 'o', color = 'k')\r\n",
    "plt.yticks((0, 1, 3, 4), ('', 'homens', 'mulheres','')) \r\n",
    "plt.show()"
   ],
   "outputs": [
    {
     "output_type": "display_data",
     "data": {
      "image/png": "[encoded data removed]",
      "text/plain": [
       "<Figure size 432x288 with 1 Axes>"
      ]
     },
     "metadata": {
      "needs_background": "light"
     }
    }
   ],
   "metadata": {}
  },
  {
   "cell_type": "code",
   "execution_count": 36,
   "source": [
    "# 5. (3 ponto) Utilize um teste de hipótese para verificar se a média de valor pago pelas mulheres é \r\n",
    "# igual ou diferente da média do valor pago pelos homens.\r\n",
    "\r\n",
    "def str_error_diff_mean(data1, data2):\r\n",
    "    mean1=data1.mean()\r\n",
    "    mean2=data2.mean()\r\n",
    "    std1=data1.std()\r\n",
    "    std2=data2.std()\r\n",
    "    n1=len(data1)\r\n",
    "    n2=len(data2)\r\n",
    "    std_error_diff=np.sqrt((np.power(std1,2)/n1) + (np.power(std2,2)/n2))\r\n",
    "    diff_mean=(mean1-mean2)\r\n",
    "    print(\"Diferenças: %.3f \" % diff_mean)\r\n",
    "    print(\"Erro Padrão das Diferenças: %.3f \" % std_error_diff)\r\n",
    "    return(diff_mean/std_error_diff)\r\n",
    "\r\n",
    "std_error_diff=str_error_diff_mean(homens['valor_seguro'],mulheres['valor_seguro'])\r\n",
    "alpha=0.05\r\n",
    "p_value_normal = (st.norm.cdf(std_error_diff))\r\n",
    "print(\"(Normal) valor-p= %.3f \" % p_value_normal)\r\n",
    "if(p_value_normal < alpha):\r\n",
    "  print(\"Hipótese nula pode ser rejeitada\")\r\n",
    "else:\r\n",
    "  print(\"Não podemos rejeitar a hipótese nula\")\r\n"
   ],
   "outputs": [
    {
     "output_type": "stream",
     "name": "stdout",
     "text": [
      "Diferenças: 1387.172 \n",
      "Erro Padrão das Diferenças: 660.279 \n",
      "(Normal) valor-p= 0.982 \n",
      "Não podemos rejeitar a hipótese nula\n"
     ]
    }
   ],
   "metadata": {}
  },
  {
   "cell_type": "code",
   "execution_count": 48,
   "source": [
    "# 6. (2 pontos) Faça um gráfico mostrando a relação entre o índice de massa corporal e o valor de \r\n",
    "# seguro pago.\r\n",
    "plt.figure(figsize=(10,10))\r\n",
    "g=sns.lineplot(data=df,y=\"indice_massa_corporal\",x=\"valor_seguro\")\r\n",
    "plt.show()\r\n"
   ],
   "outputs": [
    {
     "output_type": "display_data",
     "data": {
      "image/png": "[encoded data removed]",
      "text/plain": [
       "<Figure size 720x720 with 1 Axes>"
      ]
     },
     "metadata": {
      "needs_background": "light"
     }
    }
   ],
   "metadata": {}
  },
  {
   "cell_type": "code",
   "execution_count": 50,
   "source": [
    "# 7. (3 pontos) O índice de massa corporal das pessoas segue uma distribuição normal?\r\n",
    "\r\n",
    "print('Distribuição da massa corporal:')\r\n",
    "sns.displot(df['indice_massa_corporal'])\r\n",
    "plt.show()\r\n",
    "print(\"Sim, segue uma distribuição normal.\")"
   ],
   "outputs": [
    {
     "output_type": "stream",
     "name": "stdout",
     "text": [
      "Distribuição da massa corporal:\n"
     ]
    },
    {
     "output_type": "display_data",
     "data": {
      "image/png": "[encoded data removed]",
      "text/plain": [
       "<Figure size 360x360 with 1 Axes>"
      ]
     },
     "metadata": {
      "needs_background": "light"
     }
    },
    {
     "output_type": "stream",
     "name": "stdout",
     "text": [
      "Sim, segue uma distribuição normal.\n"
     ]
    }
   ],
   "metadata": {}
  },
  {
   "cell_type": "code",
   "execution_count": 52,
   "source": [
    "# 8. (3 pontos) Faça o Boxplot do valor do seguro pago, separadamente para fumantes e não-fumantes.\r\n",
    "\r\n",
    "fumantes = df[df['fumante'] == 'yes']\r\n",
    "nao_fumantes = df[df['fumante'] == 'no']"
   ],
   "outputs": [],
   "metadata": {}
  },
  {
   "cell_type": "code",
   "execution_count": 58,
   "source": [
    "ax = sns.boxplot(x=fumantes['valor_seguro'])"
   ],
   "outputs": [
    {
     "output_type": "display_data",
     "data": {
      "image/png": "[encoded data removed]",
      "text/plain": [
       "<Figure size 432x288 with 1 Axes>"
      ]
     },
     "metadata": {
      "needs_background": "light"
     }
    }
   ],
   "metadata": {}
  },
  {
   "cell_type": "code",
   "execution_count": 59,
   "source": [
    "ax = sns.boxplot(x=nao_fumantes['valor_seguro'])"
   ],
   "outputs": [
    {
     "output_type": "display_data",
     "data": {
      "image/png": "[encoded data removed]",
      "text/plain": [
       "<Figure size 432x288 with 1 Axes>"
      ]
     },
     "metadata": {
      "needs_background": "light"
     }
    }
   ],
   "metadata": {}
  },
  {
   "cell_type": "code",
   "execution_count": 65,
   "source": [
    "# 9. (4 pontos) Considerando as regras de associação, em que cada pessoa pode ser tratada como uma \r\n",
    "# “transação”, e os valores de “fumante”, “sexo” e “região” como itens, responda:\r\n",
    "# Dica: Você pode transformar o dataframe em um conjunto de transações e executar o algoritmo \r\n",
    "# Apriori, ou calcular os valores das métricas manualmente.\r\n",
    "# a) Qual o Suporte para o itemset de mulheres não fumantes?\r\n",
    "# b) Qual o Suporte para o itemset de homens não fumantes?\r\n",
    "# c) Qual o Suporte da regra {Mulheres de northwest} → {Não Fumantes}?\r\n",
    "# d) Qual a confiança da regra {Mulheres de northwest} → {Não Fumantes}"
   ],
   "outputs": [],
   "metadata": {}
  },
  {
   "cell_type": "code",
   "execution_count": 204,
   "source": [
    "new_df = df.loc[:,['fumante','sexo','regiao']]\r\n",
    "observations = [] \r\n",
    "for i in range(len(new_df)):\r\n",
    "    observations.append([str(new_df.values[i,j]) for j in range(3)])\r\n",
    "\r\n",
    "from apyori import apriori\r\n",
    "associations = apriori(observations,min_support = 0.1)"
   ],
   "outputs": [],
   "metadata": {}
  },
  {
   "cell_type": "code",
   "execution_count": 205,
   "source": [
    "associations = list(associations)\r\n",
    "associations"
   ],
   "outputs": [
    {
     "output_type": "execute_result",
     "data": {
      "text/plain": [
       "[RelationRecord(items=frozenset({'female'}), support=0.4947683109118087, ordered_statistics=[OrderedStatistic(items_base=frozenset(), items_add=frozenset({'female'}), confidence=0.4947683109118087, lift=1.0)]),\n",
       " RelationRecord(items=frozenset({'male'}), support=0.5052316890881914, ordered_statistics=[OrderedStatistic(items_base=frozenset(), items_add=frozenset({'male'}), confidence=0.5052316890881914, lift=1.0)]),\n",
       " RelationRecord(items=frozenset({'no'}), support=0.7952167414050823, ordered_statistics=[OrderedStatistic(items_base=frozenset(), items_add=frozenset({'no'}), confidence=0.7952167414050823, lift=1.0)]),\n",
       " RelationRecord(items=frozenset({'northeast'}), support=0.242152466367713, ordered_statistics=[OrderedStatistic(items_base=frozenset(), items_add=frozenset({'northeast'}), confidence=0.242152466367713, lift=1.0)]),\n",
       " RelationRecord(items=frozenset({'northwest'}), support=0.2428998505231689, ordered_statistics=[OrderedStatistic(items_base=frozenset(), items_add=frozenset({'northwest'}), confidence=0.2428998505231689, lift=1.0)]),\n",
       " RelationRecord(items=frozenset({'southeast'}), support=0.27204783258594917, ordered_statistics=[OrderedStatistic(items_base=frozenset(), items_add=frozenset({'southeast'}), confidence=0.27204783258594917, lift=1.0)]),\n",
       " RelationRecord(items=frozenset({'southwest'}), support=0.2428998505231689, ordered_statistics=[OrderedStatistic(items_base=frozenset(), items_add=frozenset({'southwest'}), confidence=0.2428998505231689, lift=1.0)]),\n",
       " RelationRecord(items=frozenset({'yes'}), support=0.20478325859491778, ordered_statistics=[OrderedStatistic(items_base=frozenset(), items_add=frozenset({'yes'}), confidence=0.20478325859491778, lift=1.0)]),\n",
       " RelationRecord(items=frozenset({'no', 'female'}), support=0.40881913303437967, ordered_statistics=[OrderedStatistic(items_base=frozenset(), items_add=frozenset({'no', 'female'}), confidence=0.40881913303437967, lift=1.0), OrderedStatistic(items_base=frozenset({'female'}), items_add=frozenset({'no'}), confidence=0.8262839879154078, lift=1.0390676464575335), OrderedStatistic(items_base=frozenset({'no'}), items_add=frozenset({'female'}), confidence=0.5140977443609023, lift=1.0390676464575337)]),\n",
       " RelationRecord(items=frozenset({'northeast', 'female'}), support=0.1203288490284006, ordered_statistics=[OrderedStatistic(items_base=frozenset(), items_add=frozenset({'female', 'northeast'}), confidence=0.1203288490284006, lift=1.0), OrderedStatistic(items_base=frozenset({'female'}), items_add=frozenset({'northeast'}), confidence=0.243202416918429, lift=1.0043359069038826), OrderedStatistic(items_base=frozenset({'northeast'}), items_add=frozenset({'female'}), confidence=0.49691358024691357, lift=1.0043359069038826)]),\n",
       " RelationRecord(items=frozenset({'northwest', 'female'}), support=0.12257100149476831, ordered_statistics=[OrderedStatistic(items_base=frozenset(), items_add=frozenset({'female', 'northwest'}), confidence=0.12257100149476831, lift=1.0), OrderedStatistic(items_base=frozenset({'female'}), items_add=frozenset({'northwest'}), confidence=0.24773413897280966, lift=1.0199023936788287), OrderedStatistic(items_base=frozenset({'northwest'}), items_add=frozenset({'female'}), confidence=0.5046153846153846, lift=1.0199023936788287)]),\n",
       " RelationRecord(items=frozenset({'southeast', 'female'}), support=0.13079222720478326, ordered_statistics=[OrderedStatistic(items_base=frozenset(), items_add=frozenset({'southeast', 'female'}), confidence=0.13079222720478326, lift=1.0), OrderedStatistic(items_base=frozenset({'female'}), items_add=frozenset({'southeast'}), confidence=0.26435045317220546, lift=0.9717057866604696), OrderedStatistic(items_base=frozenset({'southeast'}), items_add=frozenset({'female'}), confidence=0.4807692307692308, lift=0.9717057866604695)]),\n",
       " RelationRecord(items=frozenset({'southwest', 'female'}), support=0.1210762331838565, ordered_statistics=[OrderedStatistic(items_base=frozenset(), items_add=frozenset({'southwest', 'female'}), confidence=0.1210762331838565, lift=1.0), OrderedStatistic(items_base=frozenset({'female'}), items_add=frozenset({'southwest'}), confidence=0.2447129909365559, lift=1.0074645596095748), OrderedStatistic(items_base=frozenset({'southwest'}), items_add=frozenset({'female'}), confidence=0.4984615384615385, lift=1.0074645596095748)]),\n",
       " RelationRecord(items=frozenset({'no', 'male'}), support=0.3863976083707025, ordered_statistics=[OrderedStatistic(items_base=frozenset(), items_add=frozenset({'no', 'male'}), confidence=0.3863976083707025, lift=1.0), OrderedStatistic(items_base=frozenset({'male'}), items_add=frozenset({'no'}), confidence=0.7647928994082839, lift=0.9617414468122968), OrderedStatistic(items_base=frozenset({'no'}), items_add=frozenset({'male'}), confidence=0.4859022556390977, lift=0.9617414468122969)]),\n",
       " RelationRecord(items=frozenset({'male', 'northeast'}), support=0.1218236173393124, ordered_statistics=[OrderedStatistic(items_base=frozenset(), items_add=frozenset({'male', 'northeast'}), confidence=0.1218236173393124, lift=1.0), OrderedStatistic(items_base=frozenset({'male'}), items_add=frozenset({'northeast'}), confidence=0.24112426035502957, lift=0.9957538899846591), OrderedStatistic(items_base=frozenset({'northeast'}), items_add=frozenset({'male'}), confidence=0.5030864197530864, lift=0.9957538899846592)]),\n",
       " RelationRecord(items=frozenset({'male', 'northwest'}), support=0.1203288490284006, ordered_statistics=[OrderedStatistic(items_base=frozenset(), items_add=frozenset({'male', 'northwest'}), confidence=0.1203288490284006, lift=1.0), OrderedStatistic(items_base=frozenset({'male'}), items_add=frozenset({'northwest'}), confidence=0.23816568047337278, lift=0.9805097860719163), OrderedStatistic(items_base=frozenset({'northwest'}), items_add=frozenset({'male'}), confidence=0.4953846153846154, lift=0.9805097860719162)]),\n",
       " RelationRecord(items=frozenset({'male', 'southeast'}), support=0.1412556053811659, ordered_statistics=[OrderedStatistic(items_base=frozenset(), items_add=frozenset({'male', 'southeast'}), confidence=0.1412556053811659, lift=1.0), OrderedStatistic(items_base=frozenset({'male'}), items_add=frozenset({'southeast'}), confidence=0.279585798816568, lift=1.0277082385070548), OrderedStatistic(items_base=frozenset({'southeast'}), items_add=frozenset({'male'}), confidence=0.5192307692307693, lift=1.027708238507055)]),\n",
       " RelationRecord(items=frozenset({'southwest', 'male'}), support=0.1218236173393124, ordered_statistics=[OrderedStatistic(items_base=frozenset(), items_add=frozenset({'southwest', 'male'}), confidence=0.1218236173393124, lift=1.0), OrderedStatistic(items_base=frozenset({'male'}), items_add=frozenset({'southwest'}), confidence=0.24112426035502957, lift=0.9926900318616295), OrderedStatistic(items_base=frozenset({'southwest'}), items_add=frozenset({'male'}), confidence=0.5015384615384616, lift=0.9926900318616295)]),\n",
       " RelationRecord(items=frozenset({'yes', 'male'}), support=0.11883408071748879, ordered_statistics=[OrderedStatistic(items_base=frozenset(), items_add=frozenset({'yes', 'male'}), confidence=0.11883408071748879, lift=1.0), OrderedStatistic(items_base=frozenset({'male'}), items_add=frozenset({'yes'}), confidence=0.23520710059171596, lift=1.1485660605537078), OrderedStatistic(items_base=frozenset({'yes'}), items_add=frozenset({'male'}), confidence=0.5802919708029197, lift=1.1485660605537078)]),\n",
       " RelationRecord(items=frozenset({'no', 'northeast'}), support=0.1920777279521674, ordered_statistics=[OrderedStatistic(items_base=frozenset(), items_add=frozenset({'no', 'northeast'}), confidence=0.1920777279521674, lift=1.0), OrderedStatistic(items_base=frozenset({'no'}), items_add=frozenset({'northeast'}), confidence=0.2415413533834586, lift=0.9974763297131717), OrderedStatistic(items_base=frozenset({'northeast'}), items_add=frozenset({'no'}), confidence=0.7932098765432098, lift=0.9974763297131717)]),\n",
       " RelationRecord(items=frozenset({'no', 'northwest'}), support=0.19955156950672645, ordered_statistics=[OrderedStatistic(items_base=frozenset(), items_add=frozenset({'no', 'northwest'}), confidence=0.19955156950672645, lift=1.0), OrderedStatistic(items_base=frozenset({'no'}), items_add=frozenset({'northwest'}), confidence=0.25093984962406013, lift=1.0331000578368998), OrderedStatistic(items_base=frozenset({'northwest'}), items_add=frozenset({'no'}), confidence=0.8215384615384616, lift=1.0331000578368998)]),\n",
       " RelationRecord(items=frozenset({'no', 'southeast'}), support=0.2040358744394619, ordered_statistics=[OrderedStatistic(items_base=frozenset(), items_add=frozenset({'no', 'southeast'}), confidence=0.2040358744394619, lift=1.0), OrderedStatistic(items_base=frozenset({'no'}), items_add=frozenset({'southeast'}), confidence=0.2565789473684211, lift=0.943139097744361), OrderedStatistic(items_base=frozenset({'southeast'}), items_add=frozenset({'no'}), confidence=0.75, lift=0.9431390977443609)]),\n",
       " RelationRecord(items=frozenset({'no', 'southwest'}), support=0.19955156950672645, ordered_statistics=[OrderedStatistic(items_base=frozenset(), items_add=frozenset({'no', 'southwest'}), confidence=0.19955156950672645, lift=1.0), OrderedStatistic(items_base=frozenset({'no'}), items_add=frozenset({'southwest'}), confidence=0.25093984962406013, lift=1.0331000578368998), OrderedStatistic(items_base=frozenset({'southwest'}), items_add=frozenset({'no'}), confidence=0.8215384615384616, lift=1.0331000578368998)]),\n",
       " RelationRecord(items=frozenset({'no', 'northwest', 'female'}), support=0.10089686098654709, ordered_statistics=[OrderedStatistic(items_base=frozenset(), items_add=frozenset({'no', 'female', 'northwest'}), confidence=0.10089686098654709, lift=1.0), OrderedStatistic(items_base=frozenset({'female'}), items_add=frozenset({'no', 'northwest'}), confidence=0.2039274924471299, lift=1.021928782375505), OrderedStatistic(items_base=frozenset({'no'}), items_add=frozenset({'female', 'northwest'}), confidence=0.1268796992481203, lift=1.0351526682560057), OrderedStatistic(items_base=frozenset({'northwest'}), items_add=frozenset({'no', 'female'}), confidence=0.4153846153846154, lift=1.0160596259316552), OrderedStatistic(items_base=frozenset({'no', 'female'}), items_add=frozenset({'northwest'}), confidence=0.24680073126142596, lift=1.0160596259316552), OrderedStatistic(items_base=frozenset({'northwest', 'female'}), items_add=frozenset({'no'}), confidence=0.8231707317073171, lift=1.035152668256006), OrderedStatistic(items_base=frozenset({'no', 'northwest'}), items_add=frozenset({'female'}), confidence=0.5056179775280899, lift=1.021928782375505)]),\n",
       " RelationRecord(items=frozenset({'no', 'southeast', 'female'}), support=0.1038863976083707, ordered_statistics=[OrderedStatistic(items_base=frozenset(), items_add=frozenset({'no', 'southeast', 'female'}), confidence=0.1038863976083707, lift=1.0), OrderedStatistic(items_base=frozenset({'female'}), items_add=frozenset({'no', 'southeast'}), confidence=0.20996978851963746, lift=1.0290826997775637), OrderedStatistic(items_base=frozenset({'no'}), items_add=frozenset({'southeast', 'female'}), confidence=0.1306390977443609, lift=0.998829215896885), OrderedStatistic(items_base=frozenset({'southeast'}), items_add=frozenset({'no', 'female'}), confidence=0.3818681318681319, lift=0.9340759788657413), OrderedStatistic(items_base=frozenset({'no', 'female'}), items_add=frozenset({'southeast'}), confidence=0.25411334552102377, lift=0.9340759788657412), OrderedStatistic(items_base=frozenset({'southeast', 'female'}), items_add=frozenset({'no'}), confidence=0.7942857142857144, lift=0.9988292158968851), OrderedStatistic(items_base=frozenset({'no', 'southeast'}), items_add=frozenset({'female'}), confidence=0.5091575091575091, lift=1.0290826997775637)]),\n",
       " RelationRecord(items=frozenset({'no', 'southwest', 'female'}), support=0.10538116591928251, ordered_statistics=[OrderedStatistic(items_base=frozenset(), items_add=frozenset({'no', 'southwest', 'female'}), confidence=0.10538116591928251, lift=1.0), OrderedStatistic(items_base=frozenset({'female'}), items_add=frozenset({'no', 'southwest'}), confidence=0.21299093655589124, lift=1.0673478393699718), OrderedStatistic(items_base=frozenset({'no'}), items_add=frozenset({'southwest', 'female'}), confidence=0.1325187969924812, lift=1.0945071010860483), OrderedStatistic(items_base=frozenset({'southwest'}), items_add=frozenset({'no', 'female'}), confidence=0.4338461538461539, lift=1.0612178315286178), OrderedStatistic(items_base=frozenset({'no', 'female'}), items_add=frozenset({'southwest'}), confidence=0.2577696526508227, lift=1.0612178315286178), OrderedStatistic(items_base=frozenset({'southwest', 'female'}), items_add=frozenset({'no'}), confidence=0.8703703703703703, lift=1.0945071010860483), OrderedStatistic(items_base=frozenset({'no', 'southwest'}), items_add=frozenset({'female'}), confidence=0.5280898876404494, lift=1.0673478393699718)]),\n",
       " RelationRecord(items=frozenset({'no', 'male', 'southeast'}), support=0.10014947683109118, ordered_statistics=[OrderedStatistic(items_base=frozenset(), items_add=frozenset({'no', 'male', 'southeast'}), confidence=0.10014947683109118, lift=1.0), OrderedStatistic(items_base=frozenset({'male'}), items_add=frozenset({'no', 'southeast'}), confidence=0.1982248520710059, lift=0.9715196046556992), OrderedStatistic(items_base=frozenset({'no'}), items_add=frozenset({'male', 'southeast'}), confidence=0.12593984962406016, lift=0.8915741735290609), OrderedStatistic(items_base=frozenset({'southeast'}), items_add=frozenset({'no', 'male'}), confidence=0.36813186813186816, lift=0.952728122940889), OrderedStatistic(items_base=frozenset({'no', 'male'}), items_add=frozenset({'southeast'}), confidence=0.25918762088974856, lift=0.9527281229408889), OrderedStatistic(items_base=frozenset({'male', 'southeast'}), items_add=frozenset({'no'}), confidence=0.7089947089947091, lift=0.8915741735290608), OrderedStatistic(items_base=frozenset({'no', 'southeast'}), items_add=frozenset({'male'}), confidence=0.4908424908424908, lift=0.9715196046556992)])]"
      ]
     },
     "metadata": {},
     "execution_count": 205
    }
   ],
   "metadata": {}
  },
  {
   "cell_type": "code",
   "execution_count": 208,
   "source": [
    "print(\"A: support=0.40881913303437967\")\r\n",
    "print(\"B: support=0.3863976083707025\")\r\n",
    "print(\"C: support=0.10089686098654709\") \r\n",
    "print(\"D: confidence=0.10089686098654709\")"
   ],
   "outputs": [
    {
     "output_type": "stream",
     "name": "stdout",
     "text": [
      "A: support=0.40881913303437967\n",
      "B: support=0.3863976083707025\n",
      "C: support=0.10089686098654709\n",
      "D: confidence=0.10089686098654709\n"
     ]
    }
   ],
   "metadata": {}
  }
 ],
 "metadata": {
  "orig_nbformat": 4,
  "language_info": {
   "name": "python",
   "version": "3.8.5",
   "mimetype": "text/x-python",
   "codemirror_mode": {
    "name": "ipython",
    "version": 3
   },
   "pygments_lexer": "ipython3",
   "nbconvert_exporter": "python",
   "file_extension": ".py"
  },
  "kernelspec": {
   "name": "python3",
   "display_name": "Python 3.8.5 64-bit ('base': conda)"
  },
  "interpreter": {
   "hash": "006c6b9e1a017b6fca61b18d5005c5233629fba946f7e9f27bc7ff535526f5b9"
  }
 },
 "nbformat": 4,
 "nbformat_minor": 2
}