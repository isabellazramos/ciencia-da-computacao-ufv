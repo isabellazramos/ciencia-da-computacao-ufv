{
 "cells": [
  {
   "cell_type": "markdown",
   "metadata": {
    "id": "UEUWU8BvKgXe"
   },
   "source": [
    "\n",
    "# **Trabalho Prático: Introdução à Ciência dos Dados**\n",
    "### **Entrega 3 - Análise exploratória e extração de conhecimento**\n",
    "**Integrantes**: Aryel Penido - 3500 Claudio Barbosa - 3492 Isabela Ramos - 3474\n",
    "\n",
    "**Tema:** Análise da população em situação de rua em BH\n",
    "\n",
    "**Dados:** https://dados.pbh.gov.br/dataset/populacao-de-rua"
   ]
  },
  {
   "cell_type": "markdown",
   "metadata": {
    "id": "qB5vjwewxuHw"
   },
   "source": [
    "## Perguntas a serem respondidas:\n",
    "\n"
   ]
  },
  {
   "cell_type": "markdown",
   "metadata": {
    "id": "_cCMqpvAxvhB"
   },
   "source": [
    "1.   Qual a distribuição geral de idade dos moradores de rua em Belo Horizonte?\n",
    "2.   Qual a relação entre o contato com parentes e o tempo que estão em situação de rua?\n",
    "3.   Qual a distribuição de idade de homens moradores de rua em Belo Horizonte?\n",
    "4.   Qual a distribuição de idade de mulheres moradoras de rua em Belo Horizonte?\n",
    "5.   Qual o percentual, entre os moradores de rua, cadastrados em um Cras?\n",
    "6.   Análise temporal da cobertura do CRAS desde o início da pesquisa?(09/2020 a 07/2021)**\n",
    "7.   Quais regiões os critérios para que uma implantação de unidade do CRAS seja necessária?\n",
    "8.   Qual o percentual de moradores de rua em cada regional de Belo Horizonte?\n",
    "9.   Qual o percentual de moradores de rua que possuem contato com parentes fora das ruas?\n",
    "10.  É possível vincular áreas com mais pessoas em situação de rua com uma maior criminalidade?\n",
    "11.  Houve crescimento da população em situação de rua durante o período da pandemia?\n",
    "12.  Quais os impactos da pandemia na remuneração dessa população.\n",
    "13.  Qual a cobertura do Bolsa Família nas pessoas em situação de rua?\n",
    "14.  Qual a relação das associações entre idade, escolaridade,  valor de remuneração do trabalho principal, o sexo e idade da população em situação de rua?**\n",
    "15.  Quais as características que podem definir desta população em um processo de classificação?\n",
    "16.  Aproximadamente quantas moradias seriam necessárias para abrigar essa população?* (apresentação)\n",
    "17.  Quais políticas públicas devem ser aprimoradas para atender essa população?* (apresentação)\n",
    "18.  Qual a média de tempo em que os moradores vivem na rua?\n",
    "19.  Quais são a raça e o sexo predominante de cada regional presente no banco de dados?\n",
    "20.  Qual é o grau de instrução da população de rua?\n",
    "\n",
    "*Alguns dos tópicos serão abordados na apresentação.\n",
    "\n",
    "**Perguntas que ainda demandam pesquisa e análise."
   ]
  },
  {
   "cell_type": "markdown",
   "metadata": {
    "id": "MDExVXJ1QLfm"
   },
   "source": [
    "# Importantando as bibliotecas:"
   ]
  },
  {
   "cell_type": "code",
   "execution_count": 247,
   "metadata": {
    "id": "m33sQylPQGl3"
   },
   "outputs": [],
   "source": [
    "import pandas as pd\n",
    "from datetime import datetime, date\n",
    "import matplotlib.pyplot as plt\n",
    "import seaborn as sns\n",
    "\n",
    "%matplotlib inline"
   ]
  },
  {
   "cell_type": "markdown",
   "metadata": {
    "id": "hahcR2klIlyN"
   },
   "source": [
    "## Coleta dos dados"
   ]
  },
  {
   "cell_type": "code",
   "execution_count": 248,
   "metadata": {
    "id": "jwGSidFXQyH9"
   },
   "outputs": [],
   "source": [
    "#URLs dos arquivos (direto da base de dados)\n",
    "url_9_20 = 'https://ckan.pbh.gov.br/dataset/1f868d62-d7c3-4121-8ffa-9ed66d71d3e2/resource/aa8477c0-81fc-442c-b1bf-25475674adda/download/4-data_set_poprua_cadunico_09-2020.csv'\n",
    "url_10_20 = 'https://ckan.pbh.gov.br/dataset/1f868d62-d7c3-4121-8ffa-9ed66d71d3e2/resource/d498812a-0d81-46de-93d1-9c7cd84b85b8/download/data_set_poprua_cadunico-10-2020.csv'\n",
    "url_11_20 = 'https://ckan.pbh.gov.br/dataset/1f868d62-d7c3-4121-8ffa-9ed66d71d3e2/resource/952c9ff9-a7e6-4800-9ee7-fe7231d92a2c/download/data_set_poprua_cadunico-11-2020.csv'\n",
    "url_12_20 = 'https://ckan.pbh.gov.br/dataset/1f868d62-d7c3-4121-8ffa-9ed66d71d3e2/resource/153bf11e-5416-433b-bca4-790baa1e8f44/download/data_set_poprua_cadunico.csv'\n",
    "url_1_21 = 'https://ckan.pbh.gov.br/dataset/1f868d62-d7c3-4121-8ffa-9ed66d71d3e2/resource/076df2cf-7f98-462d-a544-a10bc675974b/download/data_set_poprua_cadunico.csv'\n",
    "url_2_21 = 'https://ckan.pbh.gov.br/dataset/1f868d62-d7c3-4121-8ffa-9ed66d71d3e2/resource/dd2a60bb-3600-4248-815e-69863417f91f/download/data_set_poprua_cadunico.csv'\n",
    "url_3_21 = 'https://ckan.pbh.gov.br/dataset/1f868d62-d7c3-4121-8ffa-9ed66d71d3e2/resource/319191cc-20a5-4e7b-8b13-59cd433902dc/download/data_set_poprua_cadunico.csv'\n",
    "url_4_21 = 'https://ckan.pbh.gov.br/dataset/1f868d62-d7c3-4121-8ffa-9ed66d71d3e2/resource/360b17f7-5262-4a4e-ad3d-6097b756871b/download/data_set_poprua_cadunico.csv'\n",
    "url_5_21 = 'https://ckan.pbh.gov.br/dataset/1f868d62-d7c3-4121-8ffa-9ed66d71d3e2/resource/9096f15c-d400-481f-a078-5238c83ca0e7/download/data_set_poprua_cadunico.csv'\n",
    "url_6_21 = 'https://ckan.pbh.gov.br/dataset/1f868d62-d7c3-4121-8ffa-9ed66d71d3e2/resource/44baba43-85ba-4838-8c6e-6adcb469e03b/download/data_set_poprua_cadunico_06-2021.csv'\n",
    "url_7_21 = 'https://ckan.pbh.gov.br/dataset/1f868d62-d7c3-4121-8ffa-9ed66d71d3e2/resource/f904a3a6-1f6e-42b6-b326-7ab0bfe8eca6/download/data_set_poprua_cadunico_07-2021.csv'\n",
    "\n",
    "#Leitura individual de cada um\n",
    "data9_20 = pd.read_csv(url_9_20,sep = \";\")\n",
    "data10_20 = pd.read_csv(url_10_20,sep = \";\")\n",
    "data11_20 = pd.read_csv(url_11_20,sep = \";\")\n",
    "data12_20 = pd.read_csv(url_12_20,sep = \";\")\n",
    "data1_21 = pd.read_csv(url_1_21,sep = \";\")\n",
    "data2_21 = pd.read_csv(url_2_21,sep = \";\")\n",
    "data3_21 = pd.read_csv(url_3_21,sep = \";\")\n",
    "data4_21 = pd.read_csv(url_4_21,sep = \";\")\n",
    "data5_21 = pd.read_csv(url_5_21,sep = \";\")\n",
    "data6_21 = pd.read_csv(url_6_21,sep = \";\")\n",
    "data7_21 = pd.read_csv(url_7_21,sep = \";\")\n"
   ]
  },
  {
   "cell_type": "markdown",
   "metadata": {
    "id": "9grejxxiOQv0"
   },
   "source": [
    "# Agrupando todos os dados em um único Dataframe\n"
   ]
  },
  {
   "cell_type": "code",
   "execution_count": 249,
   "metadata": {
    "id": "xShhqhZpT10c"
   },
   "outputs": [],
   "source": [
    "df=pd.concat([data9_20,data10_20, data11_20, data12_20, data1_21, data2_21, data3_21, data4_21, data5_21, data6_21, data7_21],ignore_index=True)\n"
   ]
  },
  {
   "cell_type": "markdown",
   "metadata": {
    "id": "-U-CYM7ykMkj"
   },
   "source": [
    "# Agrupando os dados por ano\n"
   ]
  },
  {
   "cell_type": "code",
   "execution_count": 250,
   "metadata": {
    "id": "jbEGVTyXkXSo"
   },
   "outputs": [],
   "source": [
    "df2020=pd.concat([data9_20,data10_20, data11_20, data12_20],ignore_index=True)\n",
    "df2021=pd.concat([data1_21, data2_21, data3_21, data4_21, data5_21, data6_21, data7_21],ignore_index=True)"
   ]
  },
  {
   "cell_type": "markdown",
   "metadata": {
    "id": "Qsjf2akbOI-9"
   },
   "source": [
    "# Tratamento dos dados"
   ]
  },
  {
   "cell_type": "markdown",
   "metadata": {
    "id": "O5rpbAZaPGu9"
   },
   "source": [
    "**Verificar campos vazios/nulos:**\n"
   ]
  },
  {
   "cell_type": "code",
   "execution_count": 251,
   "metadata": {
    "colab": {
     "base_uri": "https://localhost:8080/"
    },
    "id": "5GdbXZDmUDir",
    "outputId": "4e950a44-8f3d-44c7-8952-d4e482b63541"
   },
   "outputs": [
    {
     "data": {
      "text/plain": [
       "TEMPO_VIVE_NA_RUA                        0\n",
       "CONTATO_PARENTE_FORA_RUAS                0\n",
       "DATA_NASCIMENTO                          0\n",
       "IDADE                                 8282\n",
       "SEXO                                     0\n",
       "BOLSA_FAMILIA                            0\n",
       "POP_RUA                                  0\n",
       "GRAU_INSTRUCAO                           0\n",
       "COR_RACA                                 0\n",
       "Faixa da renda familiar per capita       0\n",
       "VAL_REMUNERACAO_MES_PASSADO            495\n",
       "CRAS                                     0\n",
       "REGIONAL                                 0\n",
       "FAIXA_DESATUALICACAO_CADASTRAL           0\n",
       "MES_ANO_REFERENCIA                       0\n",
       "dtype: int64"
      ]
     },
     "execution_count": 251,
     "metadata": {},
     "output_type": "execute_result"
    }
   ],
   "source": [
    "df.isnull().sum()"
   ]
  },
  {
   "cell_type": "markdown",
   "metadata": {
    "id": "rWcVK6ACPT1w"
   },
   "source": [
    "* É possível observar que apesar de todos os campos de data de nascimento estarem devidamente preenchidos, alguns dos campos de idade não estão."
   ]
  },
  {
   "cell_type": "markdown",
   "metadata": {
    "id": "yPI8ej13QE9M"
   },
   "source": [
    "**Verificar os tipos dos dados:**"
   ]
  },
  {
   "cell_type": "code",
   "execution_count": 252,
   "metadata": {
    "colab": {
     "base_uri": "https://localhost:8080/"
    },
    "id": "TFx5Mcr_Y1rW",
    "outputId": "fd364498-36cb-4a17-dd55-a49c137f9fbb"
   },
   "outputs": [
    {
     "data": {
      "text/plain": [
       "TEMPO_VIVE_NA_RUA                      object\n",
       "CONTATO_PARENTE_FORA_RUAS              object\n",
       "DATA_NASCIMENTO                        object\n",
       "IDADE                                 float64\n",
       "SEXO                                   object\n",
       "BOLSA_FAMILIA                          object\n",
       "POP_RUA                                object\n",
       "GRAU_INSTRUCAO                         object\n",
       "COR_RACA                               object\n",
       "Faixa da renda familiar per capita     object\n",
       "VAL_REMUNERACAO_MES_PASSADO           float64\n",
       "CRAS                                   object\n",
       "REGIONAL                               object\n",
       "FAIXA_DESATUALICACAO_CADASTRAL         object\n",
       "MES_ANO_REFERENCIA                     object\n",
       "dtype: object"
      ]
     },
     "execution_count": 252,
     "metadata": {},
     "output_type": "execute_result"
    }
   ],
   "source": [
    "df.dtypes"
   ]
  },
  {
   "cell_type": "markdown",
   "metadata": {
    "id": "BNMqOXrQQVeI"
   },
   "source": [
    "* Alguns detalhes importantes: A data_nascimento não está no formato date e os campos idade e val_remuneracao_mes_passado estão no formato float.\n",
    "\n",
    "* Um dicionário com os tipos de cada atributo é fornecido juntamente ao banco de dados, contudo ele mostrou-se não confiável."
   ]
  },
  {
   "cell_type": "markdown",
   "metadata": {
    "id": "R6y4somCgwux"
   },
   "source": [
    "## Utilizando a data de nascimento para cálculo da idade:"
   ]
  },
  {
   "cell_type": "markdown",
   "metadata": {
    "id": "H1UUCH6HU-0I"
   },
   "source": [
    "* Convertendo MES_ANO_REFERENCIA de objetct para datetime\n"
   ]
  },
  {
   "cell_type": "code",
   "execution_count": 253,
   "metadata": {
    "colab": {
     "base_uri": "https://localhost:8080/"
    },
    "id": "FXVHGxvsVJdp",
    "outputId": "d87a53d0-3485-4880-fb0f-26f11ae23dc6"
   },
   "outputs": [
    {
     "data": {
      "text/plain": [
       "TEMPO_VIVE_NA_RUA                             object\n",
       "CONTATO_PARENTE_FORA_RUAS                     object\n",
       "DATA_NASCIMENTO                               object\n",
       "IDADE                                        float64\n",
       "SEXO                                          object\n",
       "BOLSA_FAMILIA                                 object\n",
       "POP_RUA                                       object\n",
       "GRAU_INSTRUCAO                                object\n",
       "COR_RACA                                      object\n",
       "Faixa da renda familiar per capita            object\n",
       "VAL_REMUNERACAO_MES_PASSADO                  float64\n",
       "CRAS                                          object\n",
       "REGIONAL                                      object\n",
       "FAIXA_DESATUALICACAO_CADASTRAL                object\n",
       "MES_ANO_REFERENCIA                    datetime64[ns]\n",
       "dtype: object"
      ]
     },
     "execution_count": 253,
     "metadata": {},
     "output_type": "execute_result"
    }
   ],
   "source": [
    "df['MES_ANO_REFERENCIA'] = pd.to_datetime(df['MES_ANO_REFERENCIA'])\n",
    "df.dtypes\n"
   ]
  },
  {
   "cell_type": "markdown",
   "metadata": {
    "id": "zqIFBErrXzgq"
   },
   "source": [
    "* Escolhemos calcular as idades das linhas que cujo valor é nulo já que todos tem o atributo DATA_NASCIMENTO preenchido\n",
    "\n"
   ]
  },
  {
   "cell_type": "code",
   "execution_count": 254,
   "metadata": {
    "id": "aSz_9MMOX0KD"
   },
   "outputs": [],
   "source": [
    "##função para calcular idade\n",
    "def age(born):\n",
    "    born =datetime.strptime(born, \"%d/%m/%Y\").date()\n",
    "    today = date.today()\n",
    "    return today.year - born.year - ((today.month, \n",
    "                                      today.day) < (born.month, \n",
    "                                                    born.day))"
   ]
  },
  {
   "cell_type": "code",
   "execution_count": 255,
   "metadata": {
    "colab": {
     "base_uri": "https://localhost:8080/"
    },
    "id": "RhXYvTbyYVxn",
    "outputId": "63831874-068a-4eda-9104-86355bacaa79"
   },
   "outputs": [
    {
     "data": {
      "text/plain": [
       "TEMPO_VIVE_NA_RUA                       0\n",
       "CONTATO_PARENTE_FORA_RUAS               0\n",
       "DATA_NASCIMENTO                         0\n",
       "IDADE                                   0\n",
       "SEXO                                    0\n",
       "BOLSA_FAMILIA                           0\n",
       "POP_RUA                                 0\n",
       "GRAU_INSTRUCAO                          0\n",
       "COR_RACA                                0\n",
       "Faixa da renda familiar per capita      0\n",
       "VAL_REMUNERACAO_MES_PASSADO           495\n",
       "CRAS                                    0\n",
       "REGIONAL                                0\n",
       "FAIXA_DESATUALICACAO_CADASTRAL          0\n",
       "MES_ANO_REFERENCIA                      0\n",
       "dtype: int64"
      ]
     },
     "execution_count": 255,
     "metadata": {},
     "output_type": "execute_result"
    }
   ],
   "source": [
    "df['IDADE'] = df['DATA_NASCIMENTO'].apply(age)\n",
    "df.isnull().sum()"
   ]
  },
  {
   "cell_type": "markdown",
   "metadata": {
    "id": "Y5P5-BxtwJIp"
   },
   "source": [
    "* as linhas com valores nulos de VAL_REMUNERACAO_MES_PASSADO serão retiradas visto que preencher com -1 ou algum texto marcados poderia alterar médias futuras e não temos informações suficientes para afirmar que todos os valores nulos dessa coluna podem ser substituidos por 0"
   ]
  },
  {
   "cell_type": "code",
   "execution_count": 256,
   "metadata": {
    "id": "WYTreu8qfqC0"
   },
   "outputs": [],
   "source": [
    "df = df.drop(columns = ['VAL_REMUNERACAO_MES_PASSADO'])"
   ]
  },
  {
   "cell_type": "markdown",
   "metadata": {
    "id": "m9MSFuF6m3B0"
   },
   "source": [
    "# **Análise exploratória dos dados**"
   ]
  },
  {
   "cell_type": "markdown",
   "metadata": {
    "id": "nF9zV9452GFt"
   },
   "source": [
    "Cabeçalho do Dataframe:\n"
   ]
  },
  {
   "cell_type": "code",
   "execution_count": 257,
   "metadata": {
    "colab": {
     "base_uri": "https://localhost:8080/",
     "height": 556
    },
    "id": "BUKh3TAN2fs3",
    "outputId": "ec294e4b-95f5-4e74-eb7e-b62f9f200910"
   },
   "outputs": [
    {
     "data": {
      "text/html": [
       "<div>\n",
       "<style scoped>\n",
       "    .dataframe tbody tr th:only-of-type {\n",
       "        vertical-align: middle;\n",
       "    }\n",
       "\n",
       "    .dataframe tbody tr th {\n",
       "        vertical-align: top;\n",
       "    }\n",
       "\n",
       "    .dataframe thead th {\n",
       "        text-align: right;\n",
       "    }\n",
       "</style>\n",
       "<table border=\"1\" class=\"dataframe\">\n",
       "  <thead>\n",
       "    <tr style=\"text-align: right;\">\n",
       "      <th></th>\n",
       "      <th>TEMPO_VIVE_NA_RUA</th>\n",
       "      <th>CONTATO_PARENTE_FORA_RUAS</th>\n",
       "      <th>DATA_NASCIMENTO</th>\n",
       "      <th>IDADE</th>\n",
       "      <th>SEXO</th>\n",
       "      <th>BOLSA_FAMILIA</th>\n",
       "      <th>POP_RUA</th>\n",
       "      <th>GRAU_INSTRUCAO</th>\n",
       "      <th>COR_RACA</th>\n",
       "      <th>Faixa da renda familiar per capita</th>\n",
       "      <th>CRAS</th>\n",
       "      <th>REGIONAL</th>\n",
       "      <th>FAIXA_DESATUALICACAO_CADASTRAL</th>\n",
       "      <th>MES_ANO_REFERENCIA</th>\n",
       "    </tr>\n",
       "  </thead>\n",
       "  <tbody>\n",
       "    <tr>\n",
       "      <th>0</th>\n",
       "      <td>Entre um e dois anos</td>\n",
       "      <td>Todo mes</td>\n",
       "      <td>07/06/1958</td>\n",
       "      <td>63</td>\n",
       "      <td>FEMININO</td>\n",
       "      <td>SIM</td>\n",
       "      <td>SIM</td>\n",
       "      <td>Fundamental incompleto</td>\n",
       "      <td>Preta</td>\n",
       "      <td>Ate R$89.00</td>\n",
       "      <td>ENDERECO FORA DE AREA CRAS</td>\n",
       "      <td>CENTRO SUL</td>\n",
       "      <td>13 a 18 Meses</td>\n",
       "      <td>2020-01-09</td>\n",
       "    </tr>\n",
       "    <tr>\n",
       "      <th>1</th>\n",
       "      <td>Ate seis meses</td>\n",
       "      <td>Quase nunca</td>\n",
       "      <td>04/06/1986</td>\n",
       "      <td>35</td>\n",
       "      <td>MASCULINO</td>\n",
       "      <td>NAO</td>\n",
       "      <td>SIM</td>\n",
       "      <td>Medio incompleto</td>\n",
       "      <td>Parda</td>\n",
       "      <td>Acima de 0.5 Salario Minimo</td>\n",
       "      <td>ENDERECO FORA DE AREA CRAS</td>\n",
       "      <td>NORDESTE</td>\n",
       "      <td>ate 12 Meses</td>\n",
       "      <td>2020-01-09</td>\n",
       "    </tr>\n",
       "    <tr>\n",
       "      <th>2</th>\n",
       "      <td>Entre cinco e dez anos</td>\n",
       "      <td>Nunca</td>\n",
       "      <td>03/10/1963</td>\n",
       "      <td>58</td>\n",
       "      <td>FEMININO</td>\n",
       "      <td>SIM</td>\n",
       "      <td>SIM</td>\n",
       "      <td>Fundamental incompleto</td>\n",
       "      <td>Parda</td>\n",
       "      <td>Ate R$89.00</td>\n",
       "      <td>ENDERECO FORA DE AREA CRAS</td>\n",
       "      <td>OESTE</td>\n",
       "      <td>37 a 48 Meses</td>\n",
       "      <td>2020-01-09</td>\n",
       "    </tr>\n",
       "    <tr>\n",
       "      <th>3</th>\n",
       "      <td>Ate seis meses</td>\n",
       "      <td>Todo dia</td>\n",
       "      <td>03/04/1958</td>\n",
       "      <td>63</td>\n",
       "      <td>FEMININO</td>\n",
       "      <td>NAO</td>\n",
       "      <td>SIM</td>\n",
       "      <td>Fundamental incompleto</td>\n",
       "      <td>Parda</td>\n",
       "      <td>Acima de 0.5 Salario Minimo</td>\n",
       "      <td>ENDERECO FORA DE AREA CRAS</td>\n",
       "      <td>CENTRO SUL</td>\n",
       "      <td>13 a 18 Meses</td>\n",
       "      <td>2020-01-09</td>\n",
       "    </tr>\n",
       "    <tr>\n",
       "      <th>4</th>\n",
       "      <td>Entre cinco e dez anos</td>\n",
       "      <td>Todo ano</td>\n",
       "      <td>11/08/1960</td>\n",
       "      <td>61</td>\n",
       "      <td>MASCULINO</td>\n",
       "      <td>SIM</td>\n",
       "      <td>SIM</td>\n",
       "      <td>Fundamental incompleto</td>\n",
       "      <td>Parda</td>\n",
       "      <td>Ate R$89.00</td>\n",
       "      <td>ENDERECO FORA DE AREA CRAS</td>\n",
       "      <td>CENTRO SUL</td>\n",
       "      <td>ate 12 Meses</td>\n",
       "      <td>2020-01-09</td>\n",
       "    </tr>\n",
       "  </tbody>\n",
       "</table>\n",
       "</div>"
      ],
      "text/plain": [
       "        TEMPO_VIVE_NA_RUA  ... MES_ANO_REFERENCIA\n",
       "0    Entre um e dois anos  ...         2020-01-09\n",
       "1          Ate seis meses  ...         2020-01-09\n",
       "2  Entre cinco e dez anos  ...         2020-01-09\n",
       "3          Ate seis meses  ...         2020-01-09\n",
       "4  Entre cinco e dez anos  ...         2020-01-09\n",
       "\n",
       "[5 rows x 14 columns]"
      ]
     },
     "execution_count": 257,
     "metadata": {},
     "output_type": "execute_result"
    }
   ],
   "source": [
    "df.head()"
   ]
  },
  {
   "cell_type": "markdown",
   "metadata": {
    "id": "I0JEyt2lKeQp"
   },
   "source": [
    "**Tipos de dados:**\n"
   ]
  },
  {
   "cell_type": "code",
   "execution_count": 258,
   "metadata": {
    "colab": {
     "base_uri": "https://localhost:8080/"
    },
    "id": "2rpISmtsKlg5",
    "outputId": "f7b17eac-265e-4f08-bd9c-eab1acf8ef1b"
   },
   "outputs": [
    {
     "data": {
      "text/plain": [
       "TEMPO_VIVE_NA_RUA                             object\n",
       "CONTATO_PARENTE_FORA_RUAS                     object\n",
       "DATA_NASCIMENTO                               object\n",
       "IDADE                                          int64\n",
       "SEXO                                          object\n",
       "BOLSA_FAMILIA                                 object\n",
       "POP_RUA                                       object\n",
       "GRAU_INSTRUCAO                                object\n",
       "COR_RACA                                      object\n",
       "Faixa da renda familiar per capita            object\n",
       "CRAS                                          object\n",
       "REGIONAL                                      object\n",
       "FAIXA_DESATUALICACAO_CADASTRAL                object\n",
       "MES_ANO_REFERENCIA                    datetime64[ns]\n",
       "dtype: object"
      ]
     },
     "execution_count": 258,
     "metadata": {},
     "output_type": "execute_result"
    }
   ],
   "source": [
    "df.dtypes\n"
   ]
  },
  {
   "cell_type": "markdown",
   "metadata": {
    "id": "9nXiP176z7bN"
   },
   "source": [
    "*O atributo \"Faixa de renda familiar per capita\" apresentou comportamento inesperado durante os trabalhos e o grupo optou por não utilizá-lo nas análises. "
   ]
  },
  {
   "cell_type": "code",
   "execution_count": 259,
   "metadata": {
    "colab": {
     "base_uri": "https://localhost:8080/",
     "height": 965
    },
    "id": "qPAwNzac08Cj",
    "outputId": "bc46df60-cfa5-4d7d-e79c-f4c1df46388e"
   },
   "outputs": [
    {
     "data": {
      "text/html": [
       "<div>\n",
       "<style scoped>\n",
       "    .dataframe tbody tr th:only-of-type {\n",
       "        vertical-align: middle;\n",
       "    }\n",
       "\n",
       "    .dataframe tbody tr th {\n",
       "        vertical-align: top;\n",
       "    }\n",
       "\n",
       "    .dataframe thead th {\n",
       "        text-align: right;\n",
       "    }\n",
       "</style>\n",
       "<table border=\"1\" class=\"dataframe\">\n",
       "  <thead>\n",
       "    <tr style=\"text-align: right;\">\n",
       "      <th></th>\n",
       "      <th>TEMPO_VIVE_NA_RUA</th>\n",
       "      <th>CONTATO_PARENTE_FORA_RUAS</th>\n",
       "      <th>DATA_NASCIMENTO</th>\n",
       "      <th>IDADE</th>\n",
       "      <th>SEXO</th>\n",
       "      <th>BOLSA_FAMILIA</th>\n",
       "      <th>POP_RUA</th>\n",
       "      <th>GRAU_INSTRUCAO</th>\n",
       "      <th>COR_RACA</th>\n",
       "      <th>CRAS</th>\n",
       "      <th>REGIONAL</th>\n",
       "      <th>FAIXA_DESATUALICACAO_CADASTRAL</th>\n",
       "      <th>MES_ANO_REFERENCIA</th>\n",
       "    </tr>\n",
       "  </thead>\n",
       "  <tbody>\n",
       "    <tr>\n",
       "      <th>0</th>\n",
       "      <td>Entre um e dois anos</td>\n",
       "      <td>Todo mes</td>\n",
       "      <td>07/06/1958</td>\n",
       "      <td>63</td>\n",
       "      <td>FEMININO</td>\n",
       "      <td>SIM</td>\n",
       "      <td>SIM</td>\n",
       "      <td>Fundamental incompleto</td>\n",
       "      <td>Preta</td>\n",
       "      <td>ENDERECO FORA DE AREA CRAS</td>\n",
       "      <td>CENTRO SUL</td>\n",
       "      <td>13 a 18 Meses</td>\n",
       "      <td>2020-01-09</td>\n",
       "    </tr>\n",
       "    <tr>\n",
       "      <th>1</th>\n",
       "      <td>Ate seis meses</td>\n",
       "      <td>Quase nunca</td>\n",
       "      <td>04/06/1986</td>\n",
       "      <td>35</td>\n",
       "      <td>MASCULINO</td>\n",
       "      <td>NAO</td>\n",
       "      <td>SIM</td>\n",
       "      <td>Medio incompleto</td>\n",
       "      <td>Parda</td>\n",
       "      <td>ENDERECO FORA DE AREA CRAS</td>\n",
       "      <td>NORDESTE</td>\n",
       "      <td>ate 12 Meses</td>\n",
       "      <td>2020-01-09</td>\n",
       "    </tr>\n",
       "    <tr>\n",
       "      <th>2</th>\n",
       "      <td>Entre cinco e dez anos</td>\n",
       "      <td>Nunca</td>\n",
       "      <td>03/10/1963</td>\n",
       "      <td>58</td>\n",
       "      <td>FEMININO</td>\n",
       "      <td>SIM</td>\n",
       "      <td>SIM</td>\n",
       "      <td>Fundamental incompleto</td>\n",
       "      <td>Parda</td>\n",
       "      <td>ENDERECO FORA DE AREA CRAS</td>\n",
       "      <td>OESTE</td>\n",
       "      <td>37 a 48 Meses</td>\n",
       "      <td>2020-01-09</td>\n",
       "    </tr>\n",
       "    <tr>\n",
       "      <th>3</th>\n",
       "      <td>Ate seis meses</td>\n",
       "      <td>Todo dia</td>\n",
       "      <td>03/04/1958</td>\n",
       "      <td>63</td>\n",
       "      <td>FEMININO</td>\n",
       "      <td>NAO</td>\n",
       "      <td>SIM</td>\n",
       "      <td>Fundamental incompleto</td>\n",
       "      <td>Parda</td>\n",
       "      <td>ENDERECO FORA DE AREA CRAS</td>\n",
       "      <td>CENTRO SUL</td>\n",
       "      <td>13 a 18 Meses</td>\n",
       "      <td>2020-01-09</td>\n",
       "    </tr>\n",
       "    <tr>\n",
       "      <th>4</th>\n",
       "      <td>Entre cinco e dez anos</td>\n",
       "      <td>Todo ano</td>\n",
       "      <td>11/08/1960</td>\n",
       "      <td>61</td>\n",
       "      <td>MASCULINO</td>\n",
       "      <td>SIM</td>\n",
       "      <td>SIM</td>\n",
       "      <td>Fundamental incompleto</td>\n",
       "      <td>Parda</td>\n",
       "      <td>ENDERECO FORA DE AREA CRAS</td>\n",
       "      <td>CENTRO SUL</td>\n",
       "      <td>ate 12 Meses</td>\n",
       "      <td>2020-01-09</td>\n",
       "    </tr>\n",
       "    <tr>\n",
       "      <th>...</th>\n",
       "      <td>...</td>\n",
       "      <td>...</td>\n",
       "      <td>...</td>\n",
       "      <td>...</td>\n",
       "      <td>...</td>\n",
       "      <td>...</td>\n",
       "      <td>...</td>\n",
       "      <td>...</td>\n",
       "      <td>...</td>\n",
       "      <td>...</td>\n",
       "      <td>...</td>\n",
       "      <td>...</td>\n",
       "      <td>...</td>\n",
       "    </tr>\n",
       "    <tr>\n",
       "      <th>95178</th>\n",
       "      <td>Ate seis meses</td>\n",
       "      <td>Quase nunca</td>\n",
       "      <td>28/08/1961</td>\n",
       "      <td>60</td>\n",
       "      <td>MASCULINO</td>\n",
       "      <td>SIM</td>\n",
       "      <td>SIM</td>\n",
       "      <td>Sem instrucao</td>\n",
       "      <td>Parda</td>\n",
       "      <td>ENDERECO FORA AREA CRAS</td>\n",
       "      <td>CENTRO SUL</td>\n",
       "      <td>ate 12 Meses</td>\n",
       "      <td>2021-01-07</td>\n",
       "    </tr>\n",
       "    <tr>\n",
       "      <th>95179</th>\n",
       "      <td>Entre um e dois anos</td>\n",
       "      <td>Todo mes</td>\n",
       "      <td>08/08/1981</td>\n",
       "      <td>40</td>\n",
       "      <td>MASCULINO</td>\n",
       "      <td>SIM</td>\n",
       "      <td>SIM</td>\n",
       "      <td>Fundamental incompleto</td>\n",
       "      <td>Parda</td>\n",
       "      <td>ENDERECO FORA AREA CRAS</td>\n",
       "      <td>LESTE</td>\n",
       "      <td>ate 12 Meses</td>\n",
       "      <td>2021-01-07</td>\n",
       "    </tr>\n",
       "    <tr>\n",
       "      <th>95180</th>\n",
       "      <td>Ate seis meses</td>\n",
       "      <td>Quase nunca</td>\n",
       "      <td>24/09/1973</td>\n",
       "      <td>48</td>\n",
       "      <td>MASCULINO</td>\n",
       "      <td>SIM</td>\n",
       "      <td>SIM</td>\n",
       "      <td>Fundamental incompleto</td>\n",
       "      <td>Nao Informado</td>\n",
       "      <td>ENDERECO FORA AREA CRAS</td>\n",
       "      <td>VENDA NOVA</td>\n",
       "      <td>ate 12 Meses</td>\n",
       "      <td>2021-01-07</td>\n",
       "    </tr>\n",
       "    <tr>\n",
       "      <th>95181</th>\n",
       "      <td>Entre cinco e dez anos</td>\n",
       "      <td>Quase nunca</td>\n",
       "      <td>23/11/1961</td>\n",
       "      <td>59</td>\n",
       "      <td>MASCULINO</td>\n",
       "      <td>SIM</td>\n",
       "      <td>SIM</td>\n",
       "      <td>Fundamental incompleto</td>\n",
       "      <td>Parda</td>\n",
       "      <td>ENDERECO FORA AREA CRAS</td>\n",
       "      <td>CENTRO SUL</td>\n",
       "      <td>ate 12 Meses</td>\n",
       "      <td>2021-01-07</td>\n",
       "    </tr>\n",
       "    <tr>\n",
       "      <th>95182</th>\n",
       "      <td>Entre dois e cinco anos</td>\n",
       "      <td>Nunca</td>\n",
       "      <td>11/05/1970</td>\n",
       "      <td>51</td>\n",
       "      <td>MASCULINO</td>\n",
       "      <td>SIM</td>\n",
       "      <td>SIM</td>\n",
       "      <td>Medio completo</td>\n",
       "      <td>Parda</td>\n",
       "      <td>ENDERECO FORA AREA CRAS</td>\n",
       "      <td>BARREIRO</td>\n",
       "      <td>ate 12 Meses</td>\n",
       "      <td>2021-01-07</td>\n",
       "    </tr>\n",
       "  </tbody>\n",
       "</table>\n",
       "<p>95183 rows × 13 columns</p>\n",
       "</div>"
      ],
      "text/plain": [
       "             TEMPO_VIVE_NA_RUA  ... MES_ANO_REFERENCIA\n",
       "0         Entre um e dois anos  ...         2020-01-09\n",
       "1               Ate seis meses  ...         2020-01-09\n",
       "2       Entre cinco e dez anos  ...         2020-01-09\n",
       "3               Ate seis meses  ...         2020-01-09\n",
       "4       Entre cinco e dez anos  ...         2020-01-09\n",
       "...                        ...  ...                ...\n",
       "95178           Ate seis meses  ...         2021-01-07\n",
       "95179     Entre um e dois anos  ...         2021-01-07\n",
       "95180           Ate seis meses  ...         2021-01-07\n",
       "95181   Entre cinco e dez anos  ...         2021-01-07\n",
       "95182  Entre dois e cinco anos  ...         2021-01-07\n",
       "\n",
       "[95183 rows x 13 columns]"
      ]
     },
     "execution_count": 259,
     "metadata": {},
     "output_type": "execute_result"
    }
   ],
   "source": [
    "df.drop(['Faixa da renda familiar per capita'], axis=1)"
   ]
  },
  {
   "cell_type": "markdown",
   "metadata": {
    "id": "31_IXr2kKeJA"
   },
   "source": [
    "#IDADE\n",
    "### Qual a distribuição geral de idade dos moradores de rua em Belo Horizonte?\n",
    "\n",
    "Observou-se que a maioria dos moradores tem entre 34 e 51 anos."
   ]
  },
  {
   "cell_type": "code",
   "execution_count": 260,
   "metadata": {
    "colab": {
     "base_uri": "https://localhost:8080/"
    },
    "id": "kcr_XbX8L4X2",
    "outputId": "6bdf2768-8a16-40f6-93e6-dcf3cf841a9c"
   },
   "outputs": [
    {
     "data": {
      "text/plain": [
       "count    95183.000000\n",
       "mean        42.753811\n",
       "std         11.805424\n",
       "min          1.000000\n",
       "25%         34.000000\n",
       "50%         42.000000\n",
       "75%         51.000000\n",
       "max         84.000000\n",
       "Name: IDADE, dtype: float64"
      ]
     },
     "execution_count": 260,
     "metadata": {},
     "output_type": "execute_result"
    }
   ],
   "source": [
    "df['IDADE'].describe()"
   ]
  },
  {
   "cell_type": "markdown",
   "metadata": {
    "id": "IUH9OPA_Kd78"
   },
   "source": [
    "**Gráfico por incidência:**"
   ]
  },
  {
   "cell_type": "markdown",
   "metadata": {
    "id": "4_UKNk3Q3dTC"
   },
   "source": [
    "Observa-se que a idade de 40 anos é a que possui mais representantes."
   ]
  },
  {
   "cell_type": "code",
   "execution_count": 261,
   "metadata": {
    "colab": {
     "base_uri": "https://localhost:8080/",
     "height": 329
    },
    "id": "H7USasLuMDGh",
    "outputId": "8a98589c-aa2f-48d5-b95d-4e1fad05563d"
   },
   "outputs": [
    {
     "data": {
      "image/png": "[encoded data removed]",
      "text/plain": [
       "<Figure size 1440x360 with 1 Axes>"
      ]
     },
     "metadata": {
      "needs_background": "light"
     },
     "output_type": "display_data"
    }
   ],
   "source": [
    "fig = plt.figure(figsize=(20,5))\n",
    "fig = df['IDADE'].value_counts().plot.bar()\n",
    "fig.set_title('Distribuição de idade da população de rua de BH')\n",
    "plt.show()"
   ]
  },
  {
   "cell_type": "code",
   "execution_count": 262,
   "metadata": {
    "colab": {
     "base_uri": "https://localhost:8080/",
     "height": 386
    },
    "id": "h2Pziag9Mc5P",
    "outputId": "d3413924-b670-4c9b-d557-3f54a79afadc"
   },
   "outputs": [
    {
     "data": {
      "text/plain": [
       "<seaborn.axisgrid.FacetGrid at 0x7f4c38e8dd90>"
      ]
     },
     "execution_count": 262,
     "metadata": {},
     "output_type": "execute_result"
    },
    {
     "data": {
      "image/png": "[encoded data removed]",
      "text/plain": [
       "<Figure size 360x360 with 1 Axes>"
      ]
     },
     "metadata": {
      "needs_background": "light"
     },
     "output_type": "display_data"
    }
   ],
   "source": [
    "sns.catplot(x=\"IDADE\", kind=\"box\", palette=\"hls\" ,data=df)"
   ]
  },
  {
   "cell_type": "markdown",
   "metadata": {
    "id": "X5qkstsXMdrF"
   },
   "source": [
    "#SEXO\n"
   ]
  },
  {
   "cell_type": "markdown",
   "metadata": {
    "id": "SD3ibJpmNCTi"
   },
   "source": [
    "\n",
    "### Qual é a distribuição do sexo da população de rua de BH?\n",
    "\n",
    "Quase 90% (89%, precisamente) da população de rua é do sexo masculino."
   ]
  },
  {
   "cell_type": "code",
   "execution_count": 263,
   "metadata": {
    "colab": {
     "base_uri": "https://localhost:8080/"
    },
    "id": "V_tDfaSfM5pr",
    "outputId": "9b99dc13-8a68-454d-9f83-81de32fe9f18"
   },
   "outputs": [
    {
     "data": {
      "text/plain": [
       "MASCULINO    84545\n",
       "FEMININO     10638\n",
       "Name: SEXO, dtype: int64"
      ]
     },
     "execution_count": 263,
     "metadata": {},
     "output_type": "execute_result"
    }
   ],
   "source": [
    "df['SEXO'].value_counts()"
   ]
  },
  {
   "cell_type": "code",
   "execution_count": 264,
   "metadata": {
    "colab": {
     "base_uri": "https://localhost:8080/",
     "height": 386
    },
    "id": "ANcPRiW0M7-N",
    "outputId": "e57b0aef-90c0-4e50-d52f-1575258df6c9"
   },
   "outputs": [
    {
     "data": {
      "text/plain": [
       "<seaborn.axisgrid.FacetGrid at 0x7f4c38e5dc90>"
      ]
     },
     "execution_count": 264,
     "metadata": {},
     "output_type": "execute_result"
    },
    {
     "data": {
      "image/png": "[encoded data removed]",
      "text/plain": [
       "<Figure size 360x360 with 1 Axes>"
      ]
     },
     "metadata": {
      "needs_background": "light"
     },
     "output_type": "display_data"
    }
   ],
   "source": [
    "sns.catplot(x=\"SEXO\", kind=\"count\", palette=\"hls\", data=df)"
   ]
  },
  {
   "cell_type": "markdown",
   "metadata": {
    "id": "PUox0kl2vE8M"
   },
   "source": [
    "### Qual a relação entre o contato com parentes e o tempo que estão em situação de rua?\n",
    "\n",
    "\n",
    "\n",
    "*   46% das pessoas nunca veem seus parentes.\n",
    "*   22% das pessoas quase nunca veem seus parentes.\n",
    "*   14% das pessoas veem seus parentes todo mês.\n",
    "*   9% das pessoas veem seus parentes toda semana.\n",
    "*   5% das pessoas veem seus parentes todo ano.\n",
    "*   4% das pessoas veem seus parentes todo dia.\n"
   ]
  },
  {
   "cell_type": "code",
   "execution_count": 265,
   "metadata": {
    "colab": {
     "base_uri": "https://localhost:8080/"
    },
    "id": "mJ3iP2OevIhs",
    "outputId": "a95b064c-fef8-4ddf-84f5-78109467389c"
   },
   "outputs": [
    {
     "data": {
      "text/plain": [
       "Nunca          43304\n",
       "Quase nunca    21189\n",
       "Todo mes       13726\n",
       "Toda semana     8221\n",
       "Todo ano        5162\n",
       "Todo dia        3581\n",
       "Name: CONTATO_PARENTE_FORA_RUAS, dtype: int64"
      ]
     },
     "execution_count": 265,
     "metadata": {},
     "output_type": "execute_result"
    }
   ],
   "source": [
    "df['CONTATO_PARENTE_FORA_RUAS'].value_counts()"
   ]
  },
  {
   "cell_type": "markdown",
   "metadata": {
    "id": "52ltoX9wvR-5"
   },
   "source": [
    "* 42% das mulheres moradoras de rua nunca veem seus parentes\n",
    "* 22% das mulheres moradoras de rua quase nunca veem seus parentes\n",
    "* 16% das mulheres moradoras de rua veem seus parentes todo mês\n",
    "* 11% das mulheres moradoras de rua veem seus parentes toda semana\n",
    "* 5% das mulheres moradoras de rua veem seus parentes todo ano.\n",
    "* 4% das mulheres moradoras de rua veem seus parentes todo dia."
   ]
  },
  {
   "cell_type": "code",
   "execution_count": 266,
   "metadata": {
    "colab": {
     "base_uri": "https://localhost:8080/"
    },
    "id": "MKETTEwbvTBR",
    "outputId": "85ca7243-18a7-4c80-ddbd-1d1b4a73d3bc"
   },
   "outputs": [
    {
     "data": {
      "text/plain": [
       "Nunca          4508\n",
       "Quase nunca    2352\n",
       "Todo mes       1654\n",
       "Toda semana    1110\n",
       "Todo ano        507\n",
       "Todo dia        507\n",
       "Name: CONTATO_PARENTE_FORA_RUAS, dtype: int64"
      ]
     },
     "execution_count": 266,
     "metadata": {},
     "output_type": "execute_result"
    }
   ],
   "source": [
    "fem = df[df['SEXO'] == 'FEMININO']\n",
    "fem['CONTATO_PARENTE_FORA_RUAS'].value_counts()"
   ]
  },
  {
   "cell_type": "markdown",
   "metadata": {
    "id": "xXTOcrepvXda"
   },
   "source": [
    "* 46% dos homens moradores de rua nunca veem seus parentes.\n",
    "* 22% dos homens moradores de rua quase nunca veem seus parentes.\n",
    "* 14% dos homens moradores de rua veem seus parentes todo mês.\n",
    "* 8% dos homens moradores de rua veem seus parentes toda semana.\n",
    "* 6% dos homens moradores de rua veem seus parentes todo ano.\n",
    "* 4% dos homens moradores de rua veem seus parentes todo dia."
   ]
  },
  {
   "cell_type": "code",
   "execution_count": 267,
   "metadata": {
    "colab": {
     "base_uri": "https://localhost:8080/"
    },
    "id": "0lIaiLyUvYcg",
    "outputId": "a7ae0ea0-bb31-4622-b7a2-c8ea3ffece3d"
   },
   "outputs": [
    {
     "data": {
      "text/plain": [
       "Nunca          38796\n",
       "Quase nunca    18837\n",
       "Todo mes       12072\n",
       "Toda semana     7111\n",
       "Todo ano        4655\n",
       "Todo dia        3074\n",
       "Name: CONTATO_PARENTE_FORA_RUAS, dtype: int64"
      ]
     },
     "execution_count": 267,
     "metadata": {},
     "output_type": "execute_result"
    }
   ],
   "source": [
    "masc = df[df['SEXO'] == 'MASCULINO']\n",
    "masc['CONTATO_PARENTE_FORA_RUAS'].value_counts()"
   ]
  },
  {
   "cell_type": "code",
   "execution_count": 268,
   "metadata": {
    "colab": {
     "base_uri": "https://localhost:8080/",
     "height": 369
    },
    "id": "9e2DIy24vdMQ",
    "outputId": "033ee629-0d60-4b61-aadc-71c69f9f61d6"
   },
   "outputs": [
    {
     "data": {
      "image/png": "[encoded data removed]",
      "text/plain": [
       "<Figure size 1080x360 with 1 Axes>"
      ]
     },
     "metadata": {
      "needs_background": "light"
     },
     "output_type": "display_data"
    }
   ],
   "source": [
    "g = sns.catplot(x=\"CONTATO_PARENTE_FORA_RUAS\", kind=\"count\", palette=\"hls\", data=df)\n",
    "g.fig.set_size_inches(15,5)"
   ]
  },
  {
   "cell_type": "code",
   "execution_count": 269,
   "metadata": {
    "colab": {
     "base_uri": "https://localhost:8080/",
     "height": 369
    },
    "id": "i3xfpZy3vhEq",
    "outputId": "4841f73b-29af-45a0-988f-c6f388820952"
   },
   "outputs": [
    {
     "data": {
      "image/png": "[encoded data removed]",
      "text/plain": [
       "<Figure size 1080x360 with 1 Axes>"
      ]
     },
     "metadata": {
      "needs_background": "light"
     },
     "output_type": "display_data"
    }
   ],
   "source": [
    "g = sns.catplot(x=\"CONTATO_PARENTE_FORA_RUAS\", kind=\"count\", hue=\"SEXO\", palette=\"hls\", data=df)\n",
    "g.fig.set_size_inches(15,5)"
   ]
  },
  {
   "cell_type": "markdown",
   "metadata": {
    "id": "qV7qsWTQvsME"
   },
   "source": [
    "### Qual a distribuição de idade de homens moradores de rua em Belo Horizonte?\n",
    "\n",
    "A maioria dos homens tem entre 35 e 51 anos."
   ]
  },
  {
   "cell_type": "code",
   "execution_count": 270,
   "metadata": {
    "colab": {
     "base_uri": "https://localhost:8080/"
    },
    "id": "jZuevqzvvrwH",
    "outputId": "3008816b-187b-4496-ce37-821543af9b4a"
   },
   "outputs": [
    {
     "data": {
      "text/plain": [
       "40    3063\n",
       "41    2965\n",
       "42    2918\n",
       "39    2885\n",
       "38    2850\n",
       "      ... \n",
       "11      11\n",
       "80      11\n",
       "6       11\n",
       "13       4\n",
       "82       3\n",
       "Name: IDADE, Length: 76, dtype: int64"
      ]
     },
     "execution_count": 270,
     "metadata": {},
     "output_type": "execute_result"
    }
   ],
   "source": [
    "masc['IDADE'].value_counts()"
   ]
  },
  {
   "cell_type": "code",
   "execution_count": 271,
   "metadata": {
    "colab": {
     "base_uri": "https://localhost:8080/"
    },
    "id": "3CqOQc5cvxxb",
    "outputId": "113da59b-40c1-45de-fa88-3f1811177502"
   },
   "outputs": [
    {
     "data": {
      "text/plain": [
       "count    84545.000000\n",
       "mean        43.068449\n",
       "std         11.643860\n",
       "min          4.000000\n",
       "25%         35.000000\n",
       "50%         42.000000\n",
       "75%         51.000000\n",
       "max         84.000000\n",
       "Name: IDADE, dtype: float64"
      ]
     },
     "execution_count": 271,
     "metadata": {},
     "output_type": "execute_result"
    }
   ],
   "source": [
    "masc['IDADE'].describe()"
   ]
  },
  {
   "cell_type": "code",
   "execution_count": 272,
   "metadata": {
    "colab": {
     "base_uri": "https://localhost:8080/",
     "height": 386
    },
    "id": "SkPWlSnvv0RZ",
    "outputId": "701bdf3c-0163-4b16-8762-ce561d4015e1"
   },
   "outputs": [
    {
     "data": {
      "text/plain": [
       "<seaborn.axisgrid.FacetGrid at 0x7f4c3a121750>"
      ]
     },
     "execution_count": 272,
     "metadata": {},
     "output_type": "execute_result"
    },
    {
     "data": {
      "image/png": "[encoded data removed]",
      "text/plain": [
       "<Figure size 360x360 with 1 Axes>"
      ]
     },
     "metadata": {
      "needs_background": "light"
     },
     "output_type": "display_data"
    }
   ],
   "source": [
    "sns.catplot(x=\"IDADE\", kind=\"box\", palette=\"hls\" ,data=masc)"
   ]
  },
  {
   "cell_type": "code",
   "execution_count": 273,
   "metadata": {
    "colab": {
     "base_uri": "https://localhost:8080/",
     "height": 351
    },
    "id": "5GEvuZiSv3Ih",
    "outputId": "1e1a32c6-1952-4f86-9f05-5babee31c493"
   },
   "outputs": [
    {
     "data": {
      "image/png": "[encoded data removed]",
      "text/plain": [
       "<Figure size 1440x360 with 1 Axes>"
      ]
     },
     "metadata": {
      "needs_background": "light"
     },
     "output_type": "display_data"
    }
   ],
   "source": [
    "g = sns.catplot(x=\"IDADE\", kind=\"count\", palette=\"hls\", data=masc)\n",
    "g.fig.set_size_inches(20,5)"
   ]
  },
  {
   "cell_type": "markdown",
   "metadata": {
    "id": "l6Ks5upYv7RH"
   },
   "source": [
    "### Qual a distribuição de idade de mulheres moradores de rua em Belo Horizonte?\n",
    "\n",
    "Observou-se que a maioria das mulheres tem entre 33 e 49 anos de idade."
   ]
  },
  {
   "cell_type": "code",
   "execution_count": 274,
   "metadata": {
    "colab": {
     "base_uri": "https://localhost:8080/"
    },
    "id": "N2SPi-3Kv8m8",
    "outputId": "c205d441-355d-46b6-a60e-54268aa0014e"
   },
   "outputs": [
    {
     "data": {
      "text/plain": [
       "40    455\n",
       "41    443\n",
       "46    428\n",
       "50    416\n",
       "38    403\n",
       "     ... \n",
       "81     11\n",
       "8      11\n",
       "69      8\n",
       "7       8\n",
       "1       1\n",
       "Name: IDADE, Length: 71, dtype: int64"
      ]
     },
     "execution_count": 274,
     "metadata": {},
     "output_type": "execute_result"
    }
   ],
   "source": [
    "fem['IDADE'].value_counts()"
   ]
  },
  {
   "cell_type": "code",
   "execution_count": 275,
   "metadata": {
    "colab": {
     "base_uri": "https://localhost:8080/"
    },
    "id": "P21ktiRHwBFF",
    "outputId": "f30429ba-2492-45b7-9f8a-198f18cc8d8d"
   },
   "outputs": [
    {
     "data": {
      "text/plain": [
       "count    10638.000000\n",
       "mean        40.253243\n",
       "std         12.745695\n",
       "min          1.000000\n",
       "25%         31.000000\n",
       "50%         41.000000\n",
       "75%         49.000000\n",
       "max         81.000000\n",
       "Name: IDADE, dtype: float64"
      ]
     },
     "execution_count": 275,
     "metadata": {},
     "output_type": "execute_result"
    }
   ],
   "source": [
    "fem['IDADE'].describe()"
   ]
  },
  {
   "cell_type": "code",
   "execution_count": 276,
   "metadata": {
    "colab": {
     "base_uri": "https://localhost:8080/",
     "height": 386
    },
    "id": "MWsp-_xdwCPm",
    "outputId": "813e7bff-6dcf-462d-d7f9-f14ce9592100"
   },
   "outputs": [
    {
     "data": {
      "text/plain": [
       "<seaborn.axisgrid.FacetGrid at 0x7f4c429de690>"
      ]
     },
     "execution_count": 276,
     "metadata": {},
     "output_type": "execute_result"
    },
    {
     "data": {
      "image/png": "[encoded data removed]",
      "text/plain": [
       "<Figure size 360x360 with 1 Axes>"
      ]
     },
     "metadata": {
      "needs_background": "light"
     },
     "output_type": "display_data"
    }
   ],
   "source": [
    "sns.catplot(x=\"IDADE\", kind=\"box\", palette=\"hls\" ,data=fem)"
   ]
  },
  {
   "cell_type": "code",
   "execution_count": 277,
   "metadata": {
    "colab": {
     "base_uri": "https://localhost:8080/",
     "height": 344
    },
    "id": "24Xh9Vu8wGWh",
    "outputId": "f13ac944-1264-47c7-fb93-35432d42d1ec"
   },
   "outputs": [
    {
     "data": {
      "image/png": "[encoded data removed]",
      "text/plain": [
       "<Figure size 1440x360 with 1 Axes>"
      ]
     },
     "metadata": {
      "needs_background": "light"
     },
     "output_type": "display_data"
    }
   ],
   "source": [
    "g = sns.catplot(x=\"IDADE\", kind=\"count\", palette=\"hls\", data=fem)\n",
    "g.fig.set_size_inches(20,5)"
   ]
  },
  {
   "cell_type": "markdown",
   "metadata": {
    "id": "SrqAX1IzAvII"
   },
   "source": [
    "#BOLSA FAMILIA\n"
   ]
  },
  {
   "cell_type": "markdown",
   "metadata": {
    "id": "PKb2TeMl6NKm"
   },
   "source": [
    "**Separando por mês:**"
   ]
  },
  {
   "cell_type": "code",
   "execution_count": 278,
   "metadata": {
    "id": "s1mC71NaAzK1"
   },
   "outputs": [],
   "source": [
    "#Leitura individual de cada um\n",
    "df920 = pd.DataFrame(data9_20[u'BOLSA_FAMILIA'].value_counts())\n",
    "df1020 = pd.DataFrame(data10_20[u'BOLSA_FAMILIA'].value_counts())\n",
    "df1120 = pd.DataFrame(data11_20[u'BOLSA_FAMILIA'].value_counts())\n",
    "df1220 = pd.DataFrame(data12_20[u'BOLSA_FAMILIA'].value_counts())\n",
    "df121 = pd.DataFrame(data1_21[u'BOLSA_FAMILIA'].value_counts())\n",
    "df221 = pd.DataFrame(data2_21[u'BOLSA_FAMILIA'].value_counts())\n",
    "df321 = pd.DataFrame(data3_21[u'BOLSA_FAMILIA'].value_counts())\n",
    "df421 = pd.DataFrame(data4_21[u'BOLSA_FAMILIA'].value_counts())\n",
    "df521 = pd.DataFrame(data5_21[u'BOLSA_FAMILIA'].value_counts())\n",
    "df621 = pd.DataFrame(data6_21[u'BOLSA_FAMILIA'].value_counts())\n",
    "df721 = pd.DataFrame(data7_21[u'BOLSA_FAMILIA'].value_counts())"
   ]
  },
  {
   "cell_type": "code",
   "execution_count": 279,
   "metadata": {
    "id": "lTQIMxAxuI2_"
   },
   "outputs": [],
   "source": [
    "df920.rename(columns={'BOLSA_FAMILIA': '09/20'}, inplace = True)\n",
    "df1020.rename(columns={'BOLSA_FAMILIA': '10/20'}, inplace = True)\n",
    "df1120.rename(columns={'BOLSA_FAMILIA': '11/20'}, inplace = True)\n",
    "df1220.rename(columns={'BOLSA_FAMILIA': '12/20'}, inplace = True)\n",
    "df121.rename(columns={'BOLSA_FAMILIA': '1/21'}, inplace = True)\n",
    "df221.rename(columns={'BOLSA_FAMILIA': '2/21'}, inplace = True)\n",
    "df321.rename(columns={'BOLSA_FAMILIA': '3/21'}, inplace = True)\n",
    "df421.rename(columns={'BOLSA_FAMILIA': '4/21'}, inplace = True)\n",
    "df521.rename(columns={'BOLSA_FAMILIA': '5/21'}, inplace = True)\n",
    "df621.rename(columns={'BOLSA_FAMILIA': '6/21'}, inplace = True)\n",
    "df721.rename(columns={'BOLSA_FAMILIA': '7/21'}, inplace = True)"
   ]
  },
  {
   "cell_type": "code",
   "execution_count": 280,
   "metadata": {
    "colab": {
     "base_uri": "https://localhost:8080/",
     "height": 112
    },
    "id": "MMlI88NI1XZC",
    "outputId": "b1295da9-db75-4cc8-fa97-8c68b367058f"
   },
   "outputs": [
    {
     "data": {
      "text/html": [
       "<div>\n",
       "<style scoped>\n",
       "    .dataframe tbody tr th:only-of-type {\n",
       "        vertical-align: middle;\n",
       "    }\n",
       "\n",
       "    .dataframe tbody tr th {\n",
       "        vertical-align: top;\n",
       "    }\n",
       "\n",
       "    .dataframe thead th {\n",
       "        text-align: right;\n",
       "    }\n",
       "</style>\n",
       "<table border=\"1\" class=\"dataframe\">\n",
       "  <thead>\n",
       "    <tr style=\"text-align: right;\">\n",
       "      <th></th>\n",
       "      <th>09/20</th>\n",
       "      <th>10/20</th>\n",
       "      <th>11/20</th>\n",
       "      <th>12/20</th>\n",
       "      <th>1/21</th>\n",
       "      <th>2/21</th>\n",
       "      <th>3/21</th>\n",
       "      <th>4/21</th>\n",
       "      <th>5/21</th>\n",
       "      <th>6/21</th>\n",
       "      <th>7/21</th>\n",
       "    </tr>\n",
       "  </thead>\n",
       "  <tbody>\n",
       "    <tr>\n",
       "      <th>SIM</th>\n",
       "      <td>6880</td>\n",
       "      <td>6744</td>\n",
       "      <td>6826</td>\n",
       "      <td>6823</td>\n",
       "      <td>6913</td>\n",
       "      <td>7217</td>\n",
       "      <td>7217</td>\n",
       "      <td>7293</td>\n",
       "      <td>6746</td>\n",
       "      <td>6728</td>\n",
       "      <td>6559</td>\n",
       "    </tr>\n",
       "    <tr>\n",
       "      <th>NAO</th>\n",
       "      <td>2096</td>\n",
       "      <td>2222</td>\n",
       "      <td>1676</td>\n",
       "      <td>1754</td>\n",
       "      <td>1706</td>\n",
       "      <td>1540</td>\n",
       "      <td>1540</td>\n",
       "      <td>1608</td>\n",
       "      <td>1536</td>\n",
       "      <td>1646</td>\n",
       "      <td>1913</td>\n",
       "    </tr>\n",
       "  </tbody>\n",
       "</table>\n",
       "</div>"
      ],
      "text/plain": [
       "     09/20  10/20  11/20  12/20  1/21  2/21  3/21  4/21  5/21  6/21  7/21\n",
       "SIM   6880   6744   6826   6823  6913  7217  7217  7293  6746  6728  6559\n",
       "NAO   2096   2222   1676   1754  1706  1540  1540  1608  1536  1646  1913"
      ]
     },
     "execution_count": 280,
     "metadata": {},
     "output_type": "execute_result"
    }
   ],
   "source": [
    "dfBolsa = df920.join([df1020,df1120,df1220,\n",
    "                      df121,df221,df321,df421,df521,df621,df721])\n",
    "dfBolsa"
   ]
  },
  {
   "cell_type": "code",
   "execution_count": 281,
   "metadata": {
    "colab": {
     "base_uri": "https://localhost:8080/",
     "height": 315
    },
    "id": "AKj8lk3s495P",
    "outputId": "4ec46e26-17b6-49bd-f9a6-ba547fdcc1e0"
   },
   "outputs": [
    {
     "data": {
      "text/plain": [
       "<Figure size 7200x7200 with 0 Axes>"
      ]
     },
     "metadata": {},
     "output_type": "display_data"
    },
    {
     "data": {
      "image/png": "[encoded data removed]",
      "text/plain": [
       "<Figure size 432x288 with 1 Axes>"
      ]
     },
     "metadata": {
      "needs_background": "light"
     },
     "output_type": "display_data"
    }
   ],
   "source": [
    "fig = plt.figure(figsize=(100,100))\n",
    "fig = dfBolsa.plot.bar()\n",
    "fig.set_title('Distribuição de idade da população de rua de BH')\n",
    "plt.show()"
   ]
  },
  {
   "cell_type": "markdown",
   "metadata": {
    "id": "0bxYMqu5-Ecn"
   },
   "source": [
    "APONTAMENTOS:\n",
    "  * Observa-se que o benefício é essencial para estes moradores, com mais que 70% de cobertura.\n",
    "  *Para a confirmação de recursos enviados pelo governo para manutenção deste programa, foi consultado o dataframe \"beneficios.csv\", presente no repositório deste trabalho."
   ]
  },
  {
   "cell_type": "code",
   "execution_count": 282,
   "metadata": {
    "id": "6_qIVga1_cZq"
   },
   "outputs": [],
   "source": [
    "\n",
    "#Comandos para acesso via upload de arquivo:\n",
    "#df_beneficios = pd.read_csv('/beneficio.csv', index_col=False, sep = \";\")\n",
    "#df_beneficiosBolsa"
   ]
  },
  {
   "cell_type": "markdown",
   "metadata": {
    "id": "FtPTX7F59-G7"
   },
   "source": [
    "#GRAU DE INSTRUÇÃO"
   ]
  },
  {
   "cell_type": "code",
   "execution_count": 283,
   "metadata": {
    "colab": {
     "base_uri": "https://localhost:8080/"
    },
    "id": "XxFxty8c-CRy",
    "outputId": "0f38ff9b-4584-411c-9125-c8825f3297b3"
   },
   "outputs": [
    {
     "data": {
      "text/plain": [
       "Fundamental incompleto         49992\n",
       "Fundamental completo           13679\n",
       "Medio completo                 13631\n",
       "Medio incompleto                9430\n",
       "Sem instrucao                   7063\n",
       "Superior incompleto ou mais     1116\n",
       "Nao Informado                    272\n",
       "Name: GRAU_INSTRUCAO, dtype: int64"
      ]
     },
     "execution_count": 283,
     "metadata": {},
     "output_type": "execute_result"
    }
   ],
   "source": [
    "df['GRAU_INSTRUCAO'].value_counts()"
   ]
  },
  {
   "cell_type": "code",
   "execution_count": 285,
   "metadata": {
    "colab": {
     "base_uri": "https://localhost:8080/",
     "height": 369
    },
    "id": "65c6UnoNG9oa",
    "outputId": "df15bef6-4141-4bf0-959c-f82abb790ef9"
   },
   "outputs": [
    {
     "data": {
      "image/png": "[encoded data removed]",
      "text/plain": [
       "<Figure size 1440x360 with 1 Axes>"
      ]
     },
     "metadata": {
      "needs_background": "light"
     },
     "output_type": "display_data"
    }
   ],
   "source": [
    "g = sns.catplot(x=\"GRAU_INSTRUCAO\", kind=\"count\", palette=\"hls\", data=df)\n",
    "g.fig.set_size_inches(20,5)\n"
   ]
  },
  {
   "cell_type": "markdown",
   "metadata": {
    "id": "cF6cOo4R5Shx"
   },
   "source": [
    "O Fundamental incompleto é predominande, indicando a necessidade de intervenção também a nível educacional."
   ]
  },
  {
   "cell_type": "markdown",
   "metadata": {
    "id": "-WYPbDd2HDck"
   },
   "source": [
    "#Tempo em que os moradores vivem na rua?"
   ]
  },
  {
   "cell_type": "code",
   "execution_count": 286,
   "metadata": {
    "colab": {
     "base_uri": "https://localhost:8080/"
    },
    "id": "lvau9uM_HFUa",
    "outputId": "086d23d5-3799-4663-a854-c8adc2d402bb"
   },
   "outputs": [
    {
     "data": {
      "text/plain": [
       "Index(['TEMPO_VIVE_NA_RUA', 'CONTATO_PARENTE_FORA_RUAS', 'DATA_NASCIMENTO',\n",
       "       'IDADE', 'SEXO', 'BOLSA_FAMILIA', 'POP_RUA', 'GRAU_INSTRUCAO',\n",
       "       'COR_RACA', 'Faixa da renda familiar per capita', 'CRAS', 'REGIONAL',\n",
       "       'FAIXA_DESATUALICACAO_CADASTRAL', 'MES_ANO_REFERENCIA'],\n",
       "      dtype='object')"
      ]
     },
     "execution_count": 286,
     "metadata": {},
     "output_type": "execute_result"
    }
   ],
   "source": [
    "df.columns"
   ]
  },
  {
   "cell_type": "code",
   "execution_count": 288,
   "metadata": {
    "colab": {
     "base_uri": "https://localhost:8080/"
    },
    "id": "CHw0w76vHJpn",
    "outputId": "fbd7b410-b85a-43c3-e02a-9f613a15641e"
   },
   "outputs": [
    {
     "data": {
      "text/plain": [
       "Ate seis meses               29833\n",
       "Entre dois e cinco anos      17798\n",
       "Entre seis meses e um ano    12560\n",
       "Mais de dez anos             12448\n",
       "Entre um e dois anos         11407\n",
       "Entre cinco e dez anos       11137\n",
       "Name: TEMPO_VIVE_NA_RUA, dtype: int64"
      ]
     },
     "execution_count": 288,
     "metadata": {},
     "output_type": "execute_result"
    }
   ],
   "source": [
    "df['TEMPO_VIVE_NA_RUA'].value_counts()"
   ]
  },
  {
   "cell_type": "code",
   "execution_count": 289,
   "metadata": {
    "colab": {
     "base_uri": "https://localhost:8080/",
     "height": 369
    },
    "id": "f5I0vCPvHfjt",
    "outputId": "6215cdfb-c64d-42bb-ea42-fb0a1d057696"
   },
   "outputs": [
    {
     "data": {
      "image/png": "[encoded data removed]",
      "text/plain": [
       "<Figure size 1440x360 with 1 Axes>"
      ]
     },
     "metadata": {
      "needs_background": "light"
     },
     "output_type": "display_data"
    }
   ],
   "source": [
    "g = sns.catplot(x=\"TEMPO_VIVE_NA_RUA\", kind=\"count\", palette=\"hls\", data=df)\n",
    "g.fig.set_size_inches(20,5)\n"
   ]
  },
  {
   "cell_type": "markdown",
   "metadata": {
    "id": "t7qFXPB4b79-"
   },
   "source": [
    "#Qual o percentual de moradores de rua em cada regional de Belo Horizonte?"
   ]
  },
  {
   "cell_type": "code",
   "execution_count": 290,
   "metadata": {
    "colab": {
     "base_uri": "https://localhost:8080/"
    },
    "id": "jIInjr23H5jl",
    "outputId": "ecf67be3-4e9b-4178-d275-24fcdff402c2"
   },
   "outputs": [
    {
     "data": {
      "text/plain": [
       "CENTRO SUL                       54242\n",
       "LESTE                            11277\n",
       "NORTE                             8387\n",
       "NOROESTE                          7721\n",
       "VENDA NOVA                        3185\n",
       "OESTE                             2833\n",
       "BARREIRO                          2809\n",
       "NORDESTE                          2317\n",
       "PAMPULHA                          1917\n",
       "ENDERECO NAO GEORREFERENCIADO      495\n",
       "Name: REGIONAL, dtype: int64"
      ]
     },
     "execution_count": 290,
     "metadata": {},
     "output_type": "execute_result"
    }
   ],
   "source": [
    "df['REGIONAL'].value_counts()"
   ]
  },
  {
   "cell_type": "code",
   "execution_count": 291,
   "metadata": {
    "colab": {
     "base_uri": "https://localhost:8080/",
     "height": 516
    },
    "id": "KHMx2yLmcFJQ",
    "outputId": "a6e2ec5f-d772-468b-8d1d-a8af1ec986e6"
   },
   "outputs": [
    {
     "data": {
      "image/png": "[encoded data removed]",
      "text/plain": [
       "<Figure size 1440x360 with 1 Axes>"
      ]
     },
     "metadata": {
      "needs_background": "light"
     },
     "output_type": "display_data"
    }
   ],
   "source": [
    "fig = plt.figure(figsize=(20,5))\n",
    "fig = df['REGIONAL'].value_counts().plot.bar()\n",
    "fig.set_title('Distribuição de moradores de rua por região')\n",
    "plt.show()"
   ]
  },
  {
   "cell_type": "markdown",
   "metadata": {
    "id": "9i188paeH22X"
   },
   "source": [
    "#Quais são a raça e o sexo predominante de cada regional presente no banco de dados?"
   ]
  },
  {
   "cell_type": "markdown",
   "metadata": {
    "id": "85HZw6BmUm1b"
   },
   "source": [
    "Com base nos dados obtidos nas regionais o sexo predominante foi o **masculino** e a raça predominante foi **parda**, como verificado abaixo:\n"
   ]
  },
  {
   "cell_type": "code",
   "execution_count": 292,
   "metadata": {
    "id": "dnkB-66UIWvL"
   },
   "outputs": [],
   "source": [
    "group_regional = df.groupby('REGIONAL')\n",
    "group_centroSul = group_regional.get_group('CENTRO SUL')\n",
    "group_leste = group_regional.get_group('LESTE')\n",
    "group_norte = group_regional.get_group('NORTE')\n",
    "group_noroeste = group_regional.get_group('NOROESTE')\n",
    "group_vendaNova = group_regional.get_group('VENDA NOVA')\n",
    "group_oeste = group_regional.get_group('OESTE')\n",
    "group_barreiro = group_regional.get_group('BARREIRO')\n",
    "group_nordeste = group_regional.get_group('NORDESTE')\n",
    "group_pampulha = group_regional.get_group('PAMPULHA')\n"
   ]
  },
  {
   "cell_type": "code",
   "execution_count": 293,
   "metadata": {
    "colab": {
     "base_uri": "https://localhost:8080/"
    },
    "id": "HAiN1jwcPuJg",
    "outputId": "59e958ee-22f1-475f-c77a-f7d7c7aeec04"
   },
   "outputs": [
    {
     "data": {
      "text/plain": [
       "MASCULINO    49301\n",
       "FEMININO      4941\n",
       "Name: SEXO, dtype: int64"
      ]
     },
     "execution_count": 293,
     "metadata": {},
     "output_type": "execute_result"
    }
   ],
   "source": [
    "group_centroSul['SEXO'].value_counts()"
   ]
  },
  {
   "cell_type": "code",
   "execution_count": 294,
   "metadata": {
    "colab": {
     "base_uri": "https://localhost:8080/"
    },
    "id": "MFVnMfVWQBnU",
    "outputId": "6e2f4200-ff72-4eed-c320-792df216cdfd"
   },
   "outputs": [
    {
     "data": {
      "text/plain": [
       "Parda            32237\n",
       "Preta            12573\n",
       "Branca            9037\n",
       "Amarela            257\n",
       "Indigena            71\n",
       "Nao Informado       67\n",
       "Name: COR_RACA, dtype: int64"
      ]
     },
     "execution_count": 294,
     "metadata": {},
     "output_type": "execute_result"
    }
   ],
   "source": [
    "group_centroSul['COR_RACA'].value_counts()"
   ]
  },
  {
   "cell_type": "code",
   "execution_count": 295,
   "metadata": {
    "colab": {
     "base_uri": "https://localhost:8080/"
    },
    "id": "MWsF7HpjS9au",
    "outputId": "0458fb67-bed1-4d74-826b-45b365b0c768"
   },
   "outputs": [
    {
     "data": {
      "text/plain": [
       "MASCULINO    10202\n",
       "FEMININO      1075\n",
       "Name: SEXO, dtype: int64"
      ]
     },
     "execution_count": 295,
     "metadata": {},
     "output_type": "execute_result"
    }
   ],
   "source": [
    "group_leste['SEXO'].value_counts()"
   ]
  },
  {
   "cell_type": "code",
   "execution_count": 296,
   "metadata": {
    "colab": {
     "base_uri": "https://localhost:8080/"
    },
    "id": "rQNasy9yTA4I",
    "outputId": "37066b26-8dbf-40d4-e553-d6248a99920a"
   },
   "outputs": [
    {
     "data": {
      "text/plain": [
       "Parda            6854\n",
       "Preta            2661\n",
       "Branca           1680\n",
       "Amarela            52\n",
       "Indigena           19\n",
       "Nao Informado      11\n",
       "Name: COR_RACA, dtype: int64"
      ]
     },
     "execution_count": 296,
     "metadata": {},
     "output_type": "execute_result"
    }
   ],
   "source": [
    "group_leste['COR_RACA'].value_counts()"
   ]
  },
  {
   "cell_type": "code",
   "execution_count": 297,
   "metadata": {
    "colab": {
     "base_uri": "https://localhost:8080/"
    },
    "id": "UqeJAV1lTF8j",
    "outputId": "fae22cd0-23e3-44a8-98f7-2433cdd24091"
   },
   "outputs": [
    {
     "data": {
      "text/plain": [
       "MASCULINO    6918\n",
       "FEMININO     1469\n",
       "Name: SEXO, dtype: int64"
      ]
     },
     "execution_count": 297,
     "metadata": {},
     "output_type": "execute_result"
    }
   ],
   "source": [
    "group_norte['SEXO'].value_counts()"
   ]
  },
  {
   "cell_type": "code",
   "execution_count": 298,
   "metadata": {
    "colab": {
     "base_uri": "https://localhost:8080/"
    },
    "id": "Ys0PiKQOTMt7",
    "outputId": "9a165116-b5cf-4bc4-90b7-93ab25bad421"
   },
   "outputs": [
    {
     "data": {
      "text/plain": [
       "Parda            5103\n",
       "Preta            2007\n",
       "Branca           1245\n",
       "Amarela            21\n",
       "Nao Informado      11\n",
       "Name: COR_RACA, dtype: int64"
      ]
     },
     "execution_count": 298,
     "metadata": {},
     "output_type": "execute_result"
    }
   ],
   "source": [
    "group_norte['COR_RACA'].value_counts()"
   ]
  },
  {
   "cell_type": "code",
   "execution_count": 299,
   "metadata": {
    "colab": {
     "base_uri": "https://localhost:8080/"
    },
    "id": "n-siwqGwTVBy",
    "outputId": "42c408cc-375d-42b5-8d80-241020ee68af"
   },
   "outputs": [
    {
     "data": {
      "text/plain": [
       "MASCULINO    6640\n",
       "FEMININO     1081\n",
       "Name: SEXO, dtype: int64"
      ]
     },
     "execution_count": 299,
     "metadata": {},
     "output_type": "execute_result"
    }
   ],
   "source": [
    "group_noroeste['SEXO'].value_counts()"
   ]
  },
  {
   "cell_type": "code",
   "execution_count": 300,
   "metadata": {
    "colab": {
     "base_uri": "https://localhost:8080/"
    },
    "id": "fgn7fNvQTaBi",
    "outputId": "8c44bcda-1422-449a-c9f4-7234ff48e55b"
   },
   "outputs": [
    {
     "data": {
      "text/plain": [
       "Parda       4776\n",
       "Preta       1811\n",
       "Branca      1099\n",
       "Amarela       30\n",
       "Indigena       5\n",
       "Name: COR_RACA, dtype: int64"
      ]
     },
     "execution_count": 300,
     "metadata": {},
     "output_type": "execute_result"
    }
   ],
   "source": [
    "group_noroeste['COR_RACA'].value_counts()"
   ]
  },
  {
   "cell_type": "code",
   "execution_count": 301,
   "metadata": {
    "colab": {
     "base_uri": "https://localhost:8080/"
    },
    "id": "sB6eVOIXTi6C",
    "outputId": "915e7135-755c-4aa9-dbf6-73b87c467b65"
   },
   "outputs": [
    {
     "data": {
      "text/plain": [
       "MASCULINO    2726\n",
       "FEMININO      459\n",
       "Name: SEXO, dtype: int64"
      ]
     },
     "execution_count": 301,
     "metadata": {},
     "output_type": "execute_result"
    }
   ],
   "source": [
    "group_vendaNova['SEXO'].value_counts()"
   ]
  },
  {
   "cell_type": "code",
   "execution_count": 302,
   "metadata": {
    "colab": {
     "base_uri": "https://localhost:8080/"
    },
    "id": "VwjHen8CTrAr",
    "outputId": "e7a2b12b-39cb-4581-d299-bf462c117ed8"
   },
   "outputs": [
    {
     "data": {
      "text/plain": [
       "Parda            1975\n",
       "Preta             716\n",
       "Branca            464\n",
       "Amarela            26\n",
       "Nao Informado       4\n",
       "Name: COR_RACA, dtype: int64"
      ]
     },
     "execution_count": 302,
     "metadata": {},
     "output_type": "execute_result"
    }
   ],
   "source": [
    "group_vendaNova['COR_RACA'].value_counts()"
   ]
  },
  {
   "cell_type": "code",
   "execution_count": 303,
   "metadata": {
    "colab": {
     "base_uri": "https://localhost:8080/"
    },
    "id": "BWMC1LhxTxeU",
    "outputId": "e07037e1-bd10-40a0-f10a-e6fb5ca10679"
   },
   "outputs": [
    {
     "data": {
      "text/plain": [
       "MASCULINO    2448\n",
       "FEMININO      385\n",
       "Name: SEXO, dtype: int64"
      ]
     },
     "execution_count": 303,
     "metadata": {},
     "output_type": "execute_result"
    }
   ],
   "source": [
    "group_oeste['SEXO'].value_counts()"
   ]
  },
  {
   "cell_type": "code",
   "execution_count": 304,
   "metadata": {
    "colab": {
     "base_uri": "https://localhost:8080/"
    },
    "id": "w8NaibjyT2JY",
    "outputId": "5e7c7af6-fddb-4d1d-8262-5f826e638a34"
   },
   "outputs": [
    {
     "data": {
      "text/plain": [
       "Parda      1865\n",
       "Preta       489\n",
       "Branca      471\n",
       "Amarela       8\n",
       "Name: COR_RACA, dtype: int64"
      ]
     },
     "execution_count": 304,
     "metadata": {},
     "output_type": "execute_result"
    }
   ],
   "source": [
    "group_oeste['COR_RACA'].value_counts()"
   ]
  },
  {
   "cell_type": "code",
   "execution_count": 305,
   "metadata": {
    "colab": {
     "base_uri": "https://localhost:8080/"
    },
    "id": "sktvflnmT6BC",
    "outputId": "694aaaa3-bf62-4b86-f7b3-2a356280a2f2"
   },
   "outputs": [
    {
     "data": {
      "text/plain": [
       "MASCULINO    2454\n",
       "FEMININO      355\n",
       "Name: SEXO, dtype: int64"
      ]
     },
     "execution_count": 305,
     "metadata": {},
     "output_type": "execute_result"
    }
   ],
   "source": [
    "group_barreiro['SEXO'].value_counts()"
   ]
  },
  {
   "cell_type": "code",
   "execution_count": 306,
   "metadata": {
    "colab": {
     "base_uri": "https://localhost:8080/"
    },
    "id": "Z4xxEt41UCFx",
    "outputId": "bd70cf38-aa0d-4370-bb6a-8e11800599e6"
   },
   "outputs": [
    {
     "data": {
      "text/plain": [
       "Parda            1844\n",
       "Preta             618\n",
       "Branca            314\n",
       "Amarela            22\n",
       "Nao Informado      11\n",
       "Name: COR_RACA, dtype: int64"
      ]
     },
     "execution_count": 306,
     "metadata": {},
     "output_type": "execute_result"
    }
   ],
   "source": [
    "group_barreiro['COR_RACA'].value_counts()"
   ]
  },
  {
   "cell_type": "code",
   "execution_count": 307,
   "metadata": {
    "colab": {
     "base_uri": "https://localhost:8080/"
    },
    "id": "_YUpfd9eUEoZ",
    "outputId": "66e95321-c499-4748-e64d-ad384e75bdfe"
   },
   "outputs": [
    {
     "data": {
      "text/plain": [
       "MASCULINO    1904\n",
       "FEMININO      413\n",
       "Name: SEXO, dtype: int64"
      ]
     },
     "execution_count": 307,
     "metadata": {},
     "output_type": "execute_result"
    }
   ],
   "source": [
    "group_nordeste['SEXO'].value_counts()\n"
   ]
  },
  {
   "cell_type": "code",
   "execution_count": 308,
   "metadata": {
    "colab": {
     "base_uri": "https://localhost:8080/"
    },
    "id": "EYpZ_MF4UOd6",
    "outputId": "43e9127a-3356-47f6-9caa-cfe3626ab92e"
   },
   "outputs": [
    {
     "data": {
      "text/plain": [
       "Parda            1343\n",
       "Preta             621\n",
       "Branca            331\n",
       "Nao Informado      11\n",
       "Amarela             7\n",
       "Indigena            4\n",
       "Name: COR_RACA, dtype: int64"
      ]
     },
     "execution_count": 308,
     "metadata": {},
     "output_type": "execute_result"
    }
   ],
   "source": [
    "group_nordeste['COR_RACA'].value_counts()"
   ]
  },
  {
   "cell_type": "code",
   "execution_count": 309,
   "metadata": {
    "colab": {
     "base_uri": "https://localhost:8080/"
    },
    "id": "hD03EiXsUTga",
    "outputId": "a5c0d272-8a77-4950-fbcc-c074970dfeb5"
   },
   "outputs": [
    {
     "data": {
      "text/plain": [
       "MASCULINO    1567\n",
       "FEMININO      350\n",
       "Name: SEXO, dtype: int64"
      ]
     },
     "execution_count": 309,
     "metadata": {},
     "output_type": "execute_result"
    }
   ],
   "source": [
    "group_pampulha['SEXO'].value_counts()"
   ]
  },
  {
   "cell_type": "code",
   "execution_count": 310,
   "metadata": {
    "colab": {
     "base_uri": "https://localhost:8080/"
    },
    "id": "a1JplXOoUZ1_",
    "outputId": "b3868e32-abf1-41a2-f7b5-c092bf5b5178"
   },
   "outputs": [
    {
     "data": {
      "text/plain": [
       "Parda     1223\n",
       "Preta      417\n",
       "Branca     277\n",
       "Name: COR_RACA, dtype: int64"
      ]
     },
     "execution_count": 310,
     "metadata": {},
     "output_type": "execute_result"
    }
   ],
   "source": [
    "group_pampulha['COR_RACA'].value_counts()"
   ]
  },
  {
   "cell_type": "markdown",
   "metadata": {
    "id": "SIjUUpDUZLyr"
   },
   "source": [
    "#Qual o percentual de moradores de rua cadastrados em um Cras?"
   ]
  },
  {
   "cell_type": "code",
   "execution_count": 311,
   "metadata": {
    "colab": {
     "base_uri": "https://localhost:8080/"
    },
    "id": "zU7lx3txZQOs",
    "outputId": "d6581fc2-6a7f-4ba1-b63b-d251e9a5a058"
   },
   "outputs": [
    {
     "data": {
      "text/plain": [
       "ENDERECO FORA AREA CRAS                               58521\n",
       "ENDERECO FORA DE AREA CRAS                            22179\n",
       "CRAS PROVIDENCIA                                       5966\n",
       "CRAS VILA SENHOR DOS PASSOS                            3313\n",
       "CRAS VILA BIQUINHAS                                    1895\n",
       "ENDERECO NAO GEORREFERENCIADO                           495\n",
       "CRAS GRANJA DE FREITAS                                  281\n",
       "CRAS MANTIQUEIRA                                        242\n",
       "CRAS PETROPOLIS                                         167\n",
       "CRAS VILA SAO JOSE                                      128\n",
       "CRAS VILA MARIA                                         121\n",
       "CRAS ZILAH SPOSITO                                      117\n",
       "CRAS VILA SANTA RITA DE CASSIA                          115\n",
       "CRAS NOVO AARAO REIS   BRASILINA MARIA DE OLIVEIRA      110\n",
       "CRAS VILA MARCOLA                                       108\n",
       "CRAS PEDREIRA PRADO LOPES                               100\n",
       "CRAS TAQUARIL                                            99\n",
       "CRAS MORRO DAS PEDRAS   GRACA SABOIA                     98\n",
       "CRAS ARTHUR DE SA   UNIAO                                91\n",
       "CRAS VILA NOSSA SENHORA DE FATIMA                        89\n",
       "CRAS SANTA ROSA                                          80\n",
       "CRAS INDEPENDENCIA                                       77\n",
       "CRAS VILA COQUEIRAL                                      73\n",
       "CRAS VILA CEMIG                                          71\n",
       "CRAS ALTO VERA CRUZ                                      68\n",
       "CRAS JARDIM FELICIDADE                                   67\n",
       "CRAS NOVO OURO PRETO                                     63\n",
       "CRAS LAGOA                                               60\n",
       "CRAS CONJUNTO PAULO VI                                   56\n",
       "CRAS VILA ANTENA                                         53\n",
       "CRAS HAVAI VENTOSA                                       52\n",
       "CRAS VISTA ALEGRE                                        43\n",
       "CRAS CALIFORNIA                                          38\n",
       "CRAS MARIANO DE ABREU                                    37\n",
       "CRAS CONFISCO                                            37\n",
       "CRAS VILA SUMARE                                         35\n",
       "CRAS APOLONIA                                            25\n",
       "CRAS VILA SANTA ROSA                                      9\n",
       "CRAS VILA FATIMA                                          4\n",
       "Name: CRAS, dtype: int64"
      ]
     },
     "execution_count": 311,
     "metadata": {},
     "output_type": "execute_result"
    }
   ],
   "source": [
    "df['CRAS'].value_counts()\n"
   ]
  },
  {
   "cell_type": "code",
   "execution_count": 312,
   "metadata": {
    "colab": {
     "base_uri": "https://localhost:8080/"
    },
    "id": "re41RJFnZZE0",
    "outputId": "2b32129c-0de4-46c0-fad7-2096af17692b"
   },
   "outputs": [
    {
     "name": "stdout",
     "output_type": "stream",
     "text": [
      "O percentual de moradores de rua que estão cadastrados em um CRAS é:  15.215952428479875 %\n"
     ]
    }
   ],
   "source": [
    "total = df['CRAS'].value_counts().sum()\n",
    "fora_CRAS = 58521 + 22179\n",
    "fora_CRAS\n",
    "dentro_CRAS = total - fora_CRAS\n",
    "percentual = (dentro_CRAS*100)/total\n",
    "print(\"O percentual de moradores de rua que estão cadastrados em um CRAS é: \", percentual,\"%\")"
   ]
  },
  {
   "cell_type": "markdown",
   "metadata": {
    "id": "Tzy2tAiwbNSH"
   },
   "source": [
    "#A cobertura do CRAS aumentou ou diminuiu desde o início da pesquisa?(09/2020 a 07/2021)\n"
   ]
  },
  {
   "cell_type": "code",
   "execution_count": 313,
   "metadata": {
    "colab": {
     "base_uri": "https://localhost:8080/"
    },
    "id": "yOIZNyGJbOxJ",
    "outputId": "7491a436-23ed-4cb6-f611-f5feeefdc018"
   },
   "outputs": [
    {
     "data": {
      "text/plain": [
       "2021-01-02    17514\n",
       "2020-01-09     8976\n",
       "2020-01-10     8966\n",
       "2021-01-04     8901\n",
       "2021-01-01     8619\n",
       "2020-01-12     8577\n",
       "2020-01-11     8502\n",
       "2021-01-07     8472\n",
       "2021-01-06     8374\n",
       "2021-01-05     8282\n",
       "Name: MES_ANO_REFERENCIA, dtype: int64"
      ]
     },
     "execution_count": 313,
     "metadata": {},
     "output_type": "execute_result"
    }
   ],
   "source": [
    "df['MES_ANO_REFERENCIA'].value_counts()\n"
   ]
  },
  {
   "cell_type": "markdown",
   "metadata": {
    "id": "4LPs0-4Ul9q1"
   },
   "source": [
    "Aqui foram retirados endereços que não nos ajudam nessa analise, como os valores marcados com 'ENDERECO FORA AREA CRAS', 'ENDERECO FORA DE AREA CRAS', 'ENDERECO NAO GEORREFERENCIADO'"
   ]
  },
  {
   "cell_type": "code",
   "execution_count": 314,
   "metadata": {
    "colab": {
     "base_uri": "https://localhost:8080/",
     "height": 808
    },
    "id": "TC7SpsozbURp",
    "outputId": "b939d7dc-4499-4275-bcba-9d9329f4dd80"
   },
   "outputs": [
    {
     "data": {
      "text/html": [
       "<div>\n",
       "<style scoped>\n",
       "    .dataframe tbody tr th:only-of-type {\n",
       "        vertical-align: middle;\n",
       "    }\n",
       "\n",
       "    .dataframe tbody tr th {\n",
       "        vertical-align: top;\n",
       "    }\n",
       "\n",
       "    .dataframe thead th {\n",
       "        text-align: right;\n",
       "    }\n",
       "</style>\n",
       "<table border=\"1\" class=\"dataframe\">\n",
       "  <thead>\n",
       "    <tr style=\"text-align: right;\">\n",
       "      <th></th>\n",
       "      <th>TEMPO_VIVE_NA_RUA</th>\n",
       "      <th>CONTATO_PARENTE_FORA_RUAS</th>\n",
       "      <th>DATA_NASCIMENTO</th>\n",
       "      <th>IDADE</th>\n",
       "      <th>SEXO</th>\n",
       "      <th>BOLSA_FAMILIA</th>\n",
       "      <th>POP_RUA</th>\n",
       "      <th>GRAU_INSTRUCAO</th>\n",
       "      <th>COR_RACA</th>\n",
       "      <th>Faixa da renda familiar per capita</th>\n",
       "      <th>CRAS</th>\n",
       "      <th>REGIONAL</th>\n",
       "      <th>FAIXA_DESATUALICACAO_CADASTRAL</th>\n",
       "      <th>MES_ANO_REFERENCIA</th>\n",
       "    </tr>\n",
       "  </thead>\n",
       "  <tbody>\n",
       "    <tr>\n",
       "      <th>0</th>\n",
       "      <td>Entre um e dois anos</td>\n",
       "      <td>Todo mes</td>\n",
       "      <td>07/06/1958</td>\n",
       "      <td>63</td>\n",
       "      <td>FEMININO</td>\n",
       "      <td>SIM</td>\n",
       "      <td>SIM</td>\n",
       "      <td>Fundamental incompleto</td>\n",
       "      <td>Preta</td>\n",
       "      <td>Ate R$89.00</td>\n",
       "      <td>ENDERECO FORA DE AREA CRAS</td>\n",
       "      <td>CENTRO SUL</td>\n",
       "      <td>13 a 18 Meses</td>\n",
       "      <td>2020-01-09</td>\n",
       "    </tr>\n",
       "    <tr>\n",
       "      <th>1</th>\n",
       "      <td>Ate seis meses</td>\n",
       "      <td>Quase nunca</td>\n",
       "      <td>04/06/1986</td>\n",
       "      <td>35</td>\n",
       "      <td>MASCULINO</td>\n",
       "      <td>NAO</td>\n",
       "      <td>SIM</td>\n",
       "      <td>Medio incompleto</td>\n",
       "      <td>Parda</td>\n",
       "      <td>Acima de 0.5 Salario Minimo</td>\n",
       "      <td>ENDERECO FORA DE AREA CRAS</td>\n",
       "      <td>NORDESTE</td>\n",
       "      <td>ate 12 Meses</td>\n",
       "      <td>2020-01-09</td>\n",
       "    </tr>\n",
       "    <tr>\n",
       "      <th>2</th>\n",
       "      <td>Entre cinco e dez anos</td>\n",
       "      <td>Nunca</td>\n",
       "      <td>03/10/1963</td>\n",
       "      <td>58</td>\n",
       "      <td>FEMININO</td>\n",
       "      <td>SIM</td>\n",
       "      <td>SIM</td>\n",
       "      <td>Fundamental incompleto</td>\n",
       "      <td>Parda</td>\n",
       "      <td>Ate R$89.00</td>\n",
       "      <td>ENDERECO FORA DE AREA CRAS</td>\n",
       "      <td>OESTE</td>\n",
       "      <td>37 a 48 Meses</td>\n",
       "      <td>2020-01-09</td>\n",
       "    </tr>\n",
       "    <tr>\n",
       "      <th>3</th>\n",
       "      <td>Ate seis meses</td>\n",
       "      <td>Todo dia</td>\n",
       "      <td>03/04/1958</td>\n",
       "      <td>63</td>\n",
       "      <td>FEMININO</td>\n",
       "      <td>NAO</td>\n",
       "      <td>SIM</td>\n",
       "      <td>Fundamental incompleto</td>\n",
       "      <td>Parda</td>\n",
       "      <td>Acima de 0.5 Salario Minimo</td>\n",
       "      <td>ENDERECO FORA DE AREA CRAS</td>\n",
       "      <td>CENTRO SUL</td>\n",
       "      <td>13 a 18 Meses</td>\n",
       "      <td>2020-01-09</td>\n",
       "    </tr>\n",
       "    <tr>\n",
       "      <th>4</th>\n",
       "      <td>Entre cinco e dez anos</td>\n",
       "      <td>Todo ano</td>\n",
       "      <td>11/08/1960</td>\n",
       "      <td>61</td>\n",
       "      <td>MASCULINO</td>\n",
       "      <td>SIM</td>\n",
       "      <td>SIM</td>\n",
       "      <td>Fundamental incompleto</td>\n",
       "      <td>Parda</td>\n",
       "      <td>Ate R$89.00</td>\n",
       "      <td>ENDERECO FORA DE AREA CRAS</td>\n",
       "      <td>CENTRO SUL</td>\n",
       "      <td>ate 12 Meses</td>\n",
       "      <td>2020-01-09</td>\n",
       "    </tr>\n",
       "    <tr>\n",
       "      <th>...</th>\n",
       "      <td>...</td>\n",
       "      <td>...</td>\n",
       "      <td>...</td>\n",
       "      <td>...</td>\n",
       "      <td>...</td>\n",
       "      <td>...</td>\n",
       "      <td>...</td>\n",
       "      <td>...</td>\n",
       "      <td>...</td>\n",
       "      <td>...</td>\n",
       "      <td>...</td>\n",
       "      <td>...</td>\n",
       "      <td>...</td>\n",
       "      <td>...</td>\n",
       "    </tr>\n",
       "    <tr>\n",
       "      <th>95073</th>\n",
       "      <td>Entre dois e cinco anos</td>\n",
       "      <td>Quase nunca</td>\n",
       "      <td>12/12/1997</td>\n",
       "      <td>23</td>\n",
       "      <td>MASCULINO</td>\n",
       "      <td>SIM</td>\n",
       "      <td>SIM</td>\n",
       "      <td>Medio completo</td>\n",
       "      <td>Preta</td>\n",
       "      <td>Ate R$89.00</td>\n",
       "      <td>CRAS PROVIDENCIA</td>\n",
       "      <td>NORTE</td>\n",
       "      <td>ate 12 Meses</td>\n",
       "      <td>2021-01-07</td>\n",
       "    </tr>\n",
       "    <tr>\n",
       "      <th>95078</th>\n",
       "      <td>Entre dois e cinco anos</td>\n",
       "      <td>Nunca</td>\n",
       "      <td>21/01/1986</td>\n",
       "      <td>35</td>\n",
       "      <td>MASCULINO</td>\n",
       "      <td>SIM</td>\n",
       "      <td>SIM</td>\n",
       "      <td>Medio incompleto</td>\n",
       "      <td>Preta</td>\n",
       "      <td>Ate R$89.00</td>\n",
       "      <td>CRAS MANTIQUEIRA</td>\n",
       "      <td>VENDA NOVA</td>\n",
       "      <td>ate 12 Meses</td>\n",
       "      <td>2021-01-07</td>\n",
       "    </tr>\n",
       "    <tr>\n",
       "      <th>95080</th>\n",
       "      <td>Entre um e dois anos</td>\n",
       "      <td>Quase nunca</td>\n",
       "      <td>25/11/1964</td>\n",
       "      <td>56</td>\n",
       "      <td>MASCULINO</td>\n",
       "      <td>SIM</td>\n",
       "      <td>SIM</td>\n",
       "      <td>Medio incompleto</td>\n",
       "      <td>Parda</td>\n",
       "      <td>Ate R$89.00</td>\n",
       "      <td>CRAS INDEPENDENCIA</td>\n",
       "      <td>BARREIRO</td>\n",
       "      <td>ate 12 Meses</td>\n",
       "      <td>2021-01-07</td>\n",
       "    </tr>\n",
       "    <tr>\n",
       "      <th>95101</th>\n",
       "      <td>Entre dois e cinco anos</td>\n",
       "      <td>Toda semana</td>\n",
       "      <td>02/04/1973</td>\n",
       "      <td>48</td>\n",
       "      <td>MASCULINO</td>\n",
       "      <td>SIM</td>\n",
       "      <td>SIM</td>\n",
       "      <td>Fundamental incompleto</td>\n",
       "      <td>Preta</td>\n",
       "      <td>Ate R$89.00</td>\n",
       "      <td>CRAS VILA BIQUINHAS</td>\n",
       "      <td>NORTE</td>\n",
       "      <td>ate 12 Meses</td>\n",
       "      <td>2021-01-07</td>\n",
       "    </tr>\n",
       "    <tr>\n",
       "      <th>95140</th>\n",
       "      <td>Ate seis meses</td>\n",
       "      <td>Nunca</td>\n",
       "      <td>06/11/1982</td>\n",
       "      <td>38</td>\n",
       "      <td>MASCULINO</td>\n",
       "      <td>SIM</td>\n",
       "      <td>SIM</td>\n",
       "      <td>Fundamental incompleto</td>\n",
       "      <td>Parda</td>\n",
       "      <td>Ate R$89.00</td>\n",
       "      <td>CRAS MANTIQUEIRA</td>\n",
       "      <td>VENDA NOVA</td>\n",
       "      <td>ate 12 Meses</td>\n",
       "      <td>2021-01-07</td>\n",
       "    </tr>\n",
       "  </tbody>\n",
       "</table>\n",
       "<p>36167 rows × 14 columns</p>\n",
       "</div>"
      ],
      "text/plain": [
       "             TEMPO_VIVE_NA_RUA  ... MES_ANO_REFERENCIA\n",
       "0         Entre um e dois anos  ...         2020-01-09\n",
       "1               Ate seis meses  ...         2020-01-09\n",
       "2       Entre cinco e dez anos  ...         2020-01-09\n",
       "3               Ate seis meses  ...         2020-01-09\n",
       "4       Entre cinco e dez anos  ...         2020-01-09\n",
       "...                        ...  ...                ...\n",
       "95073  Entre dois e cinco anos  ...         2021-01-07\n",
       "95078  Entre dois e cinco anos  ...         2021-01-07\n",
       "95080     Entre um e dois anos  ...         2021-01-07\n",
       "95101  Entre dois e cinco anos  ...         2021-01-07\n",
       "95140           Ate seis meses  ...         2021-01-07\n",
       "\n",
       "[36167 rows x 14 columns]"
      ]
     },
     "execution_count": 314,
     "metadata": {},
     "output_type": "execute_result"
    }
   ],
   "source": [
    "df2 = df\n",
    "df2 = df2.drop(df2[(df2['CRAS'] == 'ENDERECO FORA AREA CRAS') | (df2['CRAS'] == 'ENDERECO FORA DE AREA CRAS ') | (df2['CRAS'] == 'ENDERECO NAO GEORREFERENCIADO')].index)\n",
    "df2"
   ]
  },
  {
   "cell_type": "code",
   "execution_count": 315,
   "metadata": {
    "colab": {
     "base_uri": "https://localhost:8080/"
    },
    "id": "Ixbd-1gnkf0z",
    "outputId": "e42266a4-1334-4a19-b279-3bc64502b1df"
   },
   "outputs": [
    {
     "data": {
      "text/plain": [
       "ENDERECO FORA DE AREA CRAS                            22179\n",
       "CRAS PROVIDENCIA                                       5966\n",
       "CRAS VILA SENHOR DOS PASSOS                            3313\n",
       "CRAS VILA BIQUINHAS                                    1895\n",
       "CRAS GRANJA DE FREITAS                                  281\n",
       "CRAS MANTIQUEIRA                                        242\n",
       "CRAS PETROPOLIS                                         167\n",
       "CRAS VILA SAO JOSE                                      128\n",
       "CRAS VILA MARIA                                         121\n",
       "CRAS ZILAH SPOSITO                                      117\n",
       "CRAS VILA SANTA RITA DE CASSIA                          115\n",
       "CRAS NOVO AARAO REIS   BRASILINA MARIA DE OLIVEIRA      110\n",
       "CRAS VILA MARCOLA                                       108\n",
       "CRAS PEDREIRA PRADO LOPES                               100\n",
       "CRAS TAQUARIL                                            99\n",
       "CRAS MORRO DAS PEDRAS   GRACA SABOIA                     98\n",
       "CRAS ARTHUR DE SA   UNIAO                                91\n",
       "CRAS VILA NOSSA SENHORA DE FATIMA                        89\n",
       "CRAS SANTA ROSA                                          80\n",
       "CRAS INDEPENDENCIA                                       77\n",
       "CRAS VILA COQUEIRAL                                      73\n",
       "CRAS VILA CEMIG                                          71\n",
       "CRAS ALTO VERA CRUZ                                      68\n",
       "CRAS JARDIM FELICIDADE                                   67\n",
       "CRAS NOVO OURO PRETO                                     63\n",
       "CRAS LAGOA                                               60\n",
       "CRAS CONJUNTO PAULO VI                                   56\n",
       "CRAS VILA ANTENA                                         53\n",
       "CRAS HAVAI VENTOSA                                       52\n",
       "CRAS VISTA ALEGRE                                        43\n",
       "CRAS CALIFORNIA                                          38\n",
       "CRAS MARIANO DE ABREU                                    37\n",
       "CRAS CONFISCO                                            37\n",
       "CRAS VILA SUMARE                                         35\n",
       "CRAS APOLONIA                                            25\n",
       "CRAS VILA SANTA ROSA                                      9\n",
       "CRAS VILA FATIMA                                          4\n",
       "Name: CRAS, dtype: int64"
      ]
     },
     "execution_count": 315,
     "metadata": {},
     "output_type": "execute_result"
    }
   ],
   "source": [
    "df2['CRAS'].value_counts()"
   ]
  },
  {
   "cell_type": "code",
   "execution_count": 316,
   "metadata": {
    "id": "18-gyE8elafB"
   },
   "outputs": [],
   "source": [
    "#g = sns.catplot(x=\"CRAS\", kind=\"count\", hue=\"MES_ANO_REFERENCIA\", palette=\"hls\", data=df2)\n",
    "#g.fig.set_size_inches(15,5)"
   ]
  },
  {
   "cell_type": "markdown",
   "metadata": {
    "id": "b_oP5_Ch6Ysy"
   },
   "source": [
    "***Este levantamento passará por ajustes até a próxima entrega e apresentação, visando uma representação visual adequada. Algumas das perguntas iniciais serão tratadas na apresentação pois acreditamos que o modelo preditivo ajudará a respondê-las.**"
   ]
  }
 ],
 "metadata": {
  "colab": {
   "collapsed_sections": [],
   "name": "Projeto Dados-pt3-Claudio.ipynb",
   "provenance": []
  },
  "kernelspec": {
   "display_name": "Python 3",
   "language": "python",
   "name": "python3"
  },
  "language_info": {
   "codemirror_mode": {
    "name": "ipython",
    "version": 3
   },
   "file_extension": ".py",
   "mimetype": "text/x-python",
   "name": "python",
   "nbconvert_exporter": "python",
   "pygments_lexer": "ipython3",
   "version": "3.8.10"
  }
 },
 "nbformat": 4,
 "nbformat_minor": 1
}
