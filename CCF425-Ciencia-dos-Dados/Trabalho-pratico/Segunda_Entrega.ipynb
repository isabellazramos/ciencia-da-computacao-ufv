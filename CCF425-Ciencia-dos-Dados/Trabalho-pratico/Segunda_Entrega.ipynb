{
  "nbformat": 4,
  "nbformat_minor": 0,
  "metadata": {
    "colab": {
      "name": "Projeto Dados.ipynb",
      "provenance": [],
      "collapsed_sections": []
    },
    "kernelspec": {
      "name": "python3",
      "display_name": "Python 3"
    },
    "language_info": {
      "name": "python"
    }
  },
  "cells": [
    {
      "cell_type": "markdown",
      "metadata": {
        "id": "UEUWU8BvKgXe"
      },
      "source": [
        "\n",
        "# **Trabalho Prático: Introdução à Ciência dos Dados**\n",
        "### **Entrega 2 - Tratamento dos dados**\n",
        "**Integrantes**: Aryel Penido - 3500 Claudio Barbosa - 3492 Isabela Ramos - 3474\n",
        "\n",
        "**Tema:** Análise da população em situação de rua em BH\n",
        "\n",
        "**Dados:** https://dados.pbh.gov.br/dataset/populacao-de-rua"
      ]
    },
    {
      "cell_type": "markdown",
      "metadata": {
        "id": "MDExVXJ1QLfm"
      },
      "source": [
        "# Importantando as bibliotecas:"
      ]
    },
    {
      "cell_type": "code",
      "metadata": {
        "id": "m33sQylPQGl3"
      },
      "source": [
        "import pandas as pd\n",
        "from datetime import datetime, date"
      ],
      "execution_count": 26,
      "outputs": []
    },
    {
      "cell_type": "markdown",
      "metadata": {
        "id": "hahcR2klIlyN"
      },
      "source": [
        "## Coleta dos dados"
      ]
    },
    {
      "cell_type": "code",
      "metadata": {
        "id": "jwGSidFXQyH9"
      },
      "source": [
        "#URLs dos arquivos (direto da base de dados)\n",
        "url_9_20 = 'https://ckan.pbh.gov.br/dataset/1f868d62-d7c3-4121-8ffa-9ed66d71d3e2/resource/aa8477c0-81fc-442c-b1bf-25475674adda/download/4-data_set_poprua_cadunico_09-2020.csv'\n",
        "url_10_20 = 'https://ckan.pbh.gov.br/dataset/1f868d62-d7c3-4121-8ffa-9ed66d71d3e2/resource/d498812a-0d81-46de-93d1-9c7cd84b85b8/download/data_set_poprua_cadunico-10-2020.csv'\n",
        "url_11_20 = 'https://ckan.pbh.gov.br/dataset/1f868d62-d7c3-4121-8ffa-9ed66d71d3e2/resource/952c9ff9-a7e6-4800-9ee7-fe7231d92a2c/download/data_set_poprua_cadunico-11-2020.csv'\n",
        "url_12_20 = 'https://ckan.pbh.gov.br/dataset/1f868d62-d7c3-4121-8ffa-9ed66d71d3e2/resource/153bf11e-5416-433b-bca4-790baa1e8f44/download/data_set_poprua_cadunico.csv'\n",
        "url_1_21 = 'https://ckan.pbh.gov.br/dataset/1f868d62-d7c3-4121-8ffa-9ed66d71d3e2/resource/076df2cf-7f98-462d-a544-a10bc675974b/download/data_set_poprua_cadunico.csv'\n",
        "url_2_21 = 'https://ckan.pbh.gov.br/dataset/1f868d62-d7c3-4121-8ffa-9ed66d71d3e2/resource/dd2a60bb-3600-4248-815e-69863417f91f/download/data_set_poprua_cadunico.csv'\n",
        "url_3_21 = 'https://ckan.pbh.gov.br/dataset/1f868d62-d7c3-4121-8ffa-9ed66d71d3e2/resource/319191cc-20a5-4e7b-8b13-59cd433902dc/download/data_set_poprua_cadunico.csv'\n",
        "url_4_21 = 'https://ckan.pbh.gov.br/dataset/1f868d62-d7c3-4121-8ffa-9ed66d71d3e2/resource/360b17f7-5262-4a4e-ad3d-6097b756871b/download/data_set_poprua_cadunico.csv'\n",
        "url_5_21 = 'https://ckan.pbh.gov.br/dataset/1f868d62-d7c3-4121-8ffa-9ed66d71d3e2/resource/9096f15c-d400-481f-a078-5238c83ca0e7/download/data_set_poprua_cadunico.csv'\n",
        "url_6_21 = 'https://ckan.pbh.gov.br/dataset/1f868d62-d7c3-4121-8ffa-9ed66d71d3e2/resource/44baba43-85ba-4838-8c6e-6adcb469e03b/download/data_set_poprua_cadunico_06-2021.csv'\n",
        "url_7_21 = 'https://ckan.pbh.gov.br/dataset/1f868d62-d7c3-4121-8ffa-9ed66d71d3e2/resource/f904a3a6-1f6e-42b6-b326-7ab0bfe8eca6/download/data_set_poprua_cadunico_07-2021.csv'\n",
        "\n",
        "#Leitura individual de cada um\n",
        "data9_20 = pd.read_csv(url_9_20,sep = \";\")\n",
        "data10_20 = pd.read_csv(url_10_20,sep = \";\")\n",
        "data11_20 = pd.read_csv(url_11_20,sep = \";\")\n",
        "data12_20 = pd.read_csv(url_12_20,sep = \";\")\n",
        "data1_21 = pd.read_csv(url_1_21,sep = \";\")\n",
        "data2_21 = pd.read_csv(url_2_21,sep = \";\")\n",
        "data3_21 = pd.read_csv(url_3_21,sep = \";\")\n",
        "data4_21 = pd.read_csv(url_4_21,sep = \";\")\n",
        "data5_21 = pd.read_csv(url_5_21,sep = \";\")\n",
        "data6_21 = pd.read_csv(url_6_21,sep = \";\")\n",
        "data7_21 = pd.read_csv(url_7_21,sep = \";\")\n"
      ],
      "execution_count": 27,
      "outputs": []
    },
    {
      "cell_type": "markdown",
      "metadata": {
        "id": "9grejxxiOQv0"
      },
      "source": [
        "# Agrupando todos os dados em um único Dataframe\n"
      ]
    },
    {
      "cell_type": "code",
      "metadata": {
        "id": "jbEGVTyXkXSo"
      },
      "source": [
        "df2020=pd.concat([data9_20,data10_20, data11_20, data12_20],ignore_index=True)\n",
        "df2021=pd.concat([data1_21, data2_21, data3_21, data4_21, data5_21, data6_21, data7_21],ignore_index=True)"
      ],
      "execution_count": 28,
      "outputs": []
    },
    {
      "cell_type": "markdown",
      "metadata": {
        "id": "-U-CYM7ykMkj"
      },
      "source": [
        "# Agrupando os dados por ano\n"
      ]
    },
    {
      "cell_type": "code",
      "metadata": {
        "id": "xShhqhZpT10c",
        "colab": {
          "base_uri": "https://localhost:8080/",
          "height": 895
        },
        "outputId": "b41026df-b992-46ef-8b0c-be731ef7526c"
      },
      "source": [
        "df=pd.concat([data9_20,data10_20, data11_20, data12_20, data1_21, data2_21, data3_21, data4_21, data5_21, data6_21, data7_21],ignore_index=True)\n",
        "df"
      ],
      "execution_count": 29,
      "outputs": [
        {
          "output_type": "execute_result",
          "data": {
            "text/html": [
              "<div>\n",
              "<style scoped>\n",
              "    .dataframe tbody tr th:only-of-type {\n",
              "        vertical-align: middle;\n",
              "    }\n",
              "\n",
              "    .dataframe tbody tr th {\n",
              "        vertical-align: top;\n",
              "    }\n",
              "\n",
              "    .dataframe thead th {\n",
              "        text-align: right;\n",
              "    }\n",
              "</style>\n",
              "<table border=\"1\" class=\"dataframe\">\n",
              "  <thead>\n",
              "    <tr style=\"text-align: right;\">\n",
              "      <th></th>\n",
              "      <th>TEMPO_VIVE_NA_RUA</th>\n",
              "      <th>CONTATO_PARENTE_FORA_RUAS</th>\n",
              "      <th>DATA_NASCIMENTO</th>\n",
              "      <th>IDADE</th>\n",
              "      <th>SEXO</th>\n",
              "      <th>BOLSA_FAMILIA</th>\n",
              "      <th>POP_RUA</th>\n",
              "      <th>GRAU_INSTRUCAO</th>\n",
              "      <th>COR_RACA</th>\n",
              "      <th>Faixa da renda familiar per capita</th>\n",
              "      <th>VAL_REMUNERACAO_MES_PASSADO</th>\n",
              "      <th>CRAS</th>\n",
              "      <th>REGIONAL</th>\n",
              "      <th>FAIXA_DESATUALICACAO_CADASTRAL</th>\n",
              "      <th>MES_ANO_REFERENCIA</th>\n",
              "    </tr>\n",
              "  </thead>\n",
              "  <tbody>\n",
              "    <tr>\n",
              "      <th>0</th>\n",
              "      <td>Entre um e dois anos</td>\n",
              "      <td>Todo mes</td>\n",
              "      <td>07/06/1958</td>\n",
              "      <td>62.0</td>\n",
              "      <td>FEMININO</td>\n",
              "      <td>SIM</td>\n",
              "      <td>SIM</td>\n",
              "      <td>Fundamental incompleto</td>\n",
              "      <td>Preta</td>\n",
              "      <td>Ate R$89.00</td>\n",
              "      <td>60.0</td>\n",
              "      <td>ENDERECO FORA DE AREA CRAS</td>\n",
              "      <td>CENTRO SUL</td>\n",
              "      <td>13 a 18 Meses</td>\n",
              "      <td>01/09/2020</td>\n",
              "    </tr>\n",
              "    <tr>\n",
              "      <th>1</th>\n",
              "      <td>Ate seis meses</td>\n",
              "      <td>Quase nunca</td>\n",
              "      <td>04/06/1986</td>\n",
              "      <td>34.0</td>\n",
              "      <td>MASCULINO</td>\n",
              "      <td>NAO</td>\n",
              "      <td>SIM</td>\n",
              "      <td>Medio incompleto</td>\n",
              "      <td>Parda</td>\n",
              "      <td>Acima de 0.5 Salario Minimo</td>\n",
              "      <td>0.0</td>\n",
              "      <td>ENDERECO FORA DE AREA CRAS</td>\n",
              "      <td>NORDESTE</td>\n",
              "      <td>ate 12 Meses</td>\n",
              "      <td>01/09/2020</td>\n",
              "    </tr>\n",
              "    <tr>\n",
              "      <th>2</th>\n",
              "      <td>Entre cinco e dez anos</td>\n",
              "      <td>Nunca</td>\n",
              "      <td>03/10/1963</td>\n",
              "      <td>56.0</td>\n",
              "      <td>FEMININO</td>\n",
              "      <td>SIM</td>\n",
              "      <td>SIM</td>\n",
              "      <td>Fundamental incompleto</td>\n",
              "      <td>Parda</td>\n",
              "      <td>Ate R$89.00</td>\n",
              "      <td>50.0</td>\n",
              "      <td>ENDERECO FORA DE AREA CRAS</td>\n",
              "      <td>OESTE</td>\n",
              "      <td>37 a 48 Meses</td>\n",
              "      <td>01/09/2020</td>\n",
              "    </tr>\n",
              "    <tr>\n",
              "      <th>3</th>\n",
              "      <td>Ate seis meses</td>\n",
              "      <td>Todo dia</td>\n",
              "      <td>03/04/1958</td>\n",
              "      <td>62.0</td>\n",
              "      <td>FEMININO</td>\n",
              "      <td>NAO</td>\n",
              "      <td>SIM</td>\n",
              "      <td>Fundamental incompleto</td>\n",
              "      <td>Parda</td>\n",
              "      <td>Acima de 0.5 Salario Minimo</td>\n",
              "      <td>0.0</td>\n",
              "      <td>ENDERECO FORA DE AREA CRAS</td>\n",
              "      <td>CENTRO SUL</td>\n",
              "      <td>13 a 18 Meses</td>\n",
              "      <td>01/09/2020</td>\n",
              "    </tr>\n",
              "    <tr>\n",
              "      <th>4</th>\n",
              "      <td>Entre cinco e dez anos</td>\n",
              "      <td>Todo ano</td>\n",
              "      <td>11/08/1960</td>\n",
              "      <td>60.0</td>\n",
              "      <td>MASCULINO</td>\n",
              "      <td>SIM</td>\n",
              "      <td>SIM</td>\n",
              "      <td>Fundamental incompleto</td>\n",
              "      <td>Parda</td>\n",
              "      <td>Ate R$89.00</td>\n",
              "      <td>0.0</td>\n",
              "      <td>ENDERECO FORA DE AREA CRAS</td>\n",
              "      <td>CENTRO SUL</td>\n",
              "      <td>ate 12 Meses</td>\n",
              "      <td>01/09/2020</td>\n",
              "    </tr>\n",
              "    <tr>\n",
              "      <th>...</th>\n",
              "      <td>...</td>\n",
              "      <td>...</td>\n",
              "      <td>...</td>\n",
              "      <td>...</td>\n",
              "      <td>...</td>\n",
              "      <td>...</td>\n",
              "      <td>...</td>\n",
              "      <td>...</td>\n",
              "      <td>...</td>\n",
              "      <td>...</td>\n",
              "      <td>...</td>\n",
              "      <td>...</td>\n",
              "      <td>...</td>\n",
              "      <td>...</td>\n",
              "      <td>...</td>\n",
              "    </tr>\n",
              "    <tr>\n",
              "      <th>95178</th>\n",
              "      <td>Ate seis meses</td>\n",
              "      <td>Quase nunca</td>\n",
              "      <td>28/08/1961</td>\n",
              "      <td>59.0</td>\n",
              "      <td>MASCULINO</td>\n",
              "      <td>SIM</td>\n",
              "      <td>SIM</td>\n",
              "      <td>Sem instrucao</td>\n",
              "      <td>Parda</td>\n",
              "      <td>Ate R$89.00</td>\n",
              "      <td>0.0</td>\n",
              "      <td>ENDERECO FORA AREA CRAS</td>\n",
              "      <td>CENTRO SUL</td>\n",
              "      <td>ate 12 Meses</td>\n",
              "      <td>01/07/2021</td>\n",
              "    </tr>\n",
              "    <tr>\n",
              "      <th>95179</th>\n",
              "      <td>Entre um e dois anos</td>\n",
              "      <td>Todo mes</td>\n",
              "      <td>08/08/1981</td>\n",
              "      <td>39.0</td>\n",
              "      <td>MASCULINO</td>\n",
              "      <td>SIM</td>\n",
              "      <td>SIM</td>\n",
              "      <td>Fundamental incompleto</td>\n",
              "      <td>Parda</td>\n",
              "      <td>Ate R$89.00</td>\n",
              "      <td>0.0</td>\n",
              "      <td>ENDERECO FORA AREA CRAS</td>\n",
              "      <td>LESTE</td>\n",
              "      <td>ate 12 Meses</td>\n",
              "      <td>01/07/2021</td>\n",
              "    </tr>\n",
              "    <tr>\n",
              "      <th>95180</th>\n",
              "      <td>Ate seis meses</td>\n",
              "      <td>Quase nunca</td>\n",
              "      <td>24/09/1973</td>\n",
              "      <td>47.0</td>\n",
              "      <td>MASCULINO</td>\n",
              "      <td>SIM</td>\n",
              "      <td>SIM</td>\n",
              "      <td>Fundamental incompleto</td>\n",
              "      <td>Nao Informado</td>\n",
              "      <td>Ate R$89.00</td>\n",
              "      <td>0.0</td>\n",
              "      <td>ENDERECO FORA AREA CRAS</td>\n",
              "      <td>VENDA NOVA</td>\n",
              "      <td>ate 12 Meses</td>\n",
              "      <td>01/07/2021</td>\n",
              "    </tr>\n",
              "    <tr>\n",
              "      <th>95181</th>\n",
              "      <td>Entre cinco e dez anos</td>\n",
              "      <td>Quase nunca</td>\n",
              "      <td>23/11/1961</td>\n",
              "      <td>59.0</td>\n",
              "      <td>MASCULINO</td>\n",
              "      <td>SIM</td>\n",
              "      <td>SIM</td>\n",
              "      <td>Fundamental incompleto</td>\n",
              "      <td>Parda</td>\n",
              "      <td>Ate R$89.00</td>\n",
              "      <td>0.0</td>\n",
              "      <td>ENDERECO FORA AREA CRAS</td>\n",
              "      <td>CENTRO SUL</td>\n",
              "      <td>ate 12 Meses</td>\n",
              "      <td>01/07/2021</td>\n",
              "    </tr>\n",
              "    <tr>\n",
              "      <th>95182</th>\n",
              "      <td>Entre dois e cinco anos</td>\n",
              "      <td>Nunca</td>\n",
              "      <td>11/05/1970</td>\n",
              "      <td>51.0</td>\n",
              "      <td>MASCULINO</td>\n",
              "      <td>SIM</td>\n",
              "      <td>SIM</td>\n",
              "      <td>Medio completo</td>\n",
              "      <td>Parda</td>\n",
              "      <td>Ate R$89.00</td>\n",
              "      <td>0.0</td>\n",
              "      <td>ENDERECO FORA AREA CRAS</td>\n",
              "      <td>BARREIRO</td>\n",
              "      <td>ate 12 Meses</td>\n",
              "      <td>01/07/2021</td>\n",
              "    </tr>\n",
              "  </tbody>\n",
              "</table>\n",
              "<p>95183 rows × 15 columns</p>\n",
              "</div>"
            ],
            "text/plain": [
              "             TEMPO_VIVE_NA_RUA  ... MES_ANO_REFERENCIA\n",
              "0         Entre um e dois anos  ...         01/09/2020\n",
              "1               Ate seis meses  ...         01/09/2020\n",
              "2       Entre cinco e dez anos  ...         01/09/2020\n",
              "3               Ate seis meses  ...         01/09/2020\n",
              "4       Entre cinco e dez anos  ...         01/09/2020\n",
              "...                        ...  ...                ...\n",
              "95178           Ate seis meses  ...         01/07/2021\n",
              "95179     Entre um e dois anos  ...         01/07/2021\n",
              "95180           Ate seis meses  ...         01/07/2021\n",
              "95181   Entre cinco e dez anos  ...         01/07/2021\n",
              "95182  Entre dois e cinco anos  ...         01/07/2021\n",
              "\n",
              "[95183 rows x 15 columns]"
            ]
          },
          "metadata": {},
          "execution_count": 29
        }
      ]
    },
    {
      "cell_type": "markdown",
      "metadata": {
        "id": "Qsjf2akbOI-9"
      },
      "source": [
        "# Tratamento dos dados"
      ]
    },
    {
      "cell_type": "markdown",
      "metadata": {
        "id": "O5rpbAZaPGu9"
      },
      "source": [
        "**Verificar campos vazios/nulos:**\n"
      ]
    },
    {
      "cell_type": "code",
      "metadata": {
        "id": "5GdbXZDmUDir",
        "colab": {
          "base_uri": "https://localhost:8080/"
        },
        "outputId": "4beddc90-a1ba-492d-e307-daae54485c52"
      },
      "source": [
        "df.isnull().sum()"
      ],
      "execution_count": 30,
      "outputs": [
        {
          "output_type": "execute_result",
          "data": {
            "text/plain": [
              "TEMPO_VIVE_NA_RUA                        0\n",
              "CONTATO_PARENTE_FORA_RUAS                0\n",
              "DATA_NASCIMENTO                          0\n",
              "IDADE                                 8282\n",
              "SEXO                                     0\n",
              "BOLSA_FAMILIA                            0\n",
              "POP_RUA                                  0\n",
              "GRAU_INSTRUCAO                           0\n",
              "COR_RACA                                 0\n",
              "Faixa da renda familiar per capita       0\n",
              "VAL_REMUNERACAO_MES_PASSADO            495\n",
              "CRAS                                     0\n",
              "REGIONAL                                 0\n",
              "FAIXA_DESATUALICACAO_CADASTRAL           0\n",
              "MES_ANO_REFERENCIA                       0\n",
              "dtype: int64"
            ]
          },
          "metadata": {},
          "execution_count": 30
        }
      ]
    },
    {
      "cell_type": "markdown",
      "metadata": {
        "id": "rWcVK6ACPT1w"
      },
      "source": [
        "* É possível observar que apesar de todos os campos de data de nascimento estarem devidamente preenchidos, alguns dos campos de idade não estão."
      ]
    },
    {
      "cell_type": "markdown",
      "metadata": {
        "id": "yPI8ej13QE9M"
      },
      "source": [
        "**Verificar os tipos dos dados:**"
      ]
    },
    {
      "cell_type": "code",
      "metadata": {
        "colab": {
          "base_uri": "https://localhost:8080/"
        },
        "id": "TFx5Mcr_Y1rW",
        "outputId": "a5819611-7c59-4d81-9f24-f8fdfe58e15b"
      },
      "source": [
        "df.dtypes"
      ],
      "execution_count": 31,
      "outputs": [
        {
          "output_type": "execute_result",
          "data": {
            "text/plain": [
              "TEMPO_VIVE_NA_RUA                      object\n",
              "CONTATO_PARENTE_FORA_RUAS              object\n",
              "DATA_NASCIMENTO                        object\n",
              "IDADE                                 float64\n",
              "SEXO                                   object\n",
              "BOLSA_FAMILIA                          object\n",
              "POP_RUA                                object\n",
              "GRAU_INSTRUCAO                         object\n",
              "COR_RACA                               object\n",
              "Faixa da renda familiar per capita     object\n",
              "VAL_REMUNERACAO_MES_PASSADO           float64\n",
              "CRAS                                   object\n",
              "REGIONAL                               object\n",
              "FAIXA_DESATUALICACAO_CADASTRAL         object\n",
              "MES_ANO_REFERENCIA                     object\n",
              "dtype: object"
            ]
          },
          "metadata": {},
          "execution_count": 31
        }
      ]
    },
    {
      "cell_type": "markdown",
      "metadata": {
        "id": "BNMqOXrQQVeI"
      },
      "source": [
        "* Alguns detalhes importantes: A data_nascimento não está no formato date e os campos idade e val_remuneracao_mes_passado estão no formato float.\n",
        "\n",
        "* Um dicionário com os tipos de cada atributo é fornecido juntamente ao banco de dados, contudo ele mostrou-se não confiável."
      ]
    },
    {
      "cell_type": "markdown",
      "metadata": {
        "id": "R6y4somCgwux"
      },
      "source": [
        "## Utilizando a data de nascimento para cálculo da idade:"
      ]
    },
    {
      "cell_type": "markdown",
      "metadata": {
        "id": "H1UUCH6HU-0I"
      },
      "source": [
        "* Convertendo MES_ANO_REFERENCIA de objetct para datetime\n"
      ]
    },
    {
      "cell_type": "code",
      "metadata": {
        "colab": {
          "base_uri": "https://localhost:8080/"
        },
        "id": "FXVHGxvsVJdp",
        "outputId": "62e436e1-e43f-4a80-bd70-0bd02b99f61d"
      },
      "source": [
        "df['MES_ANO_REFERENCIA'] = pd.to_datetime(df['MES_ANO_REFERENCIA'])\n",
        "df.dtypes\n"
      ],
      "execution_count": 32,
      "outputs": [
        {
          "output_type": "execute_result",
          "data": {
            "text/plain": [
              "TEMPO_VIVE_NA_RUA                             object\n",
              "CONTATO_PARENTE_FORA_RUAS                     object\n",
              "DATA_NASCIMENTO                               object\n",
              "IDADE                                        float64\n",
              "SEXO                                          object\n",
              "BOLSA_FAMILIA                                 object\n",
              "POP_RUA                                       object\n",
              "GRAU_INSTRUCAO                                object\n",
              "COR_RACA                                      object\n",
              "Faixa da renda familiar per capita            object\n",
              "VAL_REMUNERACAO_MES_PASSADO                  float64\n",
              "CRAS                                          object\n",
              "REGIONAL                                      object\n",
              "FAIXA_DESATUALICACAO_CADASTRAL                object\n",
              "MES_ANO_REFERENCIA                    datetime64[ns]\n",
              "dtype: object"
            ]
          },
          "metadata": {},
          "execution_count": 32
        }
      ]
    },
    {
      "cell_type": "markdown",
      "metadata": {
        "id": "zqIFBErrXzgq"
      },
      "source": [
        "* Escolhemos calcular as idades das linhas que cujo valor é nulo já que todos tem o atributo DATA_NASCIMENTO preenchido\n",
        "\n"
      ]
    },
    {
      "cell_type": "code",
      "metadata": {
        "id": "aSz_9MMOX0KD"
      },
      "source": [
        "##função para calcular idade\n",
        "def age(born):\n",
        "    born =datetime.strptime(born, \"%d/%m/%Y\").date()\n",
        "    today = date.today()\n",
        "    return today.year - born.year - ((today.month, \n",
        "                                      today.day) < (born.month, \n",
        "                                                    born.day))"
      ],
      "execution_count": 33,
      "outputs": []
    },
    {
      "cell_type": "code",
      "metadata": {
        "colab": {
          "base_uri": "https://localhost:8080/"
        },
        "id": "RhXYvTbyYVxn",
        "outputId": "969a8a57-e111-4936-aa1a-b33a1d227fb2"
      },
      "source": [
        "df['IDADE'] = df['DATA_NASCIMENTO'].apply(age)\n",
        "df.isnull().sum()"
      ],
      "execution_count": 34,
      "outputs": [
        {
          "output_type": "execute_result",
          "data": {
            "text/plain": [
              "TEMPO_VIVE_NA_RUA                       0\n",
              "CONTATO_PARENTE_FORA_RUAS               0\n",
              "DATA_NASCIMENTO                         0\n",
              "IDADE                                   0\n",
              "SEXO                                    0\n",
              "BOLSA_FAMILIA                           0\n",
              "POP_RUA                                 0\n",
              "GRAU_INSTRUCAO                          0\n",
              "COR_RACA                                0\n",
              "Faixa da renda familiar per capita      0\n",
              "VAL_REMUNERACAO_MES_PASSADO           495\n",
              "CRAS                                    0\n",
              "REGIONAL                                0\n",
              "FAIXA_DESATUALICACAO_CADASTRAL          0\n",
              "MES_ANO_REFERENCIA                      0\n",
              "dtype: int64"
            ]
          },
          "metadata": {},
          "execution_count": 34
        }
      ]
    },
    {
      "cell_type": "markdown",
      "metadata": {
        "id": "Y5P5-BxtwJIp"
      },
      "source": [
        "* as linhas com valores nulos de VAL_REMUNERACAO_MES_PASSADO serão retiradas visto que preencher com -1 ou algum texto marcados poderia alterar médias futuras e não temos informações suficientes para afirmar que todos os valores nulos dessa coluna podem ser substituidos por 0"
      ]
    },
    {
      "cell_type": "code",
      "metadata": {
        "id": "WYTreu8qfqC0",
        "colab": {
          "base_uri": "https://localhost:8080/",
          "height": 895
        },
        "outputId": "87738d3d-aa7c-49f2-82f5-b49ddda2c064"
      },
      "source": [
        "df = df.dropna(subset=['VAL_REMUNERACAO_MES_PASSADO'])\n",
        "df"
      ],
      "execution_count": 35,
      "outputs": [
        {
          "output_type": "execute_result",
          "data": {
            "text/html": [
              "<div>\n",
              "<style scoped>\n",
              "    .dataframe tbody tr th:only-of-type {\n",
              "        vertical-align: middle;\n",
              "    }\n",
              "\n",
              "    .dataframe tbody tr th {\n",
              "        vertical-align: top;\n",
              "    }\n",
              "\n",
              "    .dataframe thead th {\n",
              "        text-align: right;\n",
              "    }\n",
              "</style>\n",
              "<table border=\"1\" class=\"dataframe\">\n",
              "  <thead>\n",
              "    <tr style=\"text-align: right;\">\n",
              "      <th></th>\n",
              "      <th>TEMPO_VIVE_NA_RUA</th>\n",
              "      <th>CONTATO_PARENTE_FORA_RUAS</th>\n",
              "      <th>DATA_NASCIMENTO</th>\n",
              "      <th>IDADE</th>\n",
              "      <th>SEXO</th>\n",
              "      <th>BOLSA_FAMILIA</th>\n",
              "      <th>POP_RUA</th>\n",
              "      <th>GRAU_INSTRUCAO</th>\n",
              "      <th>COR_RACA</th>\n",
              "      <th>Faixa da renda familiar per capita</th>\n",
              "      <th>VAL_REMUNERACAO_MES_PASSADO</th>\n",
              "      <th>CRAS</th>\n",
              "      <th>REGIONAL</th>\n",
              "      <th>FAIXA_DESATUALICACAO_CADASTRAL</th>\n",
              "      <th>MES_ANO_REFERENCIA</th>\n",
              "    </tr>\n",
              "  </thead>\n",
              "  <tbody>\n",
              "    <tr>\n",
              "      <th>0</th>\n",
              "      <td>Entre um e dois anos</td>\n",
              "      <td>Todo mes</td>\n",
              "      <td>07/06/1958</td>\n",
              "      <td>63</td>\n",
              "      <td>FEMININO</td>\n",
              "      <td>SIM</td>\n",
              "      <td>SIM</td>\n",
              "      <td>Fundamental incompleto</td>\n",
              "      <td>Preta</td>\n",
              "      <td>Ate R$89.00</td>\n",
              "      <td>60.0</td>\n",
              "      <td>ENDERECO FORA DE AREA CRAS</td>\n",
              "      <td>CENTRO SUL</td>\n",
              "      <td>13 a 18 Meses</td>\n",
              "      <td>2020-01-09</td>\n",
              "    </tr>\n",
              "    <tr>\n",
              "      <th>1</th>\n",
              "      <td>Ate seis meses</td>\n",
              "      <td>Quase nunca</td>\n",
              "      <td>04/06/1986</td>\n",
              "      <td>35</td>\n",
              "      <td>MASCULINO</td>\n",
              "      <td>NAO</td>\n",
              "      <td>SIM</td>\n",
              "      <td>Medio incompleto</td>\n",
              "      <td>Parda</td>\n",
              "      <td>Acima de 0.5 Salario Minimo</td>\n",
              "      <td>0.0</td>\n",
              "      <td>ENDERECO FORA DE AREA CRAS</td>\n",
              "      <td>NORDESTE</td>\n",
              "      <td>ate 12 Meses</td>\n",
              "      <td>2020-01-09</td>\n",
              "    </tr>\n",
              "    <tr>\n",
              "      <th>2</th>\n",
              "      <td>Entre cinco e dez anos</td>\n",
              "      <td>Nunca</td>\n",
              "      <td>03/10/1963</td>\n",
              "      <td>57</td>\n",
              "      <td>FEMININO</td>\n",
              "      <td>SIM</td>\n",
              "      <td>SIM</td>\n",
              "      <td>Fundamental incompleto</td>\n",
              "      <td>Parda</td>\n",
              "      <td>Ate R$89.00</td>\n",
              "      <td>50.0</td>\n",
              "      <td>ENDERECO FORA DE AREA CRAS</td>\n",
              "      <td>OESTE</td>\n",
              "      <td>37 a 48 Meses</td>\n",
              "      <td>2020-01-09</td>\n",
              "    </tr>\n",
              "    <tr>\n",
              "      <th>3</th>\n",
              "      <td>Ate seis meses</td>\n",
              "      <td>Todo dia</td>\n",
              "      <td>03/04/1958</td>\n",
              "      <td>63</td>\n",
              "      <td>FEMININO</td>\n",
              "      <td>NAO</td>\n",
              "      <td>SIM</td>\n",
              "      <td>Fundamental incompleto</td>\n",
              "      <td>Parda</td>\n",
              "      <td>Acima de 0.5 Salario Minimo</td>\n",
              "      <td>0.0</td>\n",
              "      <td>ENDERECO FORA DE AREA CRAS</td>\n",
              "      <td>CENTRO SUL</td>\n",
              "      <td>13 a 18 Meses</td>\n",
              "      <td>2020-01-09</td>\n",
              "    </tr>\n",
              "    <tr>\n",
              "      <th>4</th>\n",
              "      <td>Entre cinco e dez anos</td>\n",
              "      <td>Todo ano</td>\n",
              "      <td>11/08/1960</td>\n",
              "      <td>61</td>\n",
              "      <td>MASCULINO</td>\n",
              "      <td>SIM</td>\n",
              "      <td>SIM</td>\n",
              "      <td>Fundamental incompleto</td>\n",
              "      <td>Parda</td>\n",
              "      <td>Ate R$89.00</td>\n",
              "      <td>0.0</td>\n",
              "      <td>ENDERECO FORA DE AREA CRAS</td>\n",
              "      <td>CENTRO SUL</td>\n",
              "      <td>ate 12 Meses</td>\n",
              "      <td>2020-01-09</td>\n",
              "    </tr>\n",
              "    <tr>\n",
              "      <th>...</th>\n",
              "      <td>...</td>\n",
              "      <td>...</td>\n",
              "      <td>...</td>\n",
              "      <td>...</td>\n",
              "      <td>...</td>\n",
              "      <td>...</td>\n",
              "      <td>...</td>\n",
              "      <td>...</td>\n",
              "      <td>...</td>\n",
              "      <td>...</td>\n",
              "      <td>...</td>\n",
              "      <td>...</td>\n",
              "      <td>...</td>\n",
              "      <td>...</td>\n",
              "      <td>...</td>\n",
              "    </tr>\n",
              "    <tr>\n",
              "      <th>95178</th>\n",
              "      <td>Ate seis meses</td>\n",
              "      <td>Quase nunca</td>\n",
              "      <td>28/08/1961</td>\n",
              "      <td>60</td>\n",
              "      <td>MASCULINO</td>\n",
              "      <td>SIM</td>\n",
              "      <td>SIM</td>\n",
              "      <td>Sem instrucao</td>\n",
              "      <td>Parda</td>\n",
              "      <td>Ate R$89.00</td>\n",
              "      <td>0.0</td>\n",
              "      <td>ENDERECO FORA AREA CRAS</td>\n",
              "      <td>CENTRO SUL</td>\n",
              "      <td>ate 12 Meses</td>\n",
              "      <td>2021-01-07</td>\n",
              "    </tr>\n",
              "    <tr>\n",
              "      <th>95179</th>\n",
              "      <td>Entre um e dois anos</td>\n",
              "      <td>Todo mes</td>\n",
              "      <td>08/08/1981</td>\n",
              "      <td>40</td>\n",
              "      <td>MASCULINO</td>\n",
              "      <td>SIM</td>\n",
              "      <td>SIM</td>\n",
              "      <td>Fundamental incompleto</td>\n",
              "      <td>Parda</td>\n",
              "      <td>Ate R$89.00</td>\n",
              "      <td>0.0</td>\n",
              "      <td>ENDERECO FORA AREA CRAS</td>\n",
              "      <td>LESTE</td>\n",
              "      <td>ate 12 Meses</td>\n",
              "      <td>2021-01-07</td>\n",
              "    </tr>\n",
              "    <tr>\n",
              "      <th>95180</th>\n",
              "      <td>Ate seis meses</td>\n",
              "      <td>Quase nunca</td>\n",
              "      <td>24/09/1973</td>\n",
              "      <td>47</td>\n",
              "      <td>MASCULINO</td>\n",
              "      <td>SIM</td>\n",
              "      <td>SIM</td>\n",
              "      <td>Fundamental incompleto</td>\n",
              "      <td>Nao Informado</td>\n",
              "      <td>Ate R$89.00</td>\n",
              "      <td>0.0</td>\n",
              "      <td>ENDERECO FORA AREA CRAS</td>\n",
              "      <td>VENDA NOVA</td>\n",
              "      <td>ate 12 Meses</td>\n",
              "      <td>2021-01-07</td>\n",
              "    </tr>\n",
              "    <tr>\n",
              "      <th>95181</th>\n",
              "      <td>Entre cinco e dez anos</td>\n",
              "      <td>Quase nunca</td>\n",
              "      <td>23/11/1961</td>\n",
              "      <td>59</td>\n",
              "      <td>MASCULINO</td>\n",
              "      <td>SIM</td>\n",
              "      <td>SIM</td>\n",
              "      <td>Fundamental incompleto</td>\n",
              "      <td>Parda</td>\n",
              "      <td>Ate R$89.00</td>\n",
              "      <td>0.0</td>\n",
              "      <td>ENDERECO FORA AREA CRAS</td>\n",
              "      <td>CENTRO SUL</td>\n",
              "      <td>ate 12 Meses</td>\n",
              "      <td>2021-01-07</td>\n",
              "    </tr>\n",
              "    <tr>\n",
              "      <th>95182</th>\n",
              "      <td>Entre dois e cinco anos</td>\n",
              "      <td>Nunca</td>\n",
              "      <td>11/05/1970</td>\n",
              "      <td>51</td>\n",
              "      <td>MASCULINO</td>\n",
              "      <td>SIM</td>\n",
              "      <td>SIM</td>\n",
              "      <td>Medio completo</td>\n",
              "      <td>Parda</td>\n",
              "      <td>Ate R$89.00</td>\n",
              "      <td>0.0</td>\n",
              "      <td>ENDERECO FORA AREA CRAS</td>\n",
              "      <td>BARREIRO</td>\n",
              "      <td>ate 12 Meses</td>\n",
              "      <td>2021-01-07</td>\n",
              "    </tr>\n",
              "  </tbody>\n",
              "</table>\n",
              "<p>94688 rows × 15 columns</p>\n",
              "</div>"
            ],
            "text/plain": [
              "             TEMPO_VIVE_NA_RUA  ... MES_ANO_REFERENCIA\n",
              "0         Entre um e dois anos  ...         2020-01-09\n",
              "1               Ate seis meses  ...         2020-01-09\n",
              "2       Entre cinco e dez anos  ...         2020-01-09\n",
              "3               Ate seis meses  ...         2020-01-09\n",
              "4       Entre cinco e dez anos  ...         2020-01-09\n",
              "...                        ...  ...                ...\n",
              "95178           Ate seis meses  ...         2021-01-07\n",
              "95179     Entre um e dois anos  ...         2021-01-07\n",
              "95180           Ate seis meses  ...         2021-01-07\n",
              "95181   Entre cinco e dez anos  ...         2021-01-07\n",
              "95182  Entre dois e cinco anos  ...         2021-01-07\n",
              "\n",
              "[94688 rows x 15 columns]"
            ]
          },
          "metadata": {},
          "execution_count": 35
        }
      ]
    }
  ]
}
