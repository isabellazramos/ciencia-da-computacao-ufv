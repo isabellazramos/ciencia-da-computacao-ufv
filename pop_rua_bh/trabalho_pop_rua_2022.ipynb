{
  "cells": [
    {
      "cell_type": "markdown",
      "metadata": {
        "id": "UEUWU8BvKgXe"
      },
      "source": [
        "\n",
        "\n",
        "**Dados:** https://dados.pbh.gov.br/dataset/populacao-de-rua"
      ]
    },
    {
      "cell_type": "markdown",
      "metadata": {
        "id": "qB5vjwewxuHw"
      },
      "source": [
        "## Perguntas a serem respondidas:\n",
        "\n"
      ]
    },
    {
      "cell_type": "markdown",
      "metadata": {
        "id": "MDExVXJ1QLfm"
      },
      "source": [
        "# Importantando as bibliotecas:"
      ]
    },
    {
      "cell_type": "code",
      "execution_count": 1,
      "metadata": {
        "id": "m33sQylPQGl3"
      },
      "outputs": [],
      "source": [
        "import pandas as pd\n",
        "from datetime import datetime, date\n",
        "import matplotlib.pyplot as plt\n",
        "import seaborn as sns\n",
        "import glob\n",
        "\n",
        "%matplotlib inline"
      ]
    },
    {
      "cell_type": "markdown",
      "metadata": {
        "id": "hahcR2klIlyN"
      },
      "source": [
        "## Coleta dos dados"
      ]
    },
    {
      "cell_type": "code",
      "execution_count": 2,
      "metadata": {},
      "outputs": [],
      "source": [
        "def get_csv(name_path, name_df):\n",
        "    path = name_path\n",
        "    files = glob.glob(path + \"/*.csv\")\n",
        "    name_df = pd.DataFrame()\n",
        "    content = []\n",
        "    for filename in files:\n",
        "        df = pd.read_csv(filename,encoding=\"ISO-8859-1\",sep=';')\n",
        "        content.append(df)\n",
        "    name_df = pd.concat(content)\n",
        "    return name_df"
      ]
    },
    {
      "cell_type": "code",
      "execution_count": 30,
      "metadata": {},
      "outputs": [],
      "source": [
        "data_2020 = pd.DataFrame()\n",
        "data_2021 = pd.DataFrame()\n",
        "data_2022 = pd.DataFrame()\n",
        "umano = pd.DataFrame()\n",
        "\n",
        "data_2020 = get_csv(\"data/2020/\", data_2020)\n",
        "data_2021 = get_csv(\"data/2021/\", data_2021)\n",
        "data_2022 = get_csv(\"data/2022/\", data_2022)\n",
        "umano = get_csv(\"data/um_ano/\", umano)"
      ]
    },
    {
      "cell_type": "code",
      "execution_count": 31,
      "metadata": {},
      "outputs": [
        {
          "name": "stdout",
          "output_type": "stream",
          "text": [
            "124370\n"
          ]
        }
      ],
      "source": [
        "print(len(umano))"
      ]
    },
    {
      "cell_type": "code",
      "execution_count": 26,
      "metadata": {},
      "outputs": [],
      "source": [
        "umano['MES_ANO_REFERENCIA'] = pd.to_datetime(umano['MES_ANO_REFERENCIA'])"
      ]
    },
    {
      "cell_type": "code",
      "execution_count": 32,
      "metadata": {},
      "outputs": [
        {
          "data": {
            "text/plain": [
              "01/07/2022    10656\n",
              "01/06/2022    10457\n",
              "01/05/2022    10241\n",
              "01/04/2022    10064\n",
              "01/08/2022     9995\n",
              "01/03/2022     9814\n",
              "01/02/2022     9649\n",
              "01/01/2022     9363\n",
              "01/12/2021     9157\n",
              "01/11/2021     8999\n",
              "01/10/2021     8751\n",
              "01/09/2021     8659\n",
              "01/08/2021     8565\n",
              "Name: MES_ANO_REFERENCIA, dtype: int64"
            ]
          },
          "execution_count": 32,
          "metadata": {},
          "output_type": "execute_result"
        }
      ],
      "source": [
        "umano['MES_ANO_REFERENCIA'].value_counts()"
      ]
    },
    {
      "cell_type": "markdown",
      "metadata": {
        "id": "9grejxxiOQv0"
      },
      "source": [
        "# Agrupando todos os dados em um único Dataframe\n"
      ]
    },
    {
      "cell_type": "code",
      "execution_count": 79,
      "metadata": {
        "id": "xShhqhZpT10c"
      },
      "outputs": [
        {
          "data": {
            "text/html": [
              "<div>\n",
              "<style scoped>\n",
              "    .dataframe tbody tr th:only-of-type {\n",
              "        vertical-align: middle;\n",
              "    }\n",
              "\n",
              "    .dataframe tbody tr th {\n",
              "        vertical-align: top;\n",
              "    }\n",
              "\n",
              "    .dataframe thead th {\n",
              "        text-align: right;\n",
              "    }\n",
              "</style>\n",
              "<table border=\"1\" class=\"dataframe\">\n",
              "  <thead>\n",
              "    <tr style=\"text-align: right;\">\n",
              "      <th></th>\n",
              "      <th>TEMPO_VIVE_NA_RUA</th>\n",
              "      <th>CONTATO_PARENTE_FORA_RUAS</th>\n",
              "      <th>DATA_NASCIMENTO</th>\n",
              "      <th>IDADE</th>\n",
              "      <th>SEXO</th>\n",
              "      <th>AUXILIO_BRASIL</th>\n",
              "      <th>POP_RUA</th>\n",
              "      <th>GRAU_INSTRUCAO</th>\n",
              "      <th>COR_RACA</th>\n",
              "      <th>Faixa da renda familiar per capita</th>\n",
              "      <th>VAL_REMUNERACAO_MES_PASSADO</th>\n",
              "      <th>CRAS</th>\n",
              "      <th>REGIONAL</th>\n",
              "      <th>FAIXA_DESATUALICACAO_CADASTRAL</th>\n",
              "      <th>MES_ANO_REFERENCIA</th>\n",
              "      <th>BOLSA_FAMILIA</th>\n",
              "      <th>faixa_idade</th>\n",
              "    </tr>\n",
              "  </thead>\n",
              "  <tbody>\n",
              "    <tr>\n",
              "      <th>0</th>\n",
              "      <td>Ate seis meses</td>\n",
              "      <td>Nunca</td>\n",
              "      <td>09/05/2002</td>\n",
              "      <td>20</td>\n",
              "      <td>MASCULINO</td>\n",
              "      <td>NAO</td>\n",
              "      <td>SIM</td>\n",
              "      <td>Fundamental completo</td>\n",
              "      <td>Parda</td>\n",
              "      <td>Entre R$210.01 ate 0.5 Salario Minimo</td>\n",
              "      <td>0.0</td>\n",
              "      <td>CRAS VILA CEMIG</td>\n",
              "      <td>BARREIRO</td>\n",
              "      <td>ate 12 Meses</td>\n",
              "      <td>2022-01-05</td>\n",
              "      <td>NAO</td>\n",
              "      <td></td>\n",
              "    </tr>\n",
              "    <tr>\n",
              "      <th>1</th>\n",
              "      <td>Ate seis meses</td>\n",
              "      <td>Quase nunca</td>\n",
              "      <td>04/06/1986</td>\n",
              "      <td>36</td>\n",
              "      <td>MASCULINO</td>\n",
              "      <td>NAO</td>\n",
              "      <td>SIM</td>\n",
              "      <td>Medio incompleto</td>\n",
              "      <td>Parda</td>\n",
              "      <td>Acima de 0.5 Salario Minimo</td>\n",
              "      <td>0.0</td>\n",
              "      <td>TPSA Sao Gabriel I</td>\n",
              "      <td>NORDESTE</td>\n",
              "      <td>ate 12 Meses</td>\n",
              "      <td>2022-01-05</td>\n",
              "      <td>NAO</td>\n",
              "      <td></td>\n",
              "    </tr>\n",
              "    <tr>\n",
              "      <th>2</th>\n",
              "      <td>Ate seis meses</td>\n",
              "      <td>Quase nunca</td>\n",
              "      <td>02/07/1967</td>\n",
              "      <td>55</td>\n",
              "      <td>FEMININO</td>\n",
              "      <td>NAO</td>\n",
              "      <td>SIM</td>\n",
              "      <td>Medio incompleto</td>\n",
              "      <td>Preta</td>\n",
              "      <td>Entre R$210.01 ate 0.5 Salario Minimo</td>\n",
              "      <td>500.0</td>\n",
              "      <td>TPSA Centro</td>\n",
              "      <td>CENTRO SUL</td>\n",
              "      <td>ate 12 Meses</td>\n",
              "      <td>2022-01-05</td>\n",
              "      <td>NAO</td>\n",
              "      <td></td>\n",
              "    </tr>\n",
              "    <tr>\n",
              "      <th>3</th>\n",
              "      <td>Ate seis meses</td>\n",
              "      <td>Todo mes</td>\n",
              "      <td>01/03/1992</td>\n",
              "      <td>30</td>\n",
              "      <td>FEMININO</td>\n",
              "      <td>NAO</td>\n",
              "      <td>SIM</td>\n",
              "      <td>Sem instrucao</td>\n",
              "      <td>Preta</td>\n",
              "      <td>Entre R$210.01 ate 0.5 Salario Minimo</td>\n",
              "      <td>0.0</td>\n",
              "      <td>CRAS VILA ANTENA</td>\n",
              "      <td>OESTE</td>\n",
              "      <td>ate 12 Meses</td>\n",
              "      <td>2022-01-05</td>\n",
              "      <td>NAO</td>\n",
              "      <td></td>\n",
              "    </tr>\n",
              "    <tr>\n",
              "      <th>4</th>\n",
              "      <td>Mais de dez anos</td>\n",
              "      <td>Todo dia</td>\n",
              "      <td>03/04/1958</td>\n",
              "      <td>64</td>\n",
              "      <td>FEMININO</td>\n",
              "      <td>NAO</td>\n",
              "      <td>SIM</td>\n",
              "      <td>Fundamental incompleto</td>\n",
              "      <td>Parda</td>\n",
              "      <td>Acima de 0.5 Salario Minimo</td>\n",
              "      <td>0.0</td>\n",
              "      <td>TPSA Centro</td>\n",
              "      <td>CENTRO SUL</td>\n",
              "      <td>ate 12 Meses</td>\n",
              "      <td>2022-01-05</td>\n",
              "      <td>NAO</td>\n",
              "      <td></td>\n",
              "    </tr>\n",
              "    <tr>\n",
              "      <th>...</th>\n",
              "      <td>...</td>\n",
              "      <td>...</td>\n",
              "      <td>...</td>\n",
              "      <td>...</td>\n",
              "      <td>...</td>\n",
              "      <td>...</td>\n",
              "      <td>...</td>\n",
              "      <td>...</td>\n",
              "      <td>...</td>\n",
              "      <td>...</td>\n",
              "      <td>...</td>\n",
              "      <td>...</td>\n",
              "      <td>...</td>\n",
              "      <td>...</td>\n",
              "      <td>...</td>\n",
              "      <td>...</td>\n",
              "      <td>...</td>\n",
              "    </tr>\n",
              "    <tr>\n",
              "      <th>8654</th>\n",
              "      <td>Ate seis meses</td>\n",
              "      <td>Quase nunca</td>\n",
              "      <td>28/08/1961</td>\n",
              "      <td>61</td>\n",
              "      <td>MASCULINO</td>\n",
              "      <td>NAO</td>\n",
              "      <td>SIM</td>\n",
              "      <td>Sem instrucao</td>\n",
              "      <td>Parda</td>\n",
              "      <td>Ate R$89.00</td>\n",
              "      <td>0.0</td>\n",
              "      <td>ENDERECO FORA AREA CRAS</td>\n",
              "      <td>CENTRO SUL</td>\n",
              "      <td>ate 12 Meses</td>\n",
              "      <td>2021-01-09</td>\n",
              "      <td>SIM</td>\n",
              "      <td></td>\n",
              "    </tr>\n",
              "    <tr>\n",
              "      <th>8655</th>\n",
              "      <td>Entre um e dois anos</td>\n",
              "      <td>Todo mes</td>\n",
              "      <td>08/08/1981</td>\n",
              "      <td>41</td>\n",
              "      <td>MASCULINO</td>\n",
              "      <td>NAO</td>\n",
              "      <td>SIM</td>\n",
              "      <td>Fundamental incompleto</td>\n",
              "      <td>Parda</td>\n",
              "      <td>Ate R$89.00</td>\n",
              "      <td>0.0</td>\n",
              "      <td>ENDERECO FORA AREA CRAS</td>\n",
              "      <td>LESTE</td>\n",
              "      <td>ate 12 Meses</td>\n",
              "      <td>2021-01-09</td>\n",
              "      <td>SIM</td>\n",
              "      <td></td>\n",
              "    </tr>\n",
              "    <tr>\n",
              "      <th>8656</th>\n",
              "      <td>Ate seis meses</td>\n",
              "      <td>Quase nunca</td>\n",
              "      <td>24/09/1973</td>\n",
              "      <td>49</td>\n",
              "      <td>MASCULINO</td>\n",
              "      <td>NAO</td>\n",
              "      <td>SIM</td>\n",
              "      <td>Fundamental incompleto</td>\n",
              "      <td>Nao Informado</td>\n",
              "      <td>Ate R$89.00</td>\n",
              "      <td>0.0</td>\n",
              "      <td>ENDERECO FORA AREA CRAS</td>\n",
              "      <td>VENDA NOVA</td>\n",
              "      <td>ate 12 Meses</td>\n",
              "      <td>2021-01-09</td>\n",
              "      <td>SIM</td>\n",
              "      <td></td>\n",
              "    </tr>\n",
              "    <tr>\n",
              "      <th>8657</th>\n",
              "      <td>Entre cinco e dez anos</td>\n",
              "      <td>Quase nunca</td>\n",
              "      <td>23/11/1961</td>\n",
              "      <td>61</td>\n",
              "      <td>MASCULINO</td>\n",
              "      <td>NAO</td>\n",
              "      <td>SIM</td>\n",
              "      <td>Fundamental incompleto</td>\n",
              "      <td>Parda</td>\n",
              "      <td>Ate R$89.00</td>\n",
              "      <td>0.0</td>\n",
              "      <td>ENDERECO FORA AREA CRAS</td>\n",
              "      <td>CENTRO SUL</td>\n",
              "      <td>ate 12 Meses</td>\n",
              "      <td>2021-01-09</td>\n",
              "      <td>SIM</td>\n",
              "      <td></td>\n",
              "    </tr>\n",
              "    <tr>\n",
              "      <th>8658</th>\n",
              "      <td>Entre dois e cinco anos</td>\n",
              "      <td>Nunca</td>\n",
              "      <td>11/05/1970</td>\n",
              "      <td>52</td>\n",
              "      <td>MASCULINO</td>\n",
              "      <td>NAO</td>\n",
              "      <td>SIM</td>\n",
              "      <td>Medio completo</td>\n",
              "      <td>Parda</td>\n",
              "      <td>Ate R$89.00</td>\n",
              "      <td>0.0</td>\n",
              "      <td>ENDERECO FORA AREA CRAS</td>\n",
              "      <td>BARREIRO</td>\n",
              "      <td>ate 12 Meses</td>\n",
              "      <td>2021-01-09</td>\n",
              "      <td>SIM</td>\n",
              "      <td></td>\n",
              "    </tr>\n",
              "  </tbody>\n",
              "</table>\n",
              "<p>124370 rows × 17 columns</p>\n",
              "</div>"
            ],
            "text/plain": [
              "            TEMPO_VIVE_NA_RUA CONTATO_PARENTE_FORA_RUAS DATA_NASCIMENTO  \\\n",
              "0              Ate seis meses                     Nunca      09/05/2002   \n",
              "1              Ate seis meses               Quase nunca      04/06/1986   \n",
              "2              Ate seis meses               Quase nunca      02/07/1967   \n",
              "3              Ate seis meses                  Todo mes      01/03/1992   \n",
              "4            Mais de dez anos                  Todo dia      03/04/1958   \n",
              "...                       ...                       ...             ...   \n",
              "8654           Ate seis meses               Quase nunca      28/08/1961   \n",
              "8655     Entre um e dois anos                  Todo mes      08/08/1981   \n",
              "8656           Ate seis meses               Quase nunca      24/09/1973   \n",
              "8657   Entre cinco e dez anos               Quase nunca      23/11/1961   \n",
              "8658  Entre dois e cinco anos                     Nunca      11/05/1970   \n",
              "\n",
              "      IDADE       SEXO AUXILIO_BRASIL POP_RUA          GRAU_INSTRUCAO  \\\n",
              "0        20  MASCULINO            NAO     SIM    Fundamental completo   \n",
              "1        36  MASCULINO            NAO     SIM        Medio incompleto   \n",
              "2        55   FEMININO            NAO     SIM        Medio incompleto   \n",
              "3        30   FEMININO            NAO     SIM           Sem instrucao   \n",
              "4        64   FEMININO            NAO     SIM  Fundamental incompleto   \n",
              "...     ...        ...            ...     ...                     ...   \n",
              "8654     61  MASCULINO            NAO     SIM           Sem instrucao   \n",
              "8655     41  MASCULINO            NAO     SIM  Fundamental incompleto   \n",
              "8656     49  MASCULINO            NAO     SIM  Fundamental incompleto   \n",
              "8657     61  MASCULINO            NAO     SIM  Fundamental incompleto   \n",
              "8658     52  MASCULINO            NAO     SIM          Medio completo   \n",
              "\n",
              "           COR_RACA     Faixa da renda familiar per capita  \\\n",
              "0             Parda  Entre R$210.01 ate 0.5 Salario Minimo   \n",
              "1             Parda            Acima de 0.5 Salario Minimo   \n",
              "2             Preta  Entre R$210.01 ate 0.5 Salario Minimo   \n",
              "3             Preta  Entre R$210.01 ate 0.5 Salario Minimo   \n",
              "4             Parda            Acima de 0.5 Salario Minimo   \n",
              "...             ...                                    ...   \n",
              "8654          Parda                            Ate R$89.00   \n",
              "8655          Parda                            Ate R$89.00   \n",
              "8656  Nao Informado                            Ate R$89.00   \n",
              "8657          Parda                            Ate R$89.00   \n",
              "8658          Parda                            Ate R$89.00   \n",
              "\n",
              "      VAL_REMUNERACAO_MES_PASSADO                     CRAS    REGIONAL  \\\n",
              "0                             0.0          CRAS VILA CEMIG    BARREIRO   \n",
              "1                             0.0       TPSA Sao Gabriel I    NORDESTE   \n",
              "2                           500.0              TPSA Centro  CENTRO SUL   \n",
              "3                             0.0         CRAS VILA ANTENA       OESTE   \n",
              "4                             0.0              TPSA Centro  CENTRO SUL   \n",
              "...                           ...                      ...         ...   \n",
              "8654                          0.0  ENDERECO FORA AREA CRAS  CENTRO SUL   \n",
              "8655                          0.0  ENDERECO FORA AREA CRAS       LESTE   \n",
              "8656                          0.0  ENDERECO FORA AREA CRAS  VENDA NOVA   \n",
              "8657                          0.0  ENDERECO FORA AREA CRAS  CENTRO SUL   \n",
              "8658                          0.0  ENDERECO FORA AREA CRAS    BARREIRO   \n",
              "\n",
              "     FAIXA_DESATUALICACAO_CADASTRAL MES_ANO_REFERENCIA BOLSA_FAMILIA  \\\n",
              "0                      ate 12 Meses         2022-01-05           NAO   \n",
              "1                      ate 12 Meses         2022-01-05           NAO   \n",
              "2                      ate 12 Meses         2022-01-05           NAO   \n",
              "3                      ate 12 Meses         2022-01-05           NAO   \n",
              "4                      ate 12 Meses         2022-01-05           NAO   \n",
              "...                             ...                ...           ...   \n",
              "8654                   ate 12 Meses         2021-01-09           SIM   \n",
              "8655                   ate 12 Meses         2021-01-09           SIM   \n",
              "8656                   ate 12 Meses         2021-01-09           SIM   \n",
              "8657                   ate 12 Meses         2021-01-09           SIM   \n",
              "8658                   ate 12 Meses         2021-01-09           SIM   \n",
              "\n",
              "     faixa_idade  \n",
              "0                 \n",
              "1                 \n",
              "2                 \n",
              "3                 \n",
              "4                 \n",
              "...          ...  \n",
              "8654              \n",
              "8655              \n",
              "8656              \n",
              "8657              \n",
              "8658              \n",
              "\n",
              "[124370 rows x 17 columns]"
            ]
          },
          "execution_count": 79,
          "metadata": {},
          "output_type": "execute_result"
        }
      ],
      "source": [
        "df=umano\n",
        "df"
      ]
    },
    {
      "cell_type": "markdown",
      "metadata": {
        "id": "Qsjf2akbOI-9"
      },
      "source": [
        "# Tratamento dos dados"
      ]
    },
    {
      "cell_type": "markdown",
      "metadata": {
        "id": "O5rpbAZaPGu9"
      },
      "source": [
        "**Verificar campos vazios/nulos:**\n"
      ]
    },
    {
      "cell_type": "code",
      "execution_count": 40,
      "metadata": {
        "colab": {
          "base_uri": "https://localhost:8080/"
        },
        "id": "5GdbXZDmUDir",
        "outputId": "e434fbed-20a1-48ac-9fd8-445be3f57430"
      },
      "outputs": [
        {
          "data": {
            "text/plain": [
              "TEMPO_VIVE_NA_RUA                         0\n",
              "CONTATO_PARENTE_FORA_RUAS                 0\n",
              "DATA_NASCIMENTO                           0\n",
              "IDADE                                     0\n",
              "SEXO                                      0\n",
              "AUXILIO_BRASIL                        44131\n",
              "POP_RUA                                   0\n",
              "GRAU_INSTRUCAO                            0\n",
              "COR_RACA                                  0\n",
              "Faixa da renda familiar per capita        0\n",
              "VAL_REMUNERACAO_MES_PASSADO             468\n",
              "CRAS                                      0\n",
              "REGIONAL                                  0\n",
              "FAIXA_DESATUALICACAO_CADASTRAL            0\n",
              "MES_ANO_REFERENCIA                        0\n",
              "BOLSA_FAMILIA                         80239\n",
              "dtype: int64"
            ]
          },
          "execution_count": 40,
          "metadata": {},
          "output_type": "execute_result"
        }
      ],
      "source": [
        "df.isnull().sum()"
      ]
    },
    {
      "cell_type": "markdown",
      "metadata": {
        "id": "rWcVK6ACPT1w"
      },
      "source": [
        "* É possível observar que apesar de todos os campos de data de nascimento estarem devidamente preenchidos, alguns dos campos de idade não estão."
      ]
    },
    {
      "cell_type": "markdown",
      "metadata": {
        "id": "yPI8ej13QE9M"
      },
      "source": [
        "**Verificar os tipos dos dados:**"
      ]
    },
    {
      "cell_type": "code",
      "execution_count": 41,
      "metadata": {
        "colab": {
          "base_uri": "https://localhost:8080/"
        },
        "id": "TFx5Mcr_Y1rW",
        "outputId": "73c92fd2-7de0-4c07-bd7b-1639721cec9a"
      },
      "outputs": [
        {
          "data": {
            "text/plain": [
              "TEMPO_VIVE_NA_RUA                             object\n",
              "CONTATO_PARENTE_FORA_RUAS                     object\n",
              "DATA_NASCIMENTO                               object\n",
              "IDADE                                          int64\n",
              "SEXO                                          object\n",
              "AUXILIO_BRASIL                                object\n",
              "POP_RUA                                       object\n",
              "GRAU_INSTRUCAO                                object\n",
              "COR_RACA                                      object\n",
              "Faixa da renda familiar per capita            object\n",
              "VAL_REMUNERACAO_MES_PASSADO                  float64\n",
              "CRAS                                          object\n",
              "REGIONAL                                      object\n",
              "FAIXA_DESATUALICACAO_CADASTRAL                object\n",
              "MES_ANO_REFERENCIA                    datetime64[ns]\n",
              "BOLSA_FAMILIA                                 object\n",
              "dtype: object"
            ]
          },
          "execution_count": 41,
          "metadata": {},
          "output_type": "execute_result"
        }
      ],
      "source": [
        "df.dtypes"
      ]
    },
    {
      "cell_type": "markdown",
      "metadata": {
        "id": "BNMqOXrQQVeI"
      },
      "source": [
        "* Alguns detalhes importantes: A data_nascimento não está no formato date e os campos idade e val_remuneracao_mes_passado estão no formato float.\n",
        "\n",
        "* Um dicionário com os tipos de cada atributo é fornecido juntamente ao banco de dados, contudo ele mostrou-se não confiável."
      ]
    },
    {
      "cell_type": "markdown",
      "metadata": {
        "id": "R6y4somCgwux"
      },
      "source": [
        "## Utilizando a data de nascimento para cálculo da idade:"
      ]
    },
    {
      "cell_type": "markdown",
      "metadata": {
        "id": "H1UUCH6HU-0I"
      },
      "source": [
        "* Convertendo MES_ANO_REFERENCIA de objetct para datetime\n"
      ]
    },
    {
      "cell_type": "code",
      "execution_count": 80,
      "metadata": {
        "colab": {
          "base_uri": "https://localhost:8080/"
        },
        "id": "FXVHGxvsVJdp",
        "outputId": "0c7816aa-b657-443f-9d97-5b494e4418e8"
      },
      "outputs": [],
      "source": [
        "df['MES_ANO_REFERENCIA'] = pd.to_datetime(df['MES_ANO_REFERENCIA'])\n"
      ]
    },
    {
      "cell_type": "code",
      "execution_count": 81,
      "metadata": {},
      "outputs": [],
      "source": [
        "df['BOLSA_FAMILIA']= df['BOLSA_FAMILIA'].fillna('NAO')\n",
        "df['AUXILIO_BRASIL'] = df['AUXILIO_BRASIL'].fillna('NAO')\n",
        "df['TEMPO_VIVE_NA_RUA'] = df['TEMPO_VIVE_NA_RUA'].fillna('NA')"
      ]
    },
    {
      "cell_type": "code",
      "execution_count": 82,
      "metadata": {
        "id": "WYTreu8qfqC0"
      },
      "outputs": [],
      "source": [
        "df = df.drop(columns = ['VAL_REMUNERACAO_MES_PASSADO'])"
      ]
    },
    {
      "cell_type": "markdown",
      "metadata": {},
      "source": [
        "## Visualização - gráficos"
      ]
    },
    {
      "cell_type": "code",
      "execution_count": 34,
      "metadata": {},
      "outputs": [
        {
          "data": {
            "image/png": "[encoded data removed]",
            "text/plain": [
              "<Figure size 432x288 with 1 Axes>"
            ]
          },
          "metadata": {
            "needs_background": "light"
          },
          "output_type": "display_data"
        }
      ],
      "source": [
        "anos = ['2020','2021','2022']\n",
        "contagem_anos = [len(data_2020),len(data_2021),len(data_2022)]\n",
        "\n",
        "\n",
        "data_plot = pd.DataFrame({\"Anos\":anos, \"Quantidade moradores\":contagem_anos})\n",
        "\n",
        "ax = sns.barplot(x = \"Anos\", y = \"Quantidade moradores\", data=data_plot, palette=\"Set2\")\n",
        "for bars in ax.containers:\n",
        "    ax.bar_label(bars)\n",
        "plt.show()\n"
      ]
    },
    {
      "cell_type": "code",
      "execution_count": 83,
      "metadata": {},
      "outputs": [
        {
          "data": {
            "image/png": "[encoded data removed]",
            "text/plain": [
              "<Figure size 432x288 with 1 Axes>"
            ]
          },
          "metadata": {
            "needs_background": "light"
          },
          "output_type": "display_data"
        }
      ],
      "source": [
        "ax =sns.countplot(x='SEXO', data=data_2020,palette=\"Set2\")\n",
        "for bars in ax.containers:\n",
        "    ax.bar_label(bars)\n",
        "plt.show()"
      ]
    },
    {
      "cell_type": "code",
      "execution_count": 84,
      "metadata": {},
      "outputs": [
        {
          "data": {
            "image/png": "[encoded data removed]",
            "text/plain": [
              "<Figure size 432x288 with 1 Axes>"
            ]
          },
          "metadata": {
            "needs_background": "light"
          },
          "output_type": "display_data"
        }
      ],
      "source": [
        "ax =sns.countplot(x='SEXO', data=data_2021,palette=\"Set2\")\n",
        "for bars in ax.containers:\n",
        "    ax.bar_label(bars)\n",
        "plt.show()"
      ]
    },
    {
      "cell_type": "code",
      "execution_count": 61,
      "metadata": {},
      "outputs": [
        {
          "data": {
            "image/png": "[encoded data removed]",
            "text/plain": [
              "<Figure size 432x288 with 1 Axes>"
            ]
          },
          "metadata": {
            "needs_background": "light"
          },
          "output_type": "display_data"
        }
      ],
      "source": [
        "ax =sns.countplot(x='SEXO', data=data_2022,palette=\"Set2\")\n",
        "for bars in ax.containers:\n",
        "    ax.bar_label(bars)\n",
        "plt.show()"
      ]
    },
    {
      "cell_type": "markdown",
      "metadata": {
        "id": "x5jUaNMpTRuE"
      },
      "source": [
        "# Tratamento dos dados - Previsão"
      ]
    },
    {
      "cell_type": "code",
      "execution_count": 100,
      "metadata": {},
      "outputs": [],
      "source": [
        "umano['faixa_idade']= \"\""
      ]
    },
    {
      "cell_type": "code",
      "execution_count": 101,
      "metadata": {},
      "outputs": [
        {
          "data": {
            "text/plain": [
              "0       20\n",
              "1       36\n",
              "2       55\n",
              "3       30\n",
              "4       64\n",
              "        ..\n",
              "8654    61\n",
              "8655    41\n",
              "8656    49\n",
              "8657    61\n",
              "8658    52\n",
              "Name: IDADE, Length: 124370, dtype: int64"
            ]
          },
          "execution_count": 101,
          "metadata": {},
          "output_type": "execute_result"
        }
      ],
      "source": [
        "umano['IDADE']"
      ]
    },
    {
      "cell_type": "code",
      "execution_count": 102,
      "metadata": {},
      "outputs": [
        {
          "ename": "ValueError",
          "evalue": "The truth value of a Series is ambiguous. Use a.empty, a.bool(), a.item(), a.any() or a.all().",
          "output_type": "error",
          "traceback": [
            "\u001b[0;31m---------------------------------------------------------------------------\u001b[0m",
            "\u001b[0;31mValueError\u001b[0m                                Traceback (most recent call last)",
            "\u001b[1;32m/Users/isa/Library/Mobile Documents/com~apple~CloudDocs/ciencia-da-computacao-ufv/pop_rua_bh/trabalho_pop_rua_2022.ipynb Cell 33\u001b[0m in \u001b[0;36m<cell line: 1>\u001b[0;34m()\u001b[0m\n\u001b[1;32m      <a href='vscode-notebook-cell:/Users/isa/Library/Mobile%20Documents/com~apple~CloudDocs/ciencia-da-computacao-ufv/pop_rua_bh/trabalho_pop_rua_2022.ipynb#Y161sZmlsZQ%3D%3D?line=0'>1</a>\u001b[0m \u001b[39mfor\u001b[39;00m row \u001b[39min\u001b[39;00m \u001b[39mrange\u001b[39m(\u001b[39mlen\u001b[39m(umano)):\n\u001b[0;32m----> <a href='vscode-notebook-cell:/Users/isa/Library/Mobile%20Documents/com~apple~CloudDocs/ciencia-da-computacao-ufv/pop_rua_bh/trabalho_pop_rua_2022.ipynb#Y161sZmlsZQ%3D%3D?line=1'>2</a>\u001b[0m     \u001b[39mif\u001b[39;00m umano[\u001b[39m\"\u001b[39m\u001b[39mIDADE\u001b[39m\u001b[39m\"\u001b[39m][row] \u001b[39m<\u001b[39m \u001b[39m18\u001b[39m:\n\u001b[1;32m      <a href='vscode-notebook-cell:/Users/isa/Library/Mobile%20Documents/com~apple~CloudDocs/ciencia-da-computacao-ufv/pop_rua_bh/trabalho_pop_rua_2022.ipynb#Y161sZmlsZQ%3D%3D?line=2'>3</a>\u001b[0m         umano[\u001b[39m'\u001b[39m\u001b[39mfaixa_idade\u001b[39m\u001b[39m'\u001b[39m][row] \u001b[39m=\u001b[39m \u001b[39m\"\u001b[39m\u001b[39mMenos de 18 anos\u001b[39m\u001b[39m\"\u001b[39m\n\u001b[1;32m      <a href='vscode-notebook-cell:/Users/isa/Library/Mobile%20Documents/com~apple~CloudDocs/ciencia-da-computacao-ufv/pop_rua_bh/trabalho_pop_rua_2022.ipynb#Y161sZmlsZQ%3D%3D?line=3'>4</a>\u001b[0m     \u001b[39melif\u001b[39;00m \u001b[39m18\u001b[39m \u001b[39m<\u001b[39m\u001b[39m=\u001b[39m umano[\u001b[39m\"\u001b[39m\u001b[39mIDADE\u001b[39m\u001b[39m\"\u001b[39m][row] \u001b[39mand\u001b[39;00m umano[\u001b[39m\"\u001b[39m\u001b[39mIDADE\u001b[39m\u001b[39m\"\u001b[39m][row] \u001b[39m<\u001b[39m \u001b[39m35\u001b[39m:\n",
            "File \u001b[0;32m~/Library/Python/3.9/lib/python/site-packages/pandas/core/generic.py:1527\u001b[0m, in \u001b[0;36mNDFrame.__nonzero__\u001b[0;34m(self)\u001b[0m\n\u001b[1;32m   1525\u001b[0m \u001b[39m@final\u001b[39m\n\u001b[1;32m   1526\u001b[0m \u001b[39mdef\u001b[39;00m \u001b[39m__nonzero__\u001b[39m(\u001b[39mself\u001b[39m) \u001b[39m-\u001b[39m\u001b[39m>\u001b[39m NoReturn:\n\u001b[0;32m-> 1527\u001b[0m     \u001b[39mraise\u001b[39;00m \u001b[39mValueError\u001b[39;00m(\n\u001b[1;32m   1528\u001b[0m         \u001b[39mf\u001b[39m\u001b[39m\"\u001b[39m\u001b[39mThe truth value of a \u001b[39m\u001b[39m{\u001b[39;00m\u001b[39mtype\u001b[39m(\u001b[39mself\u001b[39m)\u001b[39m.\u001b[39m\u001b[39m__name__\u001b[39m\u001b[39m}\u001b[39;00m\u001b[39m is ambiguous. \u001b[39m\u001b[39m\"\u001b[39m\n\u001b[1;32m   1529\u001b[0m         \u001b[39m\"\u001b[39m\u001b[39mUse a.empty, a.bool(), a.item(), a.any() or a.all().\u001b[39m\u001b[39m\"\u001b[39m\n\u001b[1;32m   1530\u001b[0m     )\n",
            "\u001b[0;31mValueError\u001b[0m: The truth value of a Series is ambiguous. Use a.empty, a.bool(), a.item(), a.any() or a.all()."
          ]
        }
      ],
      "source": [
        "for row in range(len(umano)):\n",
        "    if umano[\"IDADE\"][row] < 18:\n",
        "        umano['faixa_idade'][row] = \"Menos de 18 anos\"\n",
        "    elif 18 <= umano[\"IDADE\"][row] and umano[\"IDADE\"][row] < 35:\n",
        "        umano['faixa_idade'][row] = \"Entre 18 e 35 anos\"\n",
        "    elif 35 <= umano[\"IDADE\"][row] and umano[\"IDADE\"][row] <55:\n",
        "        umano[\"faixa_idade\"][row] = \"Entre 35 e 55 anos\"\n",
        "    elif 55 <= umano[\"IDADE\"][row] and umano[\"IDADE\"][row] <75:\n",
        "        umano[\"faixa_idade\"][row] = \"Entre 55 e 75 anos\"\n",
        "    else:\n",
        "        umano[\"faixa_idade\"][row] = \"75 ou mais anos\"\n"
      ]
    },
    {
      "cell_type": "code",
      "execution_count": 86,
      "metadata": {
        "colab": {
          "base_uri": "https://localhost:8080/"
        },
        "id": "hVmKgOU3TVC6",
        "outputId": "4ff4299c-2fbb-4a07-8ead-77865598316d"
      },
      "outputs": [
        {
          "data": {
            "text/html": [
              "<div>\n",
              "<style scoped>\n",
              "    .dataframe tbody tr th:only-of-type {\n",
              "        vertical-align: middle;\n",
              "    }\n",
              "\n",
              "    .dataframe tbody tr th {\n",
              "        vertical-align: top;\n",
              "    }\n",
              "\n",
              "    .dataframe thead th {\n",
              "        text-align: right;\n",
              "    }\n",
              "</style>\n",
              "<table border=\"1\" class=\"dataframe\">\n",
              "  <thead>\n",
              "    <tr style=\"text-align: right;\">\n",
              "      <th></th>\n",
              "      <th>ï»¿TEMPO_VIVE_NA_RUA</th>\n",
              "      <th>CONTATO_PARENTE_FORA_RUAS</th>\n",
              "      <th>DATA_NASCIMENTO</th>\n",
              "      <th>IDADE</th>\n",
              "      <th>SEXO</th>\n",
              "      <th>BOLSA_FAMILIA</th>\n",
              "      <th>POP_RUA</th>\n",
              "      <th>GRAU_INSTRUCAO</th>\n",
              "      <th>COR_RACA</th>\n",
              "      <th>Faixa da renda familiar per capita</th>\n",
              "      <th>CRAS</th>\n",
              "      <th>REGIONAL</th>\n",
              "      <th>FAIXA_DESATUALICACAO_CADASTRAL</th>\n",
              "      <th>MES_ANO_REFERENCIA</th>\n",
              "      <th>TEMPO_VIVE_NA_RUA</th>\n",
              "      <th>AUXILIO_BRASIL</th>\n",
              "    </tr>\n",
              "  </thead>\n",
              "  <tbody>\n",
              "    <tr>\n",
              "      <th>0</th>\n",
              "      <td>Ate seis meses</td>\n",
              "      <td>Quase nunca</td>\n",
              "      <td>05/03/1992</td>\n",
              "      <td>30</td>\n",
              "      <td>MASCULINO</td>\n",
              "      <td>NAO</td>\n",
              "      <td>SIM</td>\n",
              "      <td>Medio incompleto</td>\n",
              "      <td>Preta</td>\n",
              "      <td>Ate R$89.00</td>\n",
              "      <td>CRAS VILA SAO JOSE</td>\n",
              "      <td>PAMPULHA</td>\n",
              "      <td>ate 12 Meses</td>\n",
              "      <td>2020-01-12</td>\n",
              "      <td>NaN</td>\n",
              "      <td>NAO</td>\n",
              "    </tr>\n",
              "    <tr>\n",
              "      <th>1</th>\n",
              "      <td>Ate seis meses</td>\n",
              "      <td>Quase nunca</td>\n",
              "      <td>04/06/1986</td>\n",
              "      <td>36</td>\n",
              "      <td>MASCULINO</td>\n",
              "      <td>NAO</td>\n",
              "      <td>SIM</td>\n",
              "      <td>Medio incompleto</td>\n",
              "      <td>Parda</td>\n",
              "      <td>Acima de 0.5 Salario Minimo</td>\n",
              "      <td>ENDERECO FORA AREA CRAS</td>\n",
              "      <td>NORDESTE</td>\n",
              "      <td>ate 12 Meses</td>\n",
              "      <td>2020-01-12</td>\n",
              "      <td>NaN</td>\n",
              "      <td>NAO</td>\n",
              "    </tr>\n",
              "    <tr>\n",
              "      <th>2</th>\n",
              "      <td>Ate seis meses</td>\n",
              "      <td>Todo dia</td>\n",
              "      <td>03/04/1958</td>\n",
              "      <td>64</td>\n",
              "      <td>FEMININO</td>\n",
              "      <td>NAO</td>\n",
              "      <td>SIM</td>\n",
              "      <td>Fundamental incompleto</td>\n",
              "      <td>Parda</td>\n",
              "      <td>Acima de 0.5 Salario Minimo</td>\n",
              "      <td>ENDERECO FORA AREA CRAS</td>\n",
              "      <td>CENTRO SUL</td>\n",
              "      <td>13 a 18 Meses</td>\n",
              "      <td>2020-01-12</td>\n",
              "      <td>NaN</td>\n",
              "      <td>NAO</td>\n",
              "    </tr>\n",
              "    <tr>\n",
              "      <th>3</th>\n",
              "      <td>Entre seis meses e um ano</td>\n",
              "      <td>Toda semana</td>\n",
              "      <td>15/09/1975</td>\n",
              "      <td>47</td>\n",
              "      <td>FEMININO</td>\n",
              "      <td>NAO</td>\n",
              "      <td>SIM</td>\n",
              "      <td>Fundamental completo</td>\n",
              "      <td>Preta</td>\n",
              "      <td>Entre R$178.01 ate 0.5 Salario Minimo</td>\n",
              "      <td>CRAS HAVAI VENTOSA</td>\n",
              "      <td>OESTE</td>\n",
              "      <td>13 a 18 Meses</td>\n",
              "      <td>2020-01-12</td>\n",
              "      <td>NaN</td>\n",
              "      <td>NAO</td>\n",
              "    </tr>\n",
              "    <tr>\n",
              "      <th>4</th>\n",
              "      <td>Ate seis meses</td>\n",
              "      <td>Toda semana</td>\n",
              "      <td>02/11/1996</td>\n",
              "      <td>26</td>\n",
              "      <td>MASCULINO</td>\n",
              "      <td>NAO</td>\n",
              "      <td>SIM</td>\n",
              "      <td>Medio completo</td>\n",
              "      <td>Parda</td>\n",
              "      <td>Acima de 0.5 Salario Minimo</td>\n",
              "      <td>CRAS VILA MARIA</td>\n",
              "      <td>NORDESTE</td>\n",
              "      <td>19 a 24 Meses</td>\n",
              "      <td>2020-01-12</td>\n",
              "      <td>NaN</td>\n",
              "      <td>NAO</td>\n",
              "    </tr>\n",
              "  </tbody>\n",
              "</table>\n",
              "</div>"
            ],
            "text/plain": [
              "        ï»¿TEMPO_VIVE_NA_RUA CONTATO_PARENTE_FORA_RUAS DATA_NASCIMENTO  IDADE  \\\n",
              "0             Ate seis meses               Quase nunca      05/03/1992     30   \n",
              "1             Ate seis meses               Quase nunca      04/06/1986     36   \n",
              "2             Ate seis meses                  Todo dia      03/04/1958     64   \n",
              "3  Entre seis meses e um ano               Toda semana      15/09/1975     47   \n",
              "4             Ate seis meses               Toda semana      02/11/1996     26   \n",
              "\n",
              "        SEXO BOLSA_FAMILIA POP_RUA          GRAU_INSTRUCAO COR_RACA  \\\n",
              "0  MASCULINO           NAO     SIM        Medio incompleto    Preta   \n",
              "1  MASCULINO           NAO     SIM        Medio incompleto    Parda   \n",
              "2   FEMININO           NAO     SIM  Fundamental incompleto    Parda   \n",
              "3   FEMININO           NAO     SIM    Fundamental completo    Preta   \n",
              "4  MASCULINO           NAO     SIM          Medio completo    Parda   \n",
              "\n",
              "      Faixa da renda familiar per capita                     CRAS    REGIONAL  \\\n",
              "0                            Ate R$89.00       CRAS VILA SAO JOSE    PAMPULHA   \n",
              "1            Acima de 0.5 Salario Minimo  ENDERECO FORA AREA CRAS    NORDESTE   \n",
              "2            Acima de 0.5 Salario Minimo  ENDERECO FORA AREA CRAS  CENTRO SUL   \n",
              "3  Entre R$178.01 ate 0.5 Salario Minimo       CRAS HAVAI VENTOSA       OESTE   \n",
              "4            Acima de 0.5 Salario Minimo          CRAS VILA MARIA    NORDESTE   \n",
              "\n",
              "  FAIXA_DESATUALICACAO_CADASTRAL MES_ANO_REFERENCIA TEMPO_VIVE_NA_RUA  \\\n",
              "0                   ate 12 Meses         2020-01-12               NaN   \n",
              "1                   ate 12 Meses         2020-01-12               NaN   \n",
              "2                  13 a 18 Meses         2020-01-12               NaN   \n",
              "3                  13 a 18 Meses         2020-01-12               NaN   \n",
              "4                  19 a 24 Meses         2020-01-12               NaN   \n",
              "\n",
              "  AUXILIO_BRASIL  \n",
              "0            NAO  \n",
              "1            NAO  \n",
              "2            NAO  \n",
              "3            NAO  \n",
              "4            NAO  "
            ]
          },
          "execution_count": 86,
          "metadata": {},
          "output_type": "execute_result"
        }
      ],
      "source": [
        "df.head()"
      ]
    },
    {
      "cell_type": "code",
      "execution_count": 45,
      "metadata": {
        "colab": {
          "base_uri": "https://localhost:8080/"
        },
        "id": "kkdJJSSBUO4J",
        "outputId": "b4cad874-66b7-46af-9658-de53624a686a"
      },
      "outputs": [
        {
          "data": {
            "text/plain": [
              "Index(['TEMPO_VIVE_NA_RUA', 'CONTATO_PARENTE_FORA_RUAS', 'DATA_NASCIMENTO',\n",
              "       'IDADE', 'SEXO', 'AUXILIO_BRASIL', 'POP_RUA', 'GRAU_INSTRUCAO',\n",
              "       'COR_RACA', 'Faixa da renda familiar per capita', 'CRAS', 'REGIONAL',\n",
              "       'FAIXA_DESATUALICACAO_CADASTRAL', 'MES_ANO_REFERENCIA',\n",
              "       'BOLSA_FAMILIA'],\n",
              "      dtype='object')"
            ]
          },
          "execution_count": 45,
          "metadata": {},
          "output_type": "execute_result"
        }
      ],
      "source": [
        "df.keys()"
      ]
    },
    {
      "cell_type": "markdown",
      "metadata": {
        "id": "lSwaJ4z8jDhU"
      },
      "source": [
        "##Convertendo tempo que vive na rua"
      ]
    },
    {
      "cell_type": "code",
      "execution_count": 65,
      "metadata": {},
      "outputs": [
        {
          "data": {
            "text/plain": [
              "count    124370.000000\n",
              "mean         43.363223\n",
              "std          11.758397\n",
              "min           0.000000\n",
              "25%          35.000000\n",
              "50%          43.000000\n",
              "75%          52.000000\n",
              "max          90.000000\n",
              "Name: IDADE, dtype: float64"
            ]
          },
          "execution_count": 65,
          "metadata": {},
          "output_type": "execute_result"
        }
      ],
      "source": [
        "df['IDADE'].describe()"
      ]
    },
    {
      "cell_type": "code",
      "execution_count": 55,
      "metadata": {
        "colab": {
          "base_uri": "https://localhost:8080/"
        },
        "id": "jiYLhCfVUfNA",
        "outputId": "8420d7c9-06aa-4de9-a797-1a9164ca1d3d"
      },
      "outputs": [
        {
          "data": {
            "text/plain": [
              "Ate seis meses               35573\n",
              "Entre dois e cinco anos      24124\n",
              "Mais de dez anos             18030\n",
              "Entre cinco e dez anos       16589\n",
              "Entre seis meses e um ano    15837\n",
              "Entre um e dois anos         14217\n",
              "Name: TEMPO_VIVE_NA_RUA, dtype: int64"
            ]
          },
          "execution_count": 55,
          "metadata": {},
          "output_type": "execute_result"
        }
      ],
      "source": [
        "df['TEMPO_VIVE_NA_RUA'].value_counts()"
      ]
    },
    {
      "cell_type": "code",
      "execution_count": 53,
      "metadata": {},
      "outputs": [
        {
          "data": {
            "image/png": "[encoded data removed]",
            "text/plain": [
              "<Figure size 1080x576 with 1 Axes>"
            ]
          },
          "metadata": {
            "needs_background": "light"
          },
          "output_type": "display_data"
        }
      ],
      "source": [
        "plt.figure(figsize=(15,8))\n",
        "ax =sns.countplot(x='TEMPO_VIVE_NA_RUA', data=umano,palette=\"Set2\")\n",
        "for bars in ax.containers:\n",
        "    ax.bar_label(bars)\n",
        "plt.show()"
      ]
    },
    {
      "cell_type": "code",
      "execution_count": 56,
      "metadata": {
        "colab": {
          "base_uri": "https://localhost:8080/"
        },
        "id": "LToPK4qjjR9z",
        "outputId": "579528ea-6ac4-44a3-b166-b77e894d9df0"
      },
      "outputs": [
        {
          "data": {
            "text/plain": [
              "Nunca          54259\n",
              "Quase nunca    28616\n",
              "Todo mes       17873\n",
              "Toda semana    12223\n",
              "Todo ano        6330\n",
              "Todo dia        5069\n",
              "Name: CONTATO_PARENTE_FORA_RUAS, dtype: int64"
            ]
          },
          "execution_count": 56,
          "metadata": {},
          "output_type": "execute_result"
        }
      ],
      "source": [
        "#tempo que vive na rua\n",
        "df['CONTATO_PARENTE_FORA_RUAS'].value_counts()"
      ]
    },
    {
      "cell_type": "code",
      "execution_count": 57,
      "metadata": {
        "colab": {
          "base_uri": "https://localhost:8080/"
        },
        "id": "C-bLJ5hgnECg",
        "outputId": "5dae4d7e-cadd-4caf-adac-37fa4fc4dda9"
      },
      "outputs": [
        {
          "data": {
            "text/plain": [
              "MASCULINO    111251\n",
              "FEMININO      13119\n",
              "Name: SEXO, dtype: int64"
            ]
          },
          "execution_count": 57,
          "metadata": {},
          "output_type": "execute_result"
        }
      ],
      "source": [
        "#sexo\n",
        "df['SEXO'].value_counts()"
      ]
    },
    {
      "cell_type": "code",
      "execution_count": 58,
      "metadata": {
        "colab": {
          "base_uri": "https://localhost:8080/"
        },
        "id": "B9UpWS9spZmB",
        "outputId": "dd8271eb-5c42-46ef-9972-830165714d48"
      },
      "outputs": [
        {
          "data": {
            "text/plain": [
              "Fundamental incompleto         63586\n",
              "Medio completo                 18864\n",
              "Fundamental completo           18244\n",
              "Medio incompleto               12727\n",
              "Sem instrucao                   9384\n",
              "Superior incompleto ou mais     1431\n",
              "Nao Informado                    134\n",
              "Name: GRAU_INSTRUCAO, dtype: int64"
            ]
          },
          "execution_count": 58,
          "metadata": {},
          "output_type": "execute_result"
        }
      ],
      "source": [
        "#GRAU DE INSTRUÇÃO\n",
        "df['GRAU_INSTRUCAO'].value_counts()"
      ]
    },
    {
      "cell_type": "code",
      "execution_count": 91,
      "metadata": {
        "colab": {
          "base_uri": "https://localhost:8080/"
        },
        "id": "tYZEEmttUxRH",
        "outputId": "abde5ee8-37ce-454c-f5e6-62afe68d4f81"
      },
      "outputs": [
        {
          "data": {
            "text/html": [
              "<div>\n",
              "<style scoped>\n",
              "    .dataframe tbody tr th:only-of-type {\n",
              "        vertical-align: middle;\n",
              "    }\n",
              "\n",
              "    .dataframe tbody tr th {\n",
              "        vertical-align: top;\n",
              "    }\n",
              "\n",
              "    .dataframe thead th {\n",
              "        text-align: right;\n",
              "    }\n",
              "</style>\n",
              "<table border=\"1\" class=\"dataframe\">\n",
              "  <thead>\n",
              "    <tr style=\"text-align: right;\">\n",
              "      <th></th>\n",
              "      <th>ï»¿TEMPO_VIVE_NA_RUA</th>\n",
              "      <th>CONTATO_PARENTE_FORA_RUAS</th>\n",
              "      <th>DATA_NASCIMENTO</th>\n",
              "      <th>IDADE</th>\n",
              "      <th>SEXO</th>\n",
              "      <th>BOLSA_FAMILIA</th>\n",
              "      <th>POP_RUA</th>\n",
              "      <th>GRAU_INSTRUCAO</th>\n",
              "      <th>COR_RACA</th>\n",
              "      <th>Faixa da renda familiar per capita</th>\n",
              "      <th>CRAS</th>\n",
              "      <th>REGIONAL</th>\n",
              "      <th>FAIXA_DESATUALICACAO_CADASTRAL</th>\n",
              "      <th>MES_ANO_REFERENCIA</th>\n",
              "      <th>TEMPO_VIVE_NA_RUA</th>\n",
              "      <th>AUXILIO_BRASIL</th>\n",
              "      <th>TEMPO_DE_RUA</th>\n",
              "    </tr>\n",
              "  </thead>\n",
              "  <tbody>\n",
              "    <tr>\n",
              "      <th>0</th>\n",
              "      <td>Ate seis meses</td>\n",
              "      <td>Quase nunca</td>\n",
              "      <td>05/03/1992</td>\n",
              "      <td>30</td>\n",
              "      <td>MASCULINO</td>\n",
              "      <td>NAO</td>\n",
              "      <td>SIM</td>\n",
              "      <td>Medio incompleto</td>\n",
              "      <td>Preta</td>\n",
              "      <td>Ate R$89.00</td>\n",
              "      <td>CRAS VILA SAO JOSE</td>\n",
              "      <td>PAMPULHA</td>\n",
              "      <td>ate 12 Meses</td>\n",
              "      <td>2020-01-12</td>\n",
              "      <td>NaN</td>\n",
              "      <td>NAO</td>\n",
              "      <td>NaN</td>\n",
              "    </tr>\n",
              "    <tr>\n",
              "      <th>1</th>\n",
              "      <td>Ate seis meses</td>\n",
              "      <td>Quase nunca</td>\n",
              "      <td>04/06/1986</td>\n",
              "      <td>36</td>\n",
              "      <td>MASCULINO</td>\n",
              "      <td>NAO</td>\n",
              "      <td>SIM</td>\n",
              "      <td>Medio incompleto</td>\n",
              "      <td>Parda</td>\n",
              "      <td>Acima de 0.5 Salario Minimo</td>\n",
              "      <td>ENDERECO FORA AREA CRAS</td>\n",
              "      <td>NORDESTE</td>\n",
              "      <td>ate 12 Meses</td>\n",
              "      <td>2020-01-12</td>\n",
              "      <td>NaN</td>\n",
              "      <td>NAO</td>\n",
              "      <td>NaN</td>\n",
              "    </tr>\n",
              "    <tr>\n",
              "      <th>2</th>\n",
              "      <td>Ate seis meses</td>\n",
              "      <td>Todo dia</td>\n",
              "      <td>03/04/1958</td>\n",
              "      <td>64</td>\n",
              "      <td>FEMININO</td>\n",
              "      <td>NAO</td>\n",
              "      <td>SIM</td>\n",
              "      <td>Fundamental incompleto</td>\n",
              "      <td>Parda</td>\n",
              "      <td>Acima de 0.5 Salario Minimo</td>\n",
              "      <td>ENDERECO FORA AREA CRAS</td>\n",
              "      <td>CENTRO SUL</td>\n",
              "      <td>13 a 18 Meses</td>\n",
              "      <td>2020-01-12</td>\n",
              "      <td>NaN</td>\n",
              "      <td>NAO</td>\n",
              "      <td>NaN</td>\n",
              "    </tr>\n",
              "    <tr>\n",
              "      <th>3</th>\n",
              "      <td>Entre seis meses e um ano</td>\n",
              "      <td>Toda semana</td>\n",
              "      <td>15/09/1975</td>\n",
              "      <td>47</td>\n",
              "      <td>FEMININO</td>\n",
              "      <td>NAO</td>\n",
              "      <td>SIM</td>\n",
              "      <td>Fundamental completo</td>\n",
              "      <td>Preta</td>\n",
              "      <td>Entre R$178.01 ate 0.5 Salario Minimo</td>\n",
              "      <td>CRAS HAVAI VENTOSA</td>\n",
              "      <td>OESTE</td>\n",
              "      <td>13 a 18 Meses</td>\n",
              "      <td>2020-01-12</td>\n",
              "      <td>NaN</td>\n",
              "      <td>NAO</td>\n",
              "      <td>NaN</td>\n",
              "    </tr>\n",
              "    <tr>\n",
              "      <th>4</th>\n",
              "      <td>Ate seis meses</td>\n",
              "      <td>Toda semana</td>\n",
              "      <td>02/11/1996</td>\n",
              "      <td>26</td>\n",
              "      <td>MASCULINO</td>\n",
              "      <td>NAO</td>\n",
              "      <td>SIM</td>\n",
              "      <td>Medio completo</td>\n",
              "      <td>Parda</td>\n",
              "      <td>Acima de 0.5 Salario Minimo</td>\n",
              "      <td>CRAS VILA MARIA</td>\n",
              "      <td>NORDESTE</td>\n",
              "      <td>19 a 24 Meses</td>\n",
              "      <td>2020-01-12</td>\n",
              "      <td>NaN</td>\n",
              "      <td>NAO</td>\n",
              "      <td>NaN</td>\n",
              "    </tr>\n",
              "  </tbody>\n",
              "</table>\n",
              "</div>"
            ],
            "text/plain": [
              "        ï»¿TEMPO_VIVE_NA_RUA CONTATO_PARENTE_FORA_RUAS DATA_NASCIMENTO  IDADE  \\\n",
              "0             Ate seis meses               Quase nunca      05/03/1992     30   \n",
              "1             Ate seis meses               Quase nunca      04/06/1986     36   \n",
              "2             Ate seis meses                  Todo dia      03/04/1958     64   \n",
              "3  Entre seis meses e um ano               Toda semana      15/09/1975     47   \n",
              "4             Ate seis meses               Toda semana      02/11/1996     26   \n",
              "\n",
              "        SEXO BOLSA_FAMILIA POP_RUA          GRAU_INSTRUCAO COR_RACA  \\\n",
              "0  MASCULINO           NAO     SIM        Medio incompleto    Preta   \n",
              "1  MASCULINO           NAO     SIM        Medio incompleto    Parda   \n",
              "2   FEMININO           NAO     SIM  Fundamental incompleto    Parda   \n",
              "3   FEMININO           NAO     SIM    Fundamental completo    Preta   \n",
              "4  MASCULINO           NAO     SIM          Medio completo    Parda   \n",
              "\n",
              "      Faixa da renda familiar per capita                     CRAS    REGIONAL  \\\n",
              "0                            Ate R$89.00       CRAS VILA SAO JOSE    PAMPULHA   \n",
              "1            Acima de 0.5 Salario Minimo  ENDERECO FORA AREA CRAS    NORDESTE   \n",
              "2            Acima de 0.5 Salario Minimo  ENDERECO FORA AREA CRAS  CENTRO SUL   \n",
              "3  Entre R$178.01 ate 0.5 Salario Minimo       CRAS HAVAI VENTOSA       OESTE   \n",
              "4            Acima de 0.5 Salario Minimo          CRAS VILA MARIA    NORDESTE   \n",
              "\n",
              "  FAIXA_DESATUALICACAO_CADASTRAL MES_ANO_REFERENCIA TEMPO_VIVE_NA_RUA  \\\n",
              "0                   ate 12 Meses         2020-01-12               NaN   \n",
              "1                   ate 12 Meses         2020-01-12               NaN   \n",
              "2                  13 a 18 Meses         2020-01-12               NaN   \n",
              "3                  13 a 18 Meses         2020-01-12               NaN   \n",
              "4                  19 a 24 Meses         2020-01-12               NaN   \n",
              "\n",
              "  AUXILIO_BRASIL  TEMPO_DE_RUA  \n",
              "0            NAO           NaN  \n",
              "1            NAO           NaN  \n",
              "2            NAO           NaN  \n",
              "3            NAO           NaN  \n",
              "4            NAO           NaN  "
            ]
          },
          "execution_count": 91,
          "metadata": {},
          "output_type": "execute_result"
        }
      ],
      "source": [
        "df['TEMPO_DE_RUA'] = df['TEMPO_VIVE_NA_RUA'].map({\"Ate seis meses\":0,\"Entre seis meses e um ano\":1,\n",
        "                                                       'Entre um e dois anos':2, 'Entre dois e cinco anos':3,\n",
        "                                                       'Entre cinco e dez anos':4, 'Mais de dez anos':5},na_action='ignore')\n",
        "\n",
        "df.drop(columns = ['TEMPO_VIVE_NA_RUA'])\n",
        "df.head()"
      ]
    },
    {
      "cell_type": "code",
      "execution_count": null,
      "metadata": {
        "colab": {
          "base_uri": "https://localhost:8080/"
        },
        "id": "hsAyHITj-3YQ",
        "outputId": "1223ef5e-0362-406d-f299-069e2f03162c"
      },
      "outputs": [
        {
          "data": {
            "text/plain": [
              "Parda            57432\n",
              "Preta            22134\n",
              "Branca           14978\n",
              "Amarela            425\n",
              "Nao Informado      115\n",
              "Indigena            99\n",
              "Name: COR_RACA, dtype: int64"
            ]
          },
          "execution_count": 24,
          "metadata": {},
          "output_type": "execute_result"
        }
      ],
      "source": [
        "df['COR_RACA'].value_counts()"
      ]
    },
    {
      "cell_type": "markdown",
      "metadata": {
        "id": "i7GjrNLejLXo"
      },
      "source": [
        "##Contato parente fora das ruas"
      ]
    },
    {
      "cell_type": "code",
      "execution_count": 92,
      "metadata": {
        "id": "hEcfMttckfPp"
      },
      "outputs": [],
      "source": [
        "df['CONTATO_PARENTE'] = df['CONTATO_PARENTE_FORA_RUAS'].map({\"Nunca\":0,\"Quase nunca\":1,\n",
        "                                                       'Todo ano':2, 'Todo mes':3,\n",
        "                                                       'Toda semana':4, 'Todo dia':5},na_action='ignore')\n"
      ]
    },
    {
      "cell_type": "code",
      "execution_count": 93,
      "metadata": {
        "id": "wtA3AnRenQB4"
      },
      "outputs": [],
      "source": [
        "df['SEXO_MF'] = df['SEXO'].map({\"MASCULINO\":0,\"FEMININO\":1},na_action='ignore')"
      ]
    },
    {
      "cell_type": "code",
      "execution_count": 94,
      "metadata": {
        "colab": {
          "base_uri": "https://localhost:8080/"
        },
        "id": "_0-eRgalo571",
        "outputId": "a7d96fe2-7d4e-4a4a-af43-91ca1e7f5227"
      },
      "outputs": [
        {
          "data": {
            "text/html": [
              "<div>\n",
              "<style scoped>\n",
              "    .dataframe tbody tr th:only-of-type {\n",
              "        vertical-align: middle;\n",
              "    }\n",
              "\n",
              "    .dataframe tbody tr th {\n",
              "        vertical-align: top;\n",
              "    }\n",
              "\n",
              "    .dataframe thead th {\n",
              "        text-align: right;\n",
              "    }\n",
              "</style>\n",
              "<table border=\"1\" class=\"dataframe\">\n",
              "  <thead>\n",
              "    <tr style=\"text-align: right;\">\n",
              "      <th></th>\n",
              "      <th>ï»¿TEMPO_VIVE_NA_RUA</th>\n",
              "      <th>CONTATO_PARENTE_FORA_RUAS</th>\n",
              "      <th>DATA_NASCIMENTO</th>\n",
              "      <th>IDADE</th>\n",
              "      <th>SEXO</th>\n",
              "      <th>BOLSA_FAMILIA</th>\n",
              "      <th>POP_RUA</th>\n",
              "      <th>GRAU_INSTRUCAO</th>\n",
              "      <th>COR_RACA</th>\n",
              "      <th>Faixa da renda familiar per capita</th>\n",
              "      <th>CRAS</th>\n",
              "      <th>REGIONAL</th>\n",
              "      <th>FAIXA_DESATUALICACAO_CADASTRAL</th>\n",
              "      <th>MES_ANO_REFERENCIA</th>\n",
              "      <th>TEMPO_VIVE_NA_RUA</th>\n",
              "      <th>AUXILIO_BRASIL</th>\n",
              "      <th>TEMPO_DE_RUA</th>\n",
              "      <th>CONTATO_PARENTE</th>\n",
              "      <th>SEXO_MF</th>\n",
              "      <th>BOLSA</th>\n",
              "    </tr>\n",
              "  </thead>\n",
              "  <tbody>\n",
              "    <tr>\n",
              "      <th>0</th>\n",
              "      <td>Ate seis meses</td>\n",
              "      <td>Quase nunca</td>\n",
              "      <td>05/03/1992</td>\n",
              "      <td>30</td>\n",
              "      <td>MASCULINO</td>\n",
              "      <td>NAO</td>\n",
              "      <td>SIM</td>\n",
              "      <td>Medio incompleto</td>\n",
              "      <td>Preta</td>\n",
              "      <td>Ate R$89.00</td>\n",
              "      <td>CRAS VILA SAO JOSE</td>\n",
              "      <td>PAMPULHA</td>\n",
              "      <td>ate 12 Meses</td>\n",
              "      <td>2020-01-12</td>\n",
              "      <td>NaN</td>\n",
              "      <td>NAO</td>\n",
              "      <td>NaN</td>\n",
              "      <td>1</td>\n",
              "      <td>0</td>\n",
              "      <td>0</td>\n",
              "    </tr>\n",
              "    <tr>\n",
              "      <th>1</th>\n",
              "      <td>Ate seis meses</td>\n",
              "      <td>Quase nunca</td>\n",
              "      <td>04/06/1986</td>\n",
              "      <td>36</td>\n",
              "      <td>MASCULINO</td>\n",
              "      <td>NAO</td>\n",
              "      <td>SIM</td>\n",
              "      <td>Medio incompleto</td>\n",
              "      <td>Parda</td>\n",
              "      <td>Acima de 0.5 Salario Minimo</td>\n",
              "      <td>ENDERECO FORA AREA CRAS</td>\n",
              "      <td>NORDESTE</td>\n",
              "      <td>ate 12 Meses</td>\n",
              "      <td>2020-01-12</td>\n",
              "      <td>NaN</td>\n",
              "      <td>NAO</td>\n",
              "      <td>NaN</td>\n",
              "      <td>1</td>\n",
              "      <td>0</td>\n",
              "      <td>0</td>\n",
              "    </tr>\n",
              "    <tr>\n",
              "      <th>2</th>\n",
              "      <td>Ate seis meses</td>\n",
              "      <td>Todo dia</td>\n",
              "      <td>03/04/1958</td>\n",
              "      <td>64</td>\n",
              "      <td>FEMININO</td>\n",
              "      <td>NAO</td>\n",
              "      <td>SIM</td>\n",
              "      <td>Fundamental incompleto</td>\n",
              "      <td>Parda</td>\n",
              "      <td>Acima de 0.5 Salario Minimo</td>\n",
              "      <td>ENDERECO FORA AREA CRAS</td>\n",
              "      <td>CENTRO SUL</td>\n",
              "      <td>13 a 18 Meses</td>\n",
              "      <td>2020-01-12</td>\n",
              "      <td>NaN</td>\n",
              "      <td>NAO</td>\n",
              "      <td>NaN</td>\n",
              "      <td>5</td>\n",
              "      <td>1</td>\n",
              "      <td>0</td>\n",
              "    </tr>\n",
              "    <tr>\n",
              "      <th>3</th>\n",
              "      <td>Entre seis meses e um ano</td>\n",
              "      <td>Toda semana</td>\n",
              "      <td>15/09/1975</td>\n",
              "      <td>47</td>\n",
              "      <td>FEMININO</td>\n",
              "      <td>NAO</td>\n",
              "      <td>SIM</td>\n",
              "      <td>Fundamental completo</td>\n",
              "      <td>Preta</td>\n",
              "      <td>Entre R$178.01 ate 0.5 Salario Minimo</td>\n",
              "      <td>CRAS HAVAI VENTOSA</td>\n",
              "      <td>OESTE</td>\n",
              "      <td>13 a 18 Meses</td>\n",
              "      <td>2020-01-12</td>\n",
              "      <td>NaN</td>\n",
              "      <td>NAO</td>\n",
              "      <td>NaN</td>\n",
              "      <td>4</td>\n",
              "      <td>1</td>\n",
              "      <td>0</td>\n",
              "    </tr>\n",
              "    <tr>\n",
              "      <th>4</th>\n",
              "      <td>Ate seis meses</td>\n",
              "      <td>Toda semana</td>\n",
              "      <td>02/11/1996</td>\n",
              "      <td>26</td>\n",
              "      <td>MASCULINO</td>\n",
              "      <td>NAO</td>\n",
              "      <td>SIM</td>\n",
              "      <td>Medio completo</td>\n",
              "      <td>Parda</td>\n",
              "      <td>Acima de 0.5 Salario Minimo</td>\n",
              "      <td>CRAS VILA MARIA</td>\n",
              "      <td>NORDESTE</td>\n",
              "      <td>19 a 24 Meses</td>\n",
              "      <td>2020-01-12</td>\n",
              "      <td>NaN</td>\n",
              "      <td>NAO</td>\n",
              "      <td>NaN</td>\n",
              "      <td>4</td>\n",
              "      <td>0</td>\n",
              "      <td>0</td>\n",
              "    </tr>\n",
              "  </tbody>\n",
              "</table>\n",
              "</div>"
            ],
            "text/plain": [
              "        ï»¿TEMPO_VIVE_NA_RUA CONTATO_PARENTE_FORA_RUAS DATA_NASCIMENTO  IDADE  \\\n",
              "0             Ate seis meses               Quase nunca      05/03/1992     30   \n",
              "1             Ate seis meses               Quase nunca      04/06/1986     36   \n",
              "2             Ate seis meses                  Todo dia      03/04/1958     64   \n",
              "3  Entre seis meses e um ano               Toda semana      15/09/1975     47   \n",
              "4             Ate seis meses               Toda semana      02/11/1996     26   \n",
              "\n",
              "        SEXO BOLSA_FAMILIA POP_RUA          GRAU_INSTRUCAO COR_RACA  \\\n",
              "0  MASCULINO           NAO     SIM        Medio incompleto    Preta   \n",
              "1  MASCULINO           NAO     SIM        Medio incompleto    Parda   \n",
              "2   FEMININO           NAO     SIM  Fundamental incompleto    Parda   \n",
              "3   FEMININO           NAO     SIM    Fundamental completo    Preta   \n",
              "4  MASCULINO           NAO     SIM          Medio completo    Parda   \n",
              "\n",
              "      Faixa da renda familiar per capita                     CRAS    REGIONAL  \\\n",
              "0                            Ate R$89.00       CRAS VILA SAO JOSE    PAMPULHA   \n",
              "1            Acima de 0.5 Salario Minimo  ENDERECO FORA AREA CRAS    NORDESTE   \n",
              "2            Acima de 0.5 Salario Minimo  ENDERECO FORA AREA CRAS  CENTRO SUL   \n",
              "3  Entre R$178.01 ate 0.5 Salario Minimo       CRAS HAVAI VENTOSA       OESTE   \n",
              "4            Acima de 0.5 Salario Minimo          CRAS VILA MARIA    NORDESTE   \n",
              "\n",
              "  FAIXA_DESATUALICACAO_CADASTRAL MES_ANO_REFERENCIA TEMPO_VIVE_NA_RUA  \\\n",
              "0                   ate 12 Meses         2020-01-12               NaN   \n",
              "1                   ate 12 Meses         2020-01-12               NaN   \n",
              "2                  13 a 18 Meses         2020-01-12               NaN   \n",
              "3                  13 a 18 Meses         2020-01-12               NaN   \n",
              "4                  19 a 24 Meses         2020-01-12               NaN   \n",
              "\n",
              "  AUXILIO_BRASIL  TEMPO_DE_RUA  CONTATO_PARENTE  SEXO_MF  BOLSA  \n",
              "0            NAO           NaN                1        0      0  \n",
              "1            NAO           NaN                1        0      0  \n",
              "2            NAO           NaN                5        1      0  \n",
              "3            NAO           NaN                4        1      0  \n",
              "4            NAO           NaN                4        0      0  "
            ]
          },
          "execution_count": 94,
          "metadata": {},
          "output_type": "execute_result"
        }
      ],
      "source": [
        "df['BOLSA'] = df['BOLSA_FAMILIA'].map({\"SIM\":1,\"NAO\":0},na_action='ignore')\n",
        "df.head()"
      ]
    },
    {
      "cell_type": "markdown",
      "metadata": {
        "id": "JkVHgGYmpxDa"
      },
      "source": [
        "##Grau de instrução"
      ]
    },
    {
      "cell_type": "code",
      "execution_count": 95,
      "metadata": {
        "id": "3dbvR6aUp2xb"
      },
      "outputs": [],
      "source": [
        "df['G_INSTRUCAO'] = df['GRAU_INSTRUCAO'].map({\"Nao Informado\":0,\"Sem instrucao\":1,\n",
        "                                                       'Fundamental incompleto':2, 'Fundamental completo':3,\n",
        "                                                       'Medio incompleto':4, 'Medio completo':5,\n",
        "                                              'Superior incompleto ou mais':6},na_action='ignore')"
      ]
    },
    {
      "cell_type": "markdown",
      "metadata": {
        "id": "D9NB2cWP-0cw"
      },
      "source": [
        "##Cor raça"
      ]
    },
    {
      "cell_type": "code",
      "execution_count": 96,
      "metadata": {
        "id": "vxEw5Xsd--ZX"
      },
      "outputs": [],
      "source": [
        "df['COR_R'] = df['COR_RACA'].map({\"Nao Informado\":0,\"Preta\":1,'Branca':2, 'Amarela':3,\n",
        "                                  'Parda':4, 'Indigena':5},na_action='ignore')"
      ]
    },
    {
      "cell_type": "markdown",
      "metadata": {
        "id": "e-FnDXhg9u_R"
      },
      "source": [
        "#Análise Preditiva"
      ]
    },
    {
      "cell_type": "markdown",
      "metadata": {
        "id": "9fQcTGLH9z7l"
      },
      "source": [
        "**Montando o dataframe somente com os dados relevantes para a análise:**"
      ]
    },
    {
      "cell_type": "code",
      "execution_count": null,
      "metadata": {
        "colab": {
          "base_uri": "https://localhost:8080/"
        },
        "id": "MNB9ppzN-XSa",
        "outputId": "661dfd28-29f2-4592-cd08-d62c2c326106"
      },
      "outputs": [
        {
          "data": {
            "text/plain": [
              "Index(['TEMPO_VIVE_NA_RUA', 'CONTATO_PARENTE_FORA_RUAS', 'DATA_NASCIMENTO',\n",
              "       'IDADE', 'SEXO', 'BOLSA_FAMILIA', 'POP_RUA', 'GRAU_INSTRUCAO',\n",
              "       'COR_RACA', 'Faixa da renda familiar per capita', 'CRAS', 'REGIONAL',\n",
              "       'FAIXA_DESATUALICACAO_CADASTRAL', 'MES_ANO_REFERENCIA', 'TEMPO_DE_RUA',\n",
              "       'CONTATO_PARENTE', 'SEXO_MF', 'BOLSA', 'G_INSTRUCAO', 'COR_R'],\n",
              "      dtype='object')"
            ]
          },
          "execution_count": 26,
          "metadata": {},
          "output_type": "execute_result"
        }
      ],
      "source": [
        "df.keys()"
      ]
    },
    {
      "cell_type": "code",
      "execution_count": 97,
      "metadata": {
        "colab": {
          "base_uri": "https://localhost:8080/",
          "height": 374
        },
        "id": "8jOw9GN5RJi8",
        "outputId": "034d522c-2ede-4e61-a2c4-3a2cde766dbf"
      },
      "outputs": [
        {
          "name": "stderr",
          "output_type": "stream",
          "text": [
            "/var/folders/7y/h9psskk95z5_qbfrvcsl1_bw0000gp/T/ipykernel_1596/2221401063.py:1: FutureWarning: The default value of numeric_only in DataFrame.corr is deprecated. In a future version, it will default to False. Select only valid columns or specify the value of numeric_only to silence this warning.\n",
            "  sns.heatmap(df.corr(),annot = True)\n"
          ]
        },
        {
          "data": {
            "text/plain": [
              "<AxesSubplot:>"
            ]
          },
          "execution_count": 97,
          "metadata": {},
          "output_type": "execute_result"
        },
        {
          "data": {
            "image/png": "[encoded data removed]",
            "text/plain": [
              "<Figure size 432x288 with 2 Axes>"
            ]
          },
          "metadata": {
            "needs_background": "light"
          },
          "output_type": "display_data"
        }
      ],
      "source": [
        "sns.heatmap(df.corr(),annot = True)"
      ]
    },
    {
      "cell_type": "code",
      "execution_count": 98,
      "metadata": {
        "colab": {
          "base_uri": "https://localhost:8080/"
        },
        "id": "vD8TJh7W9y7w",
        "outputId": "01fb9fc6-34a1-48bd-9c16-e6d66ff41de4"
      },
      "outputs": [
        {
          "name": "stderr",
          "output_type": "stream",
          "text": [
            "/var/folders/7y/h9psskk95z5_qbfrvcsl1_bw0000gp/T/ipykernel_1596/4174713087.py:1: FutureWarning: Passing a set as an indexer is deprecated and will raise in a future version. Use a list instead.\n",
            "  df_pred = df[{'IDADE','G_INSTRUCAO','BOLSA','SEXO_MF','CONTATO_PARENTE','COR_R','TEMPO_DE_RUA'}]\n"
          ]
        },
        {
          "data": {
            "text/plain": [
              "Index(['CONTATO_PARENTE', 'G_INSTRUCAO', 'SEXO_MF', 'TEMPO_DE_RUA', 'IDADE',\n",
              "       'BOLSA', 'COR_R'],\n",
              "      dtype='object')"
            ]
          },
          "execution_count": 98,
          "metadata": {},
          "output_type": "execute_result"
        }
      ],
      "source": [
        "df_pred = df[{'IDADE','G_INSTRUCAO','BOLSA','SEXO_MF','CONTATO_PARENTE','COR_R','TEMPO_DE_RUA'}]\n",
        "df_pred.keys()"
      ]
    },
    {
      "cell_type": "code",
      "execution_count": 99,
      "metadata": {
        "colab": {
          "base_uri": "https://localhost:8080/",
          "height": 374
        },
        "id": "pN5zQiIbSDmf",
        "outputId": "11dee026-6a3c-4b51-b0a7-d38a52435929"
      },
      "outputs": [
        {
          "data": {
            "text/plain": [
              "<AxesSubplot:>"
            ]
          },
          "execution_count": 99,
          "metadata": {},
          "output_type": "execute_result"
        },
        {
          "data": {
            "image/png": "[encoded data removed]",
            "text/plain": [
              "<Figure size 432x288 with 2 Axes>"
            ]
          },
          "metadata": {
            "needs_background": "light"
          },
          "output_type": "display_data"
        }
      ],
      "source": [
        "sns.heatmap(df_pred.corr(),annot = True)"
      ]
    },
    {
      "cell_type": "code",
      "execution_count": 100,
      "metadata": {
        "colab": {
          "base_uri": "https://localhost:8080/",
          "height": 269
        },
        "id": "bQWIyLeYSaGi",
        "outputId": "6df15b27-d877-414d-b3fb-9804111f5ddf"
      },
      "outputs": [
        {
          "data": {
            "text/html": [
              "<div>\n",
              "<style scoped>\n",
              "    .dataframe tbody tr th:only-of-type {\n",
              "        vertical-align: middle;\n",
              "    }\n",
              "\n",
              "    .dataframe tbody tr th {\n",
              "        vertical-align: top;\n",
              "    }\n",
              "\n",
              "    .dataframe thead th {\n",
              "        text-align: right;\n",
              "    }\n",
              "</style>\n",
              "<table border=\"1\" class=\"dataframe\">\n",
              "  <thead>\n",
              "    <tr style=\"text-align: right;\">\n",
              "      <th></th>\n",
              "      <th>IDADE</th>\n",
              "    </tr>\n",
              "  </thead>\n",
              "  <tbody>\n",
              "    <tr>\n",
              "      <th>IDADE</th>\n",
              "      <td>1.000000</td>\n",
              "    </tr>\n",
              "    <tr>\n",
              "      <th>TEMPO_DE_RUA</th>\n",
              "      <td>0.222137</td>\n",
              "    </tr>\n",
              "    <tr>\n",
              "      <th>BOLSA</th>\n",
              "      <td>-0.013862</td>\n",
              "    </tr>\n",
              "    <tr>\n",
              "      <th>COR_R</th>\n",
              "      <td>-0.017670</td>\n",
              "    </tr>\n",
              "    <tr>\n",
              "      <th>SEXO_MF</th>\n",
              "      <td>-0.051101</td>\n",
              "    </tr>\n",
              "    <tr>\n",
              "      <th>CONTATO_PARENTE</th>\n",
              "      <td>-0.062647</td>\n",
              "    </tr>\n",
              "    <tr>\n",
              "      <th>G_INSTRUCAO</th>\n",
              "      <td>-0.182932</td>\n",
              "    </tr>\n",
              "  </tbody>\n",
              "</table>\n",
              "</div>"
            ],
            "text/plain": [
              "                    IDADE\n",
              "IDADE            1.000000\n",
              "TEMPO_DE_RUA     0.222137\n",
              "BOLSA           -0.013862\n",
              "COR_R           -0.017670\n",
              "SEXO_MF         -0.051101\n",
              "CONTATO_PARENTE -0.062647\n",
              "G_INSTRUCAO     -0.182932"
            ]
          },
          "execution_count": 100,
          "metadata": {},
          "output_type": "execute_result"
        }
      ],
      "source": [
        "corr = df_pred.corr('spearman')\n",
        "corr = corr[['IDADE']].sort_values(by = ['IDADE'],ascending = False)\n",
        "corr"
      ]
    },
    {
      "cell_type": "code",
      "execution_count": 101,
      "metadata": {
        "colab": {
          "base_uri": "https://localhost:8080/",
          "height": 269
        },
        "id": "Ga7cxko0TAlf",
        "outputId": "7be6fbc2-7d40-4223-92e8-94a84b21ad9d"
      },
      "outputs": [
        {
          "data": {
            "text/html": [
              "<div>\n",
              "<style scoped>\n",
              "    .dataframe tbody tr th:only-of-type {\n",
              "        vertical-align: middle;\n",
              "    }\n",
              "\n",
              "    .dataframe tbody tr th {\n",
              "        vertical-align: top;\n",
              "    }\n",
              "\n",
              "    .dataframe thead th {\n",
              "        text-align: right;\n",
              "    }\n",
              "</style>\n",
              "<table border=\"1\" class=\"dataframe\">\n",
              "  <thead>\n",
              "    <tr style=\"text-align: right;\">\n",
              "      <th></th>\n",
              "      <th>SEXO_MF</th>\n",
              "    </tr>\n",
              "  </thead>\n",
              "  <tbody>\n",
              "    <tr>\n",
              "      <th>SEXO_MF</th>\n",
              "      <td>1.000000</td>\n",
              "    </tr>\n",
              "    <tr>\n",
              "      <th>CONTATO_PARENTE</th>\n",
              "      <td>0.030600</td>\n",
              "    </tr>\n",
              "    <tr>\n",
              "      <th>G_INSTRUCAO</th>\n",
              "      <td>0.011114</td>\n",
              "    </tr>\n",
              "    <tr>\n",
              "      <th>BOLSA</th>\n",
              "      <td>0.008226</td>\n",
              "    </tr>\n",
              "    <tr>\n",
              "      <th>COR_R</th>\n",
              "      <td>-0.025848</td>\n",
              "    </tr>\n",
              "    <tr>\n",
              "      <th>TEMPO_DE_RUA</th>\n",
              "      <td>-0.035041</td>\n",
              "    </tr>\n",
              "    <tr>\n",
              "      <th>IDADE</th>\n",
              "      <td>-0.051101</td>\n",
              "    </tr>\n",
              "  </tbody>\n",
              "</table>\n",
              "</div>"
            ],
            "text/plain": [
              "                  SEXO_MF\n",
              "SEXO_MF          1.000000\n",
              "CONTATO_PARENTE  0.030600\n",
              "G_INSTRUCAO      0.011114\n",
              "BOLSA            0.008226\n",
              "COR_R           -0.025848\n",
              "TEMPO_DE_RUA    -0.035041\n",
              "IDADE           -0.051101"
            ]
          },
          "execution_count": 101,
          "metadata": {},
          "output_type": "execute_result"
        }
      ],
      "source": [
        "corr = df_pred.corr('spearman')\n",
        "corr = corr[['SEXO_MF']].sort_values(by = ['SEXO_MF'],ascending = False)\n",
        "corr"
      ]
    },
    {
      "cell_type": "code",
      "execution_count": 102,
      "metadata": {
        "colab": {
          "base_uri": "https://localhost:8080/",
          "height": 269
        },
        "id": "UKiDd_X7SryL",
        "outputId": "39c2c86f-22b4-4a38-e1ab-e4ff6f41273c"
      },
      "outputs": [
        {
          "data": {
            "text/html": [
              "<div>\n",
              "<style scoped>\n",
              "    .dataframe tbody tr th:only-of-type {\n",
              "        vertical-align: middle;\n",
              "    }\n",
              "\n",
              "    .dataframe tbody tr th {\n",
              "        vertical-align: top;\n",
              "    }\n",
              "\n",
              "    .dataframe thead th {\n",
              "        text-align: right;\n",
              "    }\n",
              "</style>\n",
              "<table border=\"1\" class=\"dataframe\">\n",
              "  <thead>\n",
              "    <tr style=\"text-align: right;\">\n",
              "      <th></th>\n",
              "      <th>TEMPO_DE_RUA</th>\n",
              "    </tr>\n",
              "  </thead>\n",
              "  <tbody>\n",
              "    <tr>\n",
              "      <th>TEMPO_DE_RUA</th>\n",
              "      <td>1.000000</td>\n",
              "    </tr>\n",
              "    <tr>\n",
              "      <th>IDADE</th>\n",
              "      <td>0.222137</td>\n",
              "    </tr>\n",
              "    <tr>\n",
              "      <th>BOLSA</th>\n",
              "      <td>0.010857</td>\n",
              "    </tr>\n",
              "    <tr>\n",
              "      <th>COR_R</th>\n",
              "      <td>-0.012279</td>\n",
              "    </tr>\n",
              "    <tr>\n",
              "      <th>SEXO_MF</th>\n",
              "      <td>-0.035041</td>\n",
              "    </tr>\n",
              "    <tr>\n",
              "      <th>CONTATO_PARENTE</th>\n",
              "      <td>-0.063202</td>\n",
              "    </tr>\n",
              "    <tr>\n",
              "      <th>G_INSTRUCAO</th>\n",
              "      <td>-0.173980</td>\n",
              "    </tr>\n",
              "  </tbody>\n",
              "</table>\n",
              "</div>"
            ],
            "text/plain": [
              "                 TEMPO_DE_RUA\n",
              "TEMPO_DE_RUA         1.000000\n",
              "IDADE                0.222137\n",
              "BOLSA                0.010857\n",
              "COR_R               -0.012279\n",
              "SEXO_MF             -0.035041\n",
              "CONTATO_PARENTE     -0.063202\n",
              "G_INSTRUCAO         -0.173980"
            ]
          },
          "execution_count": 102,
          "metadata": {},
          "output_type": "execute_result"
        }
      ],
      "source": [
        "corr = df_pred.corr('spearman')\n",
        "corr = corr[['TEMPO_DE_RUA']].sort_values(by = ['TEMPO_DE_RUA'],ascending = False)\n",
        "corr"
      ]
    },
    {
      "cell_type": "code",
      "execution_count": 103,
      "metadata": {
        "colab": {
          "base_uri": "https://localhost:8080/",
          "height": 269
        },
        "id": "v6yTqV8tbzdD",
        "outputId": "2b9f21d9-e9c2-46d7-b66c-67ee5e5fdf94"
      },
      "outputs": [
        {
          "data": {
            "text/html": [
              "<div>\n",
              "<style scoped>\n",
              "    .dataframe tbody tr th:only-of-type {\n",
              "        vertical-align: middle;\n",
              "    }\n",
              "\n",
              "    .dataframe tbody tr th {\n",
              "        vertical-align: top;\n",
              "    }\n",
              "\n",
              "    .dataframe thead th {\n",
              "        text-align: right;\n",
              "    }\n",
              "</style>\n",
              "<table border=\"1\" class=\"dataframe\">\n",
              "  <thead>\n",
              "    <tr style=\"text-align: right;\">\n",
              "      <th></th>\n",
              "      <th>COR_R</th>\n",
              "    </tr>\n",
              "  </thead>\n",
              "  <tbody>\n",
              "    <tr>\n",
              "      <th>COR_R</th>\n",
              "      <td>1.000000</td>\n",
              "    </tr>\n",
              "    <tr>\n",
              "      <th>CONTATO_PARENTE</th>\n",
              "      <td>0.000860</td>\n",
              "    </tr>\n",
              "    <tr>\n",
              "      <th>G_INSTRUCAO</th>\n",
              "      <td>-0.000019</td>\n",
              "    </tr>\n",
              "    <tr>\n",
              "      <th>BOLSA</th>\n",
              "      <td>-0.003502</td>\n",
              "    </tr>\n",
              "    <tr>\n",
              "      <th>TEMPO_DE_RUA</th>\n",
              "      <td>-0.012279</td>\n",
              "    </tr>\n",
              "    <tr>\n",
              "      <th>IDADE</th>\n",
              "      <td>-0.017670</td>\n",
              "    </tr>\n",
              "    <tr>\n",
              "      <th>SEXO_MF</th>\n",
              "      <td>-0.025848</td>\n",
              "    </tr>\n",
              "  </tbody>\n",
              "</table>\n",
              "</div>"
            ],
            "text/plain": [
              "                    COR_R\n",
              "COR_R            1.000000\n",
              "CONTATO_PARENTE  0.000860\n",
              "G_INSTRUCAO     -0.000019\n",
              "BOLSA           -0.003502\n",
              "TEMPO_DE_RUA    -0.012279\n",
              "IDADE           -0.017670\n",
              "SEXO_MF         -0.025848"
            ]
          },
          "execution_count": 103,
          "metadata": {},
          "output_type": "execute_result"
        }
      ],
      "source": [
        "corr = df_pred.corr('spearman')\n",
        "corr = corr[['COR_R']].sort_values(by = ['COR_R'],ascending = False)\n",
        "corr"
      ]
    },
    {
      "cell_type": "markdown",
      "metadata": {
        "id": "nA2EgVpFCZft"
      },
      "source": [
        "![Cabecalho.png](data:image/png;base64,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)"
      ]
    },
    {
      "cell_type": "markdown",
      "metadata": {
        "id": "JhEMPmatA20r"
      },
      "source": [
        "##PREDIÇÃO:"
      ]
    },
    {
      "cell_type": "code",
      "execution_count": 104,
      "metadata": {
        "id": "Jh8Jt1o1An7p"
      },
      "outputs": [],
      "source": [
        "#IMPORTS\n",
        "from sklearn.tree import DecisionTreeClassifier\n",
        "from sklearn.model_selection import train_test_split\n",
        "from sklearn.metrics import accuracy_score"
      ]
    },
    {
      "cell_type": "code",
      "execution_count": 105,
      "metadata": {
        "colab": {
          "base_uri": "https://localhost:8080/",
          "height": 206
        },
        "id": "GqE9ltnMD7Ct",
        "outputId": "c1e127c2-f880-457c-83f2-18daf0d37bad"
      },
      "outputs": [
        {
          "data": {
            "text/html": [
              "<div>\n",
              "<style scoped>\n",
              "    .dataframe tbody tr th:only-of-type {\n",
              "        vertical-align: middle;\n",
              "    }\n",
              "\n",
              "    .dataframe tbody tr th {\n",
              "        vertical-align: top;\n",
              "    }\n",
              "\n",
              "    .dataframe thead th {\n",
              "        text-align: right;\n",
              "    }\n",
              "</style>\n",
              "<table border=\"1\" class=\"dataframe\">\n",
              "  <thead>\n",
              "    <tr style=\"text-align: right;\">\n",
              "      <th></th>\n",
              "      <th>CONTATO_PARENTE</th>\n",
              "      <th>G_INSTRUCAO</th>\n",
              "      <th>SEXO_MF</th>\n",
              "      <th>TEMPO_DE_RUA</th>\n",
              "      <th>IDADE</th>\n",
              "      <th>BOLSA</th>\n",
              "      <th>COR_R</th>\n",
              "    </tr>\n",
              "  </thead>\n",
              "  <tbody>\n",
              "    <tr>\n",
              "      <th>0</th>\n",
              "      <td>1</td>\n",
              "      <td>4</td>\n",
              "      <td>0</td>\n",
              "      <td>NaN</td>\n",
              "      <td>30</td>\n",
              "      <td>0</td>\n",
              "      <td>1</td>\n",
              "    </tr>\n",
              "    <tr>\n",
              "      <th>1</th>\n",
              "      <td>1</td>\n",
              "      <td>4</td>\n",
              "      <td>0</td>\n",
              "      <td>NaN</td>\n",
              "      <td>36</td>\n",
              "      <td>0</td>\n",
              "      <td>4</td>\n",
              "    </tr>\n",
              "    <tr>\n",
              "      <th>2</th>\n",
              "      <td>5</td>\n",
              "      <td>2</td>\n",
              "      <td>1</td>\n",
              "      <td>NaN</td>\n",
              "      <td>64</td>\n",
              "      <td>0</td>\n",
              "      <td>4</td>\n",
              "    </tr>\n",
              "    <tr>\n",
              "      <th>3</th>\n",
              "      <td>4</td>\n",
              "      <td>3</td>\n",
              "      <td>1</td>\n",
              "      <td>NaN</td>\n",
              "      <td>47</td>\n",
              "      <td>0</td>\n",
              "      <td>1</td>\n",
              "    </tr>\n",
              "    <tr>\n",
              "      <th>4</th>\n",
              "      <td>4</td>\n",
              "      <td>5</td>\n",
              "      <td>0</td>\n",
              "      <td>NaN</td>\n",
              "      <td>26</td>\n",
              "      <td>0</td>\n",
              "      <td>4</td>\n",
              "    </tr>\n",
              "  </tbody>\n",
              "</table>\n",
              "</div>"
            ],
            "text/plain": [
              "   CONTATO_PARENTE  G_INSTRUCAO  SEXO_MF  TEMPO_DE_RUA  IDADE  BOLSA  COR_R\n",
              "0                1            4        0           NaN     30      0      1\n",
              "1                1            4        0           NaN     36      0      4\n",
              "2                5            2        1           NaN     64      0      4\n",
              "3                4            3        1           NaN     47      0      1\n",
              "4                4            5        0           NaN     26      0      4"
            ]
          },
          "execution_count": 105,
          "metadata": {},
          "output_type": "execute_result"
        }
      ],
      "source": [
        "df_pred.head()"
      ]
    },
    {
      "cell_type": "markdown",
      "metadata": {
        "id": "jpUnRHDe82Qj"
      },
      "source": []
    },
    {
      "cell_type": "code",
      "execution_count": 106,
      "metadata": {
        "id": "b2ni7cc6XwWz"
      },
      "outputs": [],
      "source": [
        "X = df_pred.drop(columns=['TEMPO_DE_RUA'])\n",
        "y = df_pred['TEMPO_DE_RUA']\n",
        "\n",
        "X_train, X_test, y_train, y_test = train_test_split(X,y, test_size=0.2, random_state=0)"
      ]
    },
    {
      "cell_type": "code",
      "execution_count": 107,
      "metadata": {
        "colab": {
          "base_uri": "https://localhost:8080/"
        },
        "id": "M5zzjaMUYcAJ",
        "outputId": "231eecf8-5aa8-41a4-c119-6dc724ba7386"
      },
      "outputs": [
        {
          "ename": "ValueError",
          "evalue": "Input y contains NaN.",
          "output_type": "error",
          "traceback": [
            "\u001b[0;31m---------------------------------------------------------------------------\u001b[0m",
            "\u001b[0;31mValueError\u001b[0m                                Traceback (most recent call last)",
            "\u001b[1;32m/Users/isa/Library/Mobile Documents/com~apple~CloudDocs/ciencia-da-computacao-ufv/pop_rua_bh/trabalho_pop_rua_2022.ipynb Cell 66\u001b[0m in \u001b[0;36m<cell line: 2>\u001b[0;34m()\u001b[0m\n\u001b[1;32m      <a href='vscode-notebook-cell:/Users/isa/Library/Mobile%20Documents/com~apple~CloudDocs/ciencia-da-computacao-ufv/pop_rua_bh/trabalho_pop_rua_2022.ipynb#Y124sZmlsZQ%3D%3D?line=0'>1</a>\u001b[0m model \u001b[39m=\u001b[39m DecisionTreeClassifier()\n\u001b[0;32m----> <a href='vscode-notebook-cell:/Users/isa/Library/Mobile%20Documents/com~apple~CloudDocs/ciencia-da-computacao-ufv/pop_rua_bh/trabalho_pop_rua_2022.ipynb#Y124sZmlsZQ%3D%3D?line=1'>2</a>\u001b[0m model\u001b[39m.\u001b[39;49mfit(X_train,y_train)\n",
            "File \u001b[0;32m~/Library/Python/3.9/lib/python/site-packages/sklearn/tree/_classes.py:969\u001b[0m, in \u001b[0;36mDecisionTreeClassifier.fit\u001b[0;34m(self, X, y, sample_weight, check_input)\u001b[0m\n\u001b[1;32m    939\u001b[0m \u001b[39mdef\u001b[39;00m \u001b[39mfit\u001b[39m(\u001b[39mself\u001b[39m, X, y, sample_weight\u001b[39m=\u001b[39m\u001b[39mNone\u001b[39;00m, check_input\u001b[39m=\u001b[39m\u001b[39mTrue\u001b[39;00m):\n\u001b[1;32m    940\u001b[0m     \u001b[39m\"\"\"Build a decision tree classifier from the training set (X, y).\u001b[39;00m\n\u001b[1;32m    941\u001b[0m \n\u001b[1;32m    942\u001b[0m \u001b[39m    Parameters\u001b[39;00m\n\u001b[0;32m   (...)\u001b[0m\n\u001b[1;32m    966\u001b[0m \u001b[39m        Fitted estimator.\u001b[39;00m\n\u001b[1;32m    967\u001b[0m \u001b[39m    \"\"\"\u001b[39;00m\n\u001b[0;32m--> 969\u001b[0m     \u001b[39msuper\u001b[39;49m()\u001b[39m.\u001b[39;49mfit(\n\u001b[1;32m    970\u001b[0m         X,\n\u001b[1;32m    971\u001b[0m         y,\n\u001b[1;32m    972\u001b[0m         sample_weight\u001b[39m=\u001b[39;49msample_weight,\n\u001b[1;32m    973\u001b[0m         check_input\u001b[39m=\u001b[39;49mcheck_input,\n\u001b[1;32m    974\u001b[0m     )\n\u001b[1;32m    975\u001b[0m     \u001b[39mreturn\u001b[39;00m \u001b[39mself\u001b[39m\n",
            "File \u001b[0;32m~/Library/Python/3.9/lib/python/site-packages/sklearn/tree/_classes.py:172\u001b[0m, in \u001b[0;36mBaseDecisionTree.fit\u001b[0;34m(self, X, y, sample_weight, check_input)\u001b[0m\n\u001b[1;32m    170\u001b[0m check_X_params \u001b[39m=\u001b[39m \u001b[39mdict\u001b[39m(dtype\u001b[39m=\u001b[39mDTYPE, accept_sparse\u001b[39m=\u001b[39m\u001b[39m\"\u001b[39m\u001b[39mcsc\u001b[39m\u001b[39m\"\u001b[39m)\n\u001b[1;32m    171\u001b[0m check_y_params \u001b[39m=\u001b[39m \u001b[39mdict\u001b[39m(ensure_2d\u001b[39m=\u001b[39m\u001b[39mFalse\u001b[39;00m, dtype\u001b[39m=\u001b[39m\u001b[39mNone\u001b[39;00m)\n\u001b[0;32m--> 172\u001b[0m X, y \u001b[39m=\u001b[39m \u001b[39mself\u001b[39;49m\u001b[39m.\u001b[39;49m_validate_data(\n\u001b[1;32m    173\u001b[0m     X, y, validate_separately\u001b[39m=\u001b[39;49m(check_X_params, check_y_params)\n\u001b[1;32m    174\u001b[0m )\n\u001b[1;32m    175\u001b[0m \u001b[39mif\u001b[39;00m issparse(X):\n\u001b[1;32m    176\u001b[0m     X\u001b[39m.\u001b[39msort_indices()\n",
            "File \u001b[0;32m~/Library/Python/3.9/lib/python/site-packages/sklearn/base.py:594\u001b[0m, in \u001b[0;36mBaseEstimator._validate_data\u001b[0;34m(self, X, y, reset, validate_separately, **check_params)\u001b[0m\n\u001b[1;32m    592\u001b[0m     \u001b[39mif\u001b[39;00m \u001b[39m\"\u001b[39m\u001b[39mestimator\u001b[39m\u001b[39m\"\u001b[39m \u001b[39mnot\u001b[39;00m \u001b[39min\u001b[39;00m check_y_params:\n\u001b[1;32m    593\u001b[0m         check_y_params \u001b[39m=\u001b[39m {\u001b[39m*\u001b[39m\u001b[39m*\u001b[39mdefault_check_params, \u001b[39m*\u001b[39m\u001b[39m*\u001b[39mcheck_y_params}\n\u001b[0;32m--> 594\u001b[0m     y \u001b[39m=\u001b[39m check_array(y, input_name\u001b[39m=\u001b[39;49m\u001b[39m\"\u001b[39;49m\u001b[39my\u001b[39;49m\u001b[39m\"\u001b[39;49m, \u001b[39m*\u001b[39;49m\u001b[39m*\u001b[39;49mcheck_y_params)\n\u001b[1;32m    595\u001b[0m \u001b[39melse\u001b[39;00m:\n\u001b[1;32m    596\u001b[0m     X, y \u001b[39m=\u001b[39m check_X_y(X, y, \u001b[39m*\u001b[39m\u001b[39m*\u001b[39mcheck_params)\n",
            "File \u001b[0;32m~/Library/Python/3.9/lib/python/site-packages/sklearn/utils/validation.py:899\u001b[0m, in \u001b[0;36mcheck_array\u001b[0;34m(array, accept_sparse, accept_large_sparse, dtype, order, copy, force_all_finite, ensure_2d, allow_nd, ensure_min_samples, ensure_min_features, estimator, input_name)\u001b[0m\n\u001b[1;32m    893\u001b[0m         \u001b[39mraise\u001b[39;00m \u001b[39mValueError\u001b[39;00m(\n\u001b[1;32m    894\u001b[0m             \u001b[39m\"\u001b[39m\u001b[39mFound array with dim \u001b[39m\u001b[39m%d\u001b[39;00m\u001b[39m. \u001b[39m\u001b[39m%s\u001b[39;00m\u001b[39m expected <= 2.\u001b[39m\u001b[39m\"\u001b[39m\n\u001b[1;32m    895\u001b[0m             \u001b[39m%\u001b[39m (array\u001b[39m.\u001b[39mndim, estimator_name)\n\u001b[1;32m    896\u001b[0m         )\n\u001b[1;32m    898\u001b[0m     \u001b[39mif\u001b[39;00m force_all_finite:\n\u001b[0;32m--> 899\u001b[0m         _assert_all_finite(\n\u001b[1;32m    900\u001b[0m             array,\n\u001b[1;32m    901\u001b[0m             input_name\u001b[39m=\u001b[39;49minput_name,\n\u001b[1;32m    902\u001b[0m             estimator_name\u001b[39m=\u001b[39;49mestimator_name,\n\u001b[1;32m    903\u001b[0m             allow_nan\u001b[39m=\u001b[39;49mforce_all_finite \u001b[39m==\u001b[39;49m \u001b[39m\"\u001b[39;49m\u001b[39mallow-nan\u001b[39;49m\u001b[39m\"\u001b[39;49m,\n\u001b[1;32m    904\u001b[0m         )\n\u001b[1;32m    906\u001b[0m \u001b[39mif\u001b[39;00m ensure_min_samples \u001b[39m>\u001b[39m \u001b[39m0\u001b[39m:\n\u001b[1;32m    907\u001b[0m     n_samples \u001b[39m=\u001b[39m _num_samples(array)\n",
            "File \u001b[0;32m~/Library/Python/3.9/lib/python/site-packages/sklearn/utils/validation.py:146\u001b[0m, in \u001b[0;36m_assert_all_finite\u001b[0;34m(X, allow_nan, msg_dtype, estimator_name, input_name)\u001b[0m\n\u001b[1;32m    124\u001b[0m         \u001b[39mif\u001b[39;00m (\n\u001b[1;32m    125\u001b[0m             \u001b[39mnot\u001b[39;00m allow_nan\n\u001b[1;32m    126\u001b[0m             \u001b[39mand\u001b[39;00m estimator_name\n\u001b[0;32m   (...)\u001b[0m\n\u001b[1;32m    130\u001b[0m             \u001b[39m# Improve the error message on how to handle missing values in\u001b[39;00m\n\u001b[1;32m    131\u001b[0m             \u001b[39m# scikit-learn.\u001b[39;00m\n\u001b[1;32m    132\u001b[0m             msg_err \u001b[39m+\u001b[39m\u001b[39m=\u001b[39m (\n\u001b[1;32m    133\u001b[0m                 \u001b[39mf\u001b[39m\u001b[39m\"\u001b[39m\u001b[39m\\n\u001b[39;00m\u001b[39m{\u001b[39;00mestimator_name\u001b[39m}\u001b[39;00m\u001b[39m does not accept missing values\u001b[39m\u001b[39m\"\u001b[39m\n\u001b[1;32m    134\u001b[0m                 \u001b[39m\"\u001b[39m\u001b[39m encoded as NaN natively. For supervised learning, you might want\u001b[39m\u001b[39m\"\u001b[39m\n\u001b[0;32m   (...)\u001b[0m\n\u001b[1;32m    144\u001b[0m                 \u001b[39m\"\u001b[39m\u001b[39m#estimators-that-handle-nan-values\u001b[39m\u001b[39m\"\u001b[39m\n\u001b[1;32m    145\u001b[0m             )\n\u001b[0;32m--> 146\u001b[0m         \u001b[39mraise\u001b[39;00m \u001b[39mValueError\u001b[39;00m(msg_err)\n\u001b[1;32m    148\u001b[0m \u001b[39m# for object dtype data, we only check for NaNs (GH-13254)\u001b[39;00m\n\u001b[1;32m    149\u001b[0m \u001b[39melif\u001b[39;00m X\u001b[39m.\u001b[39mdtype \u001b[39m==\u001b[39m np\u001b[39m.\u001b[39mdtype(\u001b[39m\"\u001b[39m\u001b[39mobject\u001b[39m\u001b[39m\"\u001b[39m) \u001b[39mand\u001b[39;00m \u001b[39mnot\u001b[39;00m allow_nan:\n",
            "\u001b[0;31mValueError\u001b[0m: Input y contains NaN."
          ]
        }
      ],
      "source": [
        "model = DecisionTreeClassifier()\n",
        "model.fit(X_train,y_train)"
      ]
    },
    {
      "cell_type": "code",
      "execution_count": null,
      "metadata": {
        "id": "wQZRT-78YrQF"
      },
      "outputs": [],
      "source": [
        "p = model.predict(X_test)"
      ]
    },
    {
      "cell_type": "code",
      "execution_count": null,
      "metadata": {
        "colab": {
          "base_uri": "https://localhost:8080/"
        },
        "id": "SmJ851LwZPfn",
        "outputId": "841c0532-09ad-4570-e3a2-2543b9665dcb"
      },
      "outputs": [
        {
          "data": {
            "text/plain": [
              "0.5727267951883175"
            ]
          },
          "execution_count": 39,
          "metadata": {},
          "output_type": "execute_result"
        }
      ],
      "source": [
        "accuracy_score(y_test, p)"
      ]
    },
    {
      "cell_type": "markdown",
      "metadata": {
        "id": "5O3ESwEj84Zc"
      },
      "source": [
        "Ao tentar prever o Tempo que um morador está na rua utilizando todos os atributos do dataframe encontramos uma acurácia de 0.57 o que nos diz que esse não é o melhor target que podemos utilizar"
      ]
    },
    {
      "cell_type": "code",
      "execution_count": null,
      "metadata": {
        "id": "Nzxn8U-HbZSr"
      },
      "outputs": [],
      "source": [
        "X = df_pred.drop(columns=['COR_R'])\n",
        "y = df_pred['COR_R']\n",
        "\n",
        "X_train, X_test, y_train, y_test = train_test_split(X,y, test_size=0.2, random_state=0)"
      ]
    },
    {
      "cell_type": "code",
      "execution_count": null,
      "metadata": {
        "colab": {
          "base_uri": "https://localhost:8080/"
        },
        "id": "t-nrv82ebZSr",
        "outputId": "77a85255-39ad-48a3-ed3a-392d0a3cfd2b"
      },
      "outputs": [
        {
          "data": {
            "text/plain": [
              "DecisionTreeClassifier(ccp_alpha=0.0, class_weight=None, criterion='gini',\n",
              "                       max_depth=None, max_features=None, max_leaf_nodes=None,\n",
              "                       min_impurity_decrease=0.0, min_impurity_split=None,\n",
              "                       min_samples_leaf=1, min_samples_split=2,\n",
              "                       min_weight_fraction_leaf=0.0, presort='deprecated',\n",
              "                       random_state=None, splitter='best')"
            ]
          },
          "execution_count": 41,
          "metadata": {},
          "output_type": "execute_result"
        }
      ],
      "source": [
        "model = DecisionTreeClassifier()\n",
        "model.fit(X_train,y_train)"
      ]
    },
    {
      "cell_type": "code",
      "execution_count": null,
      "metadata": {
        "colab": {
          "base_uri": "https://localhost:8080/"
        },
        "id": "g5LgAWW_bZSs",
        "outputId": "76106e3b-8573-4140-b9a2-3ce7991050fa"
      },
      "outputs": [
        {
          "data": {
            "text/plain": [
              "0.7787991805431528"
            ]
          },
          "execution_count": 42,
          "metadata": {},
          "output_type": "execute_result"
        }
      ],
      "source": [
        "p = model.predict(X_test)\n",
        "accuracy_score(y_test, p)"
      ]
    },
    {
      "cell_type": "code",
      "execution_count": null,
      "metadata": {
        "id": "4X5NB0MgEBNf"
      },
      "outputs": [],
      "source": [
        "#Criar subconjunto para IDADE\n",
        "X = df_pred.drop(columns=[\"IDADE\"])\n",
        "y = df_pred[\"IDADE\"]\n",
        "X_treino, X_teste,y_treino,  y_teste = train_test_split(X,y, test_size = 0.1)"
      ]
    },
    {
      "cell_type": "code",
      "execution_count": null,
      "metadata": {
        "colab": {
          "base_uri": "https://localhost:8080/"
        },
        "id": "kaDJjKqBDp_i",
        "outputId": "4d699ab7-87fb-4083-c7c1-be09ea20aee5"
      },
      "outputs": [
        {
          "data": {
            "text/plain": [
              "DecisionTreeClassifier(ccp_alpha=0.0, class_weight=None, criterion='gini',\n",
              "                       max_depth=None, max_features=None, max_leaf_nodes=None,\n",
              "                       min_impurity_decrease=0.0, min_impurity_split=None,\n",
              "                       min_samples_leaf=1, min_samples_split=2,\n",
              "                       min_weight_fraction_leaf=0.0, presort='deprecated',\n",
              "                       random_state=None, splitter='best')"
            ]
          },
          "execution_count": 44,
          "metadata": {},
          "output_type": "execute_result"
        }
      ],
      "source": [
        "#Criar modelo\n",
        "modelo = DecisionTreeClassifier()\n",
        "modelo.fit(X_treino,y_treino)"
      ]
    },
    {
      "cell_type": "code",
      "execution_count": null,
      "metadata": {
        "colab": {
          "base_uri": "https://localhost:8080/"
        },
        "id": "obz40dVwc1wv",
        "outputId": "110e2467-e175-4598-e04f-901598831d06"
      },
      "outputs": [
        {
          "data": {
            "text/plain": [
              "0.16598382183002416"
            ]
          },
          "execution_count": 45,
          "metadata": {},
          "output_type": "execute_result"
        }
      ],
      "source": [
        "previsao = modelo.predict(X_teste)\n",
        "accuracy_score(y_teste,previsao)"
      ]
    },
    {
      "cell_type": "markdown",
      "metadata": {
        "id": "EbBsiRk59uBb"
      },
      "source": [
        "A tentativa de prever a idade dos moradores de rua foi a que teve pior acurácia entre nosssos testes com valor de 0.1687"
      ]
    },
    {
      "cell_type": "code",
      "execution_count": null,
      "metadata": {
        "colab": {
          "base_uri": "https://localhost:8080/"
        },
        "id": "cfxVITs6EdC3",
        "outputId": "e196c6e5-9387-4aa1-8192-ab59a8bc372b"
      },
      "outputs": [
        {
          "data": {
            "text/plain": [
              "array([43])"
            ]
          },
          "execution_count": 46,
          "metadata": {},
          "output_type": "execute_result"
        }
      ],
      "source": [
        "# [bolsa, idade, tempo de rua, contato com parente, sexo, cor, grau de instrução]\n",
        "#prever a idade de uma pessoa que\n",
        "previsao = modelo.predict([[1,2,3,1,1,2]])\n",
        "previsao"
      ]
    },
    {
      "cell_type": "markdown",
      "metadata": {
        "id": "Shond3WUGPwV"
      },
      "source": [
        "A idade provavel de um homem com as caracteristicas {1,2,3,1,1,2} é 35 anos."
      ]
    },
    {
      "cell_type": "code",
      "execution_count": null,
      "metadata": {
        "id": "uoI1JhmBLv0Q"
      },
      "outputs": [],
      "source": [
        "#Criar subconjunto para COR/RACA\n",
        "X = df_pred.drop(columns=[\"COR_R\"])\n",
        "y = df_pred[\"COR_R\"]\n",
        "X_treino, X_teste,y_treino,  y_teste = train_test_split(X,y, test_size = 0.1)"
      ]
    },
    {
      "cell_type": "code",
      "execution_count": null,
      "metadata": {
        "colab": {
          "base_uri": "https://localhost:8080/"
        },
        "id": "OL0gyZWzLv0S",
        "outputId": "fa68d442-d55f-407b-c9a6-5033bfb34e17"
      },
      "outputs": [
        {
          "data": {
            "text/plain": [
              "DecisionTreeClassifier(ccp_alpha=0.0, class_weight=None, criterion='gini',\n",
              "                       max_depth=None, max_features=None, max_leaf_nodes=None,\n",
              "                       min_impurity_decrease=0.0, min_impurity_split=None,\n",
              "                       min_samples_leaf=1, min_samples_split=2,\n",
              "                       min_weight_fraction_leaf=0.0, presort='deprecated',\n",
              "                       random_state=None, splitter='best')"
            ]
          },
          "execution_count": 48,
          "metadata": {},
          "output_type": "execute_result"
        }
      ],
      "source": [
        "#Criar modelo\n",
        "modelo = DecisionTreeClassifier()\n",
        "modelo.fit(X_treino,y_treino)"
      ]
    },
    {
      "cell_type": "code",
      "execution_count": null,
      "metadata": {
        "colab": {
          "base_uri": "https://localhost:8080/"
        },
        "id": "6-kYcQV9Lv0T",
        "outputId": "6fde46bd-dd8f-4c80-d26f-4880018c6432"
      },
      "outputs": [
        {
          "data": {
            "text/plain": [
              "array([2])"
            ]
          },
          "execution_count": 49,
          "metadata": {},
          "output_type": "execute_result"
        }
      ],
      "source": [
        "# [bolsa, idade, tempo de rua, contato com parente, sexo, cor, grau de instrução]\n",
        "#prever a idade de uma pessoa que\n",
        "previsao = modelo.predict([[1,60,3,1,1,2]])\n",
        "previsao"
      ]
    },
    {
      "cell_type": "markdown",
      "metadata": {
        "id": "AX7WkgLX-SGd"
      },
      "source": [
        "A Cor provavel de um homem com as caracteristicas {1,2,3,1,1,2} é Parda. Aqui  fica claro que o modelo erra, uma vez que a cor do homem n teste é preta."
      ]
    },
    {
      "cell_type": "code",
      "execution_count": null,
      "metadata": {
        "id": "SzXTYLSVgPYM"
      },
      "outputs": [],
      "source": [
        "classes = [0,1,2,3,4,5]"
      ]
    },
    {
      "cell_type": "code",
      "execution_count": null,
      "metadata": {
        "colab": {
          "base_uri": "https://localhost:8080/",
          "height": 416
        },
        "id": "dyvYyrRBgAjU",
        "outputId": "246d50c9-4f80-4ad9-805d-4e39c3632d83"
      },
      "outputs": [
        {
          "name": "stderr",
          "output_type": "stream",
          "text": [
            "/usr/local/lib/python3.7/dist-packages/sklearn/utils/deprecation.py:144: FutureWarning: The sklearn.metrics.classification module is  deprecated in version 0.22 and will be removed in version 0.24. The corresponding classes / functions should instead be imported from sklearn.metrics. Anything that cannot be imported from sklearn.metrics is now part of the private API.\n",
            "  warnings.warn(message, FutureWarning)\n"
          ]
        },
        {
          "data": {
            "text/plain": [
              "0.7766572118920054"
            ]
          },
          "execution_count": 51,
          "metadata": {},
          "output_type": "execute_result"
        },
        {
          "data": {
            "image/png": "[encoded data removed]",
            "text/plain": [
              "<Figure size 576x396 with 1 Axes>"
            ]
          },
          "metadata": {},
          "output_type": "display_data"
        }
      ],
      "source": [
        "from sklearn.metrics import confusion_matrix\n",
        "from yellowbrick.classifier import ConfusionMatrix\n",
        "\n",
        "cm = ConfusionMatrix(modelo,classes = classes)\n",
        "cm.fit(X_treino, y_treino)\n",
        "cm.score(X_teste, y_teste)"
      ]
    },
    {
      "cell_type": "markdown",
      "metadata": {
        "id": "dHMA-TVC63i4"
      },
      "source": [
        "Utilizando a matriz de confusão conseguimos ver que apesar do modelo utilizado para tentar prever a Cor/raça de um morador de rua ter 0.7791668855386878 de acurácia fica claro que essa previsão não pode ser confiável. Isso ocorre porque os dados estão enviasados considerando que a maior parte dos entrevistados se declarou como parda(4) o modelo irá prever esse valor mesmo que não seja o caso (e quase sempre ele irá acertar)"
      ]
    }
  ],
  "metadata": {
    "accelerator": "TPU",
    "colab": {
      "collapsed_sections": [
        "qB5vjwewxuHw",
        "MDExVXJ1QLfm",
        "-U-CYM7ykMkj",
        "Qsjf2akbOI-9",
        "x5jUaNMpTRuE",
        "lSwaJ4z8jDhU",
        "i7GjrNLejLXo",
        "BRywVYqMTZCP",
        "i5c5BjaCoyNz",
        "JkVHgGYmpxDa"
      ],
      "provenance": []
    },
    "gpuClass": "standard",
    "kernelspec": {
      "display_name": "Python 3.9.6 64-bit",
      "language": "python",
      "name": "python3"
    },
    "language_info": {
      "codemirror_mode": {
        "name": "ipython",
        "version": 3
      },
      "file_extension": ".py",
      "mimetype": "text/x-python",
      "name": "python",
      "nbconvert_exporter": "python",
      "pygments_lexer": "ipython3",
      "version": "3.9.6"
    },
    "vscode": {
      "interpreter": {
        "hash": "31f2aee4e71d21fbe5cf8b01ff0e069b9275f58929596ceb00d14d90e3e16cd6"
      }
    }
  },
  "nbformat": 4,
  "nbformat_minor": 0
}
